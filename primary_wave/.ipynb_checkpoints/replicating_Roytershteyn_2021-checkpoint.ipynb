{
 "cells": [
  {
   "cell_type": "markdown",
   "id": "59043ae3-97f7-42f5-b32e-b4d58389b478",
   "metadata": {},
   "source": [
    "June 2nd, 2025\n",
    "\n",
    "## Reduced QLT hot + cold electron whistler compared with [Roytershteyn and Delzanno PoP 2021](https://pubs.aip.org/aip/pop/article-abstract/28/4/042903/263604/Nonlinear-coupling-of-whistler-waves-to-oblique?redirectedFrom=fulltext)"
   ]
  },
  {
   "cell_type": "code",
   "execution_count": 1,
   "id": "50c0317c-39a3-4e18-9e83-c60138eaded6",
   "metadata": {},
   "outputs": [],
   "source": [
    "import sys, os\n",
    "sys.path.append(os.path.abspath(os.path.join('..')))"
   ]
  },
  {
   "cell_type": "code",
   "execution_count": 2,
   "id": "af91a5fa-c454-477b-91b8-4ee3160d4eed",
   "metadata": {},
   "outputs": [],
   "source": [
    "import numpy as np\n",
    "import matplotlib.pyplot as plt\n",
    "from scipy.special import wofz \n",
    "import scipy"
   ]
  },
  {
   "cell_type": "code",
   "execution_count": 3,
   "id": "da1ac8fa-e856-42c0-a9b2-6414deba9b33",
   "metadata": {},
   "outputs": [],
   "source": [
    "%matplotlib inline\n",
    "import matplotlib\n",
    "font = {'family' : 'serif',\n",
    "        'size'   : 14}\n",
    "\n",
    "matplotlib.rc('font', **font)\n",
    "matplotlib.rc('xtick', labelsize=14) \n",
    "matplotlib.rc('ytick', labelsize=14) "
   ]
  },
  {
   "cell_type": "code",
   "execution_count": 4,
   "id": "75887d13-8759-4053-8e66-d13fa9e34754",
   "metadata": {},
   "outputs": [],
   "source": [
    "def Z(xi):\n",
    "    # plasma dispersion function\n",
    "    return 1j * np.sqrt(np.pi) * wofz(xi)\n",
    "\n",
    "def xi_1(z, q, beta_par, M=1, ions=False):\n",
    "    # phase velocity (with cycltron frequency)\n",
    "    if ions: \n",
    "        return (M*z+1)/(np.abs(q)*np.sqrt(beta_par)*np.sqrt(M))\n",
    "    else:\n",
    "        return (z-1)/(np.abs(q)*np.sqrt(beta_par))\n",
    "\n",
    "def xi_0(z, q, beta_par, M=1):\n",
    "    # phase velocity \n",
    "    return z/(np.abs(q)*np.sqrt(beta_par)*np.sqrt(M))\n",
    "\n",
    "def eta(z, A, q, beta_par):\n",
    "    # non-dimensional number\n",
    "    return (z*(A+1) - A)/(np.abs(q) * np.sqrt(beta_par))"
   ]
  },
  {
   "cell_type": "markdown",
   "id": "ee329d8f-4f83-4452-b26c-cc441b3fc1ba",
   "metadata": {},
   "source": [
    "### QLT equations\n",
    "\\begin{align*}\n",
    "    \\frac{\\mathrm{d}\\beta^{r}_{\\perp c}}{\\mathrm{d} \\tau} &= -2 \\sqrt{\\pi} \\int_{0}^{\\infty}\\frac{\\mathcal{E}(q, \\tau)}{q^2} \\mathrm{Re}\\{\\xi_{c}^{1}\\} \\exp(-\\mathrm{Re}\\{\\xi_{c}^{1}\\}^2)\\left((\\mathrm{Re}\\{z\\} -1)A_{c} + \\mathrm{Re}\\{z\\} \\right)\\mathrm{d}q,\\\\\n",
    "    \\frac{\\mathrm{d}\\beta^{r}_{\\| c}}{\\mathrm{d} \\tau} &=  4\\sqrt{\\pi} \\int_{0}^{\\infty}\\frac{\\mathcal{E}(q, \\tau)}{q^2} \\mathrm{Re}\\{\\xi_{c}^{0} + \\xi_{c}^{1}\\} \\exp(-\\mathrm{Re}\\{\\xi_{c}^{1}\\}^2)\\left((\\mathrm{Re}\\{z\\} -1)A_{c} + \\mathrm{Re}\\{z\\} \\right)\\mathrm{d}q,\\\\\n",
    "    \\frac{\\mathrm{d}\\beta^{r}_{\\perp h}}{\\mathrm{d} \\tau} &= -2 \\sqrt{\\pi} \\int_{0}^{\\infty}\\frac{\\mathcal{E}(q, \\tau)}{q^2} \\mathrm{Re}\\{\\xi_{h}^{1}\\} \\exp(-\\mathrm{Re}\\{\\xi_{h}^{1}\\}^2)\\left((\\mathrm{Re}\\{z\\} -1)A_{h} + \\mathrm{Re}\\{z\\} \\right)\\mathrm{d}q,\\\\\n",
    "    \\frac{\\mathrm{d}\\beta^{r}_{\\| h}}{\\mathrm{d} \\tau} &=  4\\sqrt{\\pi} \\int_{0}^{\\infty}\\frac{\\mathcal{E}(q, \\tau)}{q^2} \\mathrm{Re}\\{\\xi_{h}^{0} + \\xi_{h}^{1}\\} \\exp(-\\mathrm{Re}\\{\\xi_{h}^{1}\\}^2)\\left((\\mathrm{Re}\\{z\\} -1)A_{h} + \\mathrm{Re}\\{z\\} \\right)\\mathrm{d}q,\\\\\n",
    "    \\partial_{\\tau} \\mathcal{E}(q, \\tau) &= 2 \\mathrm{Im}\\{z\\} \\mathcal{E}(q, \\tau),\n",
    "\\end{align*}\n",
    "\n",
    "The dispersion relation reads as \n",
    "\\begin{equation*}\n",
    "    q^{2} - \\xi_{i}^{0}Z(\\xi_{i}^{1})- \\left(1-\\delta\\right)\\left(A_{c} + \\eta_{c} Z(\\xi_{c}^{1}\\right) )- \\delta \\left(A_{h} + \\eta_{h} Z(\\xi_{h}^{1})\\right) = 0, \\qquad \\mathrm{with} \\qquad \\eta_{s} \\coloneqq \\frac{(A_{s} + 1) z - A_{s}}{q \\sqrt{\\beta_{\\|s}}}, \\qquad \\delta \\coloneqq \\frac{n_{h}}{n_{0}}, \\qquad \\xi_{s}^{1} = \\frac{z-1}{|q|\\sqrt{\\beta_{\\|s}}}.\n",
    "\\end{equation*}"
   ]
  },
  {
   "cell_type": "markdown",
   "id": "9c69bd88-d368-4a94-a38e-745b8c8a9614",
   "metadata": {},
   "source": [
    " ------ Reference parameters  ------ \n",
    " \n",
    "Path to the simulation data ../:\n",
    "\n",
    "Lx=0.00441942, Ly=0.00413367, Lz=62.8319\n",
    "\n",
    "nx=1, ny=1, nz=15200\n",
    "\n",
    "dx=0.00441942, dy=0.00413367, dz=0.00413367\n",
    "\n",
    "dt*wpe=0.004051\n",
    "\n",
    "mi/me=1836\n",
    "\n",
    "Reference wpe/wce (hot density) = 4\n",
    "\n",
    "vthe/c=0.00441942\n",
    "\n",
    " ------ Summary of Loaded initial condition (average values) ------ \n",
    " \n",
    "Bz0/B0 = 1\n",
    "\n",
    "nec/neH = 3.99881\n",
    "\n",
    "nec/ni  = 0.799952\n",
    "\n",
    "ni/neH  = 4.99881\n",
    "\n",
    "ni/(neC+neH) = 1\n",
    "\n",
    "wpe/wce with ion (total) density = 4\n",
    "\n",
    "wpe/wce with hot density = 1.78907\n",
    "\n",
    " ------ Parameters of the cold electrons (average values) ------ \n",
    " \n",
    "fraction of total density  = 0.799952\n",
    "\n",
    "parallel beta              = 0.000499965\n",
    "\n",
    "perp.    beta              = 0.000499965\n",
    "\n",
    "T_per/T_par                = 0.999999\n",
    "\n",
    " ------ Parameters of the hot electrons (average values) ------ \n",
    " \n",
    "fraction of total density  = 0.200048\n",
    "\n",
    "parallel beta              = 0.0256747\n",
    "\n",
    "perp.    beta              = 0.130648\n",
    "\n",
    "T_per/T_par                = 5.08858\n",
    "\n",
    "\n",
    "------ Parameters of the ions (average values) ------ \n",
    "\n",
    "parallel beta              = 0.000624881\n",
    "\n",
    "perp.    beta              = 0.000624949\n",
    "\n",
    "T_per/T_par                = 1.00011\n",
    "\n"
   ]
  },
  {
   "cell_type": "code",
   "execution_count": 5,
   "id": "cc94e869-70c8-4f5f-a7d4-52472b487d42",
   "metadata": {},
   "outputs": [],
   "source": [
    "# # dispersion relation \n",
    "# delta =  0.2 # ratio of hot electron population\n",
    "# B0 = 0.25\n",
    "\n",
    "# # hot \n",
    "# beta_par_h_init = 0.025/delta # initial beta parallel \n",
    "# A_h_init = 4 # 4 # initial anisotropic level\n",
    "\n",
    "# # cold\n",
    "# beta_par_c_init = beta_par_h_init/200 # beta_par_h_init/200 # initial beta parallel \n",
    "# A_c_init = 0. # initial anisotropic level \n",
    "\n",
    "# # ions \n",
    "# beta_par_i_init = beta_par_c_init\n",
    "# q_vec = np.linspace(0.7, 1.8, 100) # vector with all normalized wavenumber"
   ]
  },
  {
   "cell_type": "code",
   "execution_count": 6,
   "id": "8cb2cfac-8d1f-4a17-8f27-27e79db01379",
   "metadata": {},
   "outputs": [],
   "source": [
    "# High-anisotropy case\n",
    "# with cold electrons nc/n0 != 0 \n",
    "delta =  0.2 # ratio of hot electron population\n",
    "B0 = 0.25\n",
    "\n",
    "# hot \n",
    "beta_par_h_init = 0.1283732748302435 #0.025000029614592002/delta # initial beta parallel \n",
    "A_h_init = 4.08858 # 4 # initial anisotropic level\n",
    "\n",
    "# cold\n",
    "beta_par_c_init = (0.000499965)/(1-delta) # beta_par_h_init/200 # initial beta parallel \n",
    "A_c_init = 0. # initial anisotropic level \n",
    "\n",
    "# ions \n",
    "beta_par_i_init = 0.000624881\n",
    "q_vec = np.linspace(0.7, 2, 100) # vector with all normalized wavenumber"
   ]
  },
  {
   "cell_type": "code",
   "execution_count": 7,
   "id": "89484b7d-10b1-4708-8565-4b193207bae3",
   "metadata": {},
   "outputs": [],
   "source": [
    "t_max = 500\n",
    "\n",
    "beta_perp_c_init =  (A_c_init + 1) * beta_par_c_init  # initial beta perpendicular \n",
    "beta_perp_h_init =  (A_h_init + 1) * beta_par_h_init  # initial beta perpendicular \n",
    "\n",
    "dB_init = 1e-8 * np.ones(len(q_vec)) # initial wave energy density noise level"
   ]
  },
  {
   "cell_type": "code",
   "execution_count": 8,
   "id": "d8c54c08-5b7a-4fd9-b1bd-5d21f76643d1",
   "metadata": {},
   "outputs": [],
   "source": [
    "# dispersion relation \n",
    "def dispersion_relation(q, \n",
    "                        beta_par_c,\n",
    "                        beta_par_h, \n",
    "                        beta_par_i,\n",
    "                        A_c,\n",
    "                        A_h, \n",
    "                        delta, \n",
    "                        M=1836):\n",
    "    return lambda z: q**2 - xi_0(z=z, q=q, beta_par=beta_par_i, M=M)*Z(xi=xi_1(z=z, q=q, beta_par=beta_par_i, M=M))\\\n",
    "                           - (1-delta)*(A_c + eta(z, A=A_c, q=q, beta_par=beta_par_c)*Z(xi=xi_1(z, q=q, beta_par=beta_par_c)))\\\n",
    "                           - delta *(A_h + eta(z, A=A_h, q=q, beta_par=beta_par_h)*Z(xi=xi_1(z, q=q, beta_par=beta_par_h)))\n",
    "    "
   ]
  },
  {
   "cell_type": "code",
   "execution_count": 9,
   "id": "8b6ca8ed-b065-4dab-9cc2-ebd2b652c01e",
   "metadata": {},
   "outputs": [],
   "source": [
    "def get_z_vec(q_vec, A_h, A_c, beta_par_c, beta_par_h, beta_par_i, delta):\n",
    "    z_vec = np.zeros(len(q_vec), dtype=\"complex128\")\n",
    "    for ii, q in enumerate(q_vec):\n",
    "        if q < 1.5:\n",
    "            ic1 = 0.55+ 1e-4j\n",
    "            ic2 = 0.8+ 1e-4j\n",
    "        else:\n",
    "            ic1 = 0.65+ 1e-4j\n",
    "            ic2 = 0.8+ 1e-4j\n",
    "        try:\n",
    "            z_vec[ii] = scipy.optimize.newton(dispersion_relation(q=q, A_c=A_c, beta_par_c=beta_par_c, A_h=A_h, beta_par_h=beta_par_h, beta_par_i=beta_par_i, delta=delta), ic1, tol=1e-15)\n",
    "            if dispersion_relation(q=q, A_c=A_c, beta_par_c=beta_par_c, A_h=A_h, beta_par_h=beta_par_h, beta_par_i=beta_par_i, delta=delta)(z_vec[ii]) > 1e-10:\n",
    "                print(\"q1=\", q)\n",
    "                print(\"residual1=\", np.abs(dispersion_relation(q=q, A_c=A_c, beta_par_c=beta_par_c, A_h=A_h, beta_par_h=beta_par_h, beta_par_i=beta_par_i, delta=delta)(z_vec[ii])))\n",
    "        except:\n",
    "            z_vec[ii] = scipy.optimize.newton(dispersion_relation(q=q, A_c=A_c, beta_par_c=beta_par_c, A_h=A_h, beta_par_h=beta_par_h, beta_par_i=beta_par_i, delta=delta), ic2, tol=1e-15)\n",
    "            if dispersion_relation(q=q, A_c=A_c, beta_par_c=beta_par_c, A_h=A_h, beta_par_h=beta_par_h, beta_par_i=beta_par_i, delta=delta)(z_vec[ii]) > 1e-10:\n",
    "                print(\"q3=\", q)\n",
    "                print(\"residual3=\", np.abs(dispersion_relation(q=q, A_c=A_c, beta_par_c=beta_par_c, A_h=A_h, beta_par_h=beta_par_h, beta_par_i=beta_par_i, delta=delta)(z_vec[ii])))\n",
    "    return z_vec"
   ]
  },
  {
   "cell_type": "code",
   "execution_count": 10,
   "id": "dceaa59b-2e6d-4d4e-ae25-e3c51f372c6b",
   "metadata": {},
   "outputs": [],
   "source": [
    "sol_ = get_z_vec(q_vec=q_vec, A_c=A_c_init, beta_par_c=beta_par_c_init, beta_par_i=beta_par_i_init, A_h=A_h_init, beta_par_h=beta_par_h_init, delta=delta)"
   ]
  },
  {
   "cell_type": "code",
   "execution_count": 11,
   "id": "2fec92de-f27c-44e5-b4f7-ad656ca7ffef",
   "metadata": {},
   "outputs": [],
   "source": [
    "data = np.zeros((100, 3))\n",
    "with open(\"../data/1D-analog-of-2D-long/disp.dat\", \"r\") as file:\n",
    "        ii = 0 \n",
    "        for line in file:\n",
    "            # Process each line\n",
    "            s = line.strip().split(\",\")[0]\n",
    "            data[ii, :] = np.array(s.split(), dtype=float)\n",
    "            ii+=1"
   ]
  },
  {
   "cell_type": "code",
   "execution_count": 12,
   "id": "21dc5599-2225-4e01-9f72-93e0f527fad0",
   "metadata": {},
   "outputs": [
    {
     "data": {
      "image/png": "[encoded data removed]",
      "text/plain": [
       "<Figure size 700x500 with 1 Axes>"
      ]
     },
     "metadata": {},
     "output_type": "display_data"
    }
   ],
   "source": [
    "fig, ax = plt.subplots(figsize=(7, 5))\n",
    "ax.plot(q_vec, sol_.real, linewidth=1, color=\"tab:blue\", label=\"Opal QLT\")\n",
    "ax.plot(data[:, 0], -data[:, 1], color=\"tab:red\", ls=\"--\", label=\"Vadim PIC\")\n",
    "\n",
    "ax.set_ylabel('$\\omega_r/|\\Omega_{ce}|$')\n",
    "ax.set_xlabel(r'$q\\coloneq ck/ \\omega_{pe} = k d_{e}$')\n",
    "ax.grid(alpha=0.5)\n",
    "ax.set_title(r\"$n_{c}/n_{0}=$\" + str(1-delta))\n",
    "ax.spines['right'].set_visible(False)\n",
    "ax.spines['top'].set_visible(False)\n",
    "legend = ax.legend(loc='upper left', ncols=1, fancybox=False, shadow=False, fontsize=12)\n",
    "legend.get_frame().set_alpha(0)\n",
    "\n",
    "\n",
    "plt.tight_layout()\n",
    "plt.savefig(\"../figs/vadim_2021/whistler_vadim_wr.png\", dpi=300, bbox_inches='tight')"
   ]
  },
  {
   "cell_type": "code",
   "execution_count": 13,
   "id": "82650b4c-cce5-4e08-a964-98456e59c3e6",
   "metadata": {},
   "outputs": [
    {
     "data": {
      "image/png": "[encoded data removed]",
      "text/plain": [
       "<Figure size 700x500 with 1 Axes>"
      ]
     },
     "metadata": {},
     "output_type": "display_data"
    }
   ],
   "source": [
    "fig, ax = plt.subplots(figsize=(7, 5))\n",
    "ax.plot(q_vec, sol_.imag, color=\"tab:blue\", linewidth=1, label=\"Opal QLT\")\n",
    "ax.plot(data[:, 0], data[:, 2], color=\"tab:red\", ls=\"--\", linewidth=1, label=\"Vadim PIC\")\n",
    "ax.set_ylabel('$\\gamma/|\\Omega_{ce}|$', rotation=90)\n",
    "ax.set_xlabel(r'$q\\coloneq ck/ \\omega_{pe} = kd_{e}$')\n",
    "ax.set_title(r\"$n_{c}/n_{0}=$\" + str(1-delta))\n",
    "\n",
    "legend = ax.legend(loc='upper right', ncols=1, fancybox=False, shadow=False, fontsize=12)\n",
    "legend.get_frame().set_alpha(0)\n",
    "\n",
    "ax.grid(alpha=0.5)\n",
    "ax.axhline(0, color=\"k\")\n",
    "ax.spines['right'].set_visible(False)\n",
    "ax.spines['top'].set_visible(False)\n",
    "plt.tight_layout()\n",
    "plt.savefig(\"../figs/vadim_2021/whistler_vadim_gamma.png\", dpi=300, bbox_inches='tight')"
   ]
  },
  {
   "cell_type": "markdown",
   "id": "f7b5a8a4-429c-47e9-84a6-5e17e5999e1b",
   "metadata": {},
   "source": [
    "\\begin{align*}\n",
    "    \\frac{\\mathrm{d}\\beta^{r}_{\\perp c}}{\\mathrm{d} \\tau} &= -2 \\sqrt{\\pi} \\int_{0}^{\\infty}\\frac{\\mathcal{E}(q, \\tau)}{q^2} \\mathrm{Re}\\{\\xi_{c}^{1}\\} \\exp(-\\mathrm{Re}\\{\\xi_{c}^{1}\\}^2)\\left((\\mathrm{Re}\\{z\\} -1)A_{c} + \\mathrm{Re}\\{z\\} \\right)\\mathrm{d}q,\\\\\n",
    "    \\frac{\\mathrm{d}\\beta^{r}_{\\| c}}{\\mathrm{d} \\tau} &=  4\\sqrt{\\pi} \\int_{0}^{\\infty}\\frac{\\mathcal{E}(q, \\tau)}{q^2} \\mathrm{Re}\\{\\xi_{c}^{0} + \\xi_{c}^{1}\\} \\exp(-\\mathrm{Re}\\{\\xi_{c}^{1}\\}^2)\\left((\\mathrm{Re}\\{z\\} -1)A_{c} + \\mathrm{Re}\\{z\\} \\right)\\mathrm{d}q,\\\\\n",
    "    \\frac{\\mathrm{d}\\beta^{r}_{\\perp h}}{\\mathrm{d} \\tau} &= -2 \\sqrt{\\pi} \\int_{0}^{\\infty}\\frac{\\mathcal{E}(q, \\tau)}{q^2} \\mathrm{Re}\\{\\xi_{h}^{1}\\} \\exp(-\\mathrm{Re}\\{\\xi_{h}^{1}\\}^2)\\left((\\mathrm{Re}\\{z\\} -1)A_{h} + \\mathrm{Re}\\{z\\} \\right)\\mathrm{d}q,\\\\\n",
    "    \\frac{\\mathrm{d}\\beta^{r}_{\\| h}}{\\mathrm{d} \\tau} &=  4\\sqrt{\\pi} \\int_{0}^{\\infty}\\frac{\\mathcal{E}(q, \\tau)}{q^2} \\mathrm{Re}\\{\\xi_{h}^{0} + \\xi_{h}^{1}\\} \\exp(-\\mathrm{Re}\\{\\xi_{h}^{1}\\}^2)\\left((\\mathrm{Re}\\{z\\} -1)A_{h} + \\mathrm{Re}\\{z\\} \\right)\\mathrm{d}q,\\\\\n",
    "    \\partial_{\\tau} \\mathcal{E}(q, \\tau) &= 2 \\mathrm{Im}\\{z\\} \\mathcal{E}(q, \\tau),\n",
    "\\end{align*}"
   ]
  },
  {
   "cell_type": "code",
   "execution_count": 14,
   "id": "d463afc6-65d0-4314-8365-088d570c0537",
   "metadata": {},
   "outputs": [],
   "source": [
    "def dB_dt(gamma, B_vec):\n",
    "    return 2*gamma*B_vec"
   ]
  },
  {
   "cell_type": "code",
   "execution_count": 15,
   "id": "888fde3e-a450-448f-a927-f4045f2cbe7d",
   "metadata": {},
   "outputs": [],
   "source": [
    "def dbetaperp_dt(A, q_vec, B_vec, z_vec, dq, beta_par):\n",
    "    # Eq. (2) rhs\n",
    "    rhs = np.zeros(len(q_vec)) \n",
    "    for ii in range(len(q_vec)):\n",
    "        # phase velocity normalized \n",
    "        xi_1_e = xi_1(z=z_vec[ii], q=q_vec[ii], beta_par=beta_par) \n",
    "        xi_0_e = xi_0(z=z_vec[ii], q=q_vec[ii], beta_par=beta_par) \n",
    "        # rhs \n",
    "        rhs[ii] = (B_vec[ii] / (q_vec[ii]**2)) * (xi_0_e.real - xi_1_e.real) * np.exp(-(xi_1_e.real)**2) * ((z_vec[ii].real - 1)*A + z_vec[ii].real)\n",
    "    return 2 *np.sqrt(np.pi) * np.sum((rhs[:-1] + rhs[1:]) * 0.5 * dq) # trapezoidal rule"
   ]
  },
  {
   "cell_type": "code",
   "execution_count": 16,
   "id": "d38b9900-d5ef-4792-960f-bd22e96d2304",
   "metadata": {},
   "outputs": [],
   "source": [
    "def dbetapar_dt(A, q_vec, B_vec, z_vec, dq, beta_par):\n",
    "    # Eq. (3) rhs\n",
    "    rhs =  np.zeros(len(q_vec))  \n",
    "    for ii in range(len(q_vec)):\n",
    "        # phase velocity normalized \n",
    "        xi_1_e = xi_1(z=z_vec[ii], q=q_vec[ii], beta_par=beta_par) \n",
    "        xi_0_e = xi_0(z=z_vec[ii], q=q_vec[ii], beta_par=beta_par) \n",
    "        # rhs \n",
    "        rhs[ii] = (B_vec[ii] / (q_vec[ii]**2)) * (xi_1_e.real) * np.exp(-(xi_1_e.real)**2) * ((z_vec[ii].real - 1)*A + z_vec[ii].real)\n",
    "    return  4 * np.sqrt(np.pi) * np.sum((rhs[:-1] + rhs[1:]) * 0.5 * dq) # trapezoidal rule"
   ]
  },
  {
   "cell_type": "code",
   "execution_count": 17,
   "id": "5e357b69-8df0-42db-9850-4907cf1902b2",
   "metadata": {},
   "outputs": [],
   "source": [
    "def dydt(t, f, q_vec, delta, beta_par_i):\n",
    "    A_c = f[0]/f[1]-1\n",
    "    A_h = f[2]/f[3]-1\n",
    "    # dispersion solver\n",
    "    z_vec = get_z_vec(q_vec, A_c=A_c, beta_par_c=f[1], A_h=A_h, beta_par_h=f[3], delta=delta, beta_par_i=beta_par_i)\n",
    "\n",
    "    # cold \n",
    "    # beta perpendicular \n",
    "    rhs_beta_perp_c = dbetaperp_dt(A=A_c, q_vec=q_vec, B_vec=f[4:], z_vec=z_vec, dq=q_vec[1]-q_vec[0], beta_par=f[1])\n",
    "    # beta parallel\n",
    "    rhs_beta_par_c =  dbetapar_dt(A=A_c,  q_vec=q_vec, B_vec=f[4:], z_vec=z_vec, dq=q_vec[1]-q_vec[0], beta_par=f[1])\n",
    "\n",
    "    # hot \n",
    "    # beta perpendicular \n",
    "    rhs_beta_perp_h = dbetaperp_dt(A=A_h, q_vec=q_vec, B_vec=f[4:], z_vec=z_vec, dq=q_vec[1]-q_vec[0], beta_par=f[3])\n",
    "    # beta parallel\n",
    "    rhs_beta_par_h =  dbetapar_dt(A=A_h,  q_vec=q_vec, B_vec=f[4:], z_vec=z_vec, dq=q_vec[1]-q_vec[0], beta_par=f[3])\n",
    "\n",
    "    \n",
    "    # magnetic energy \n",
    "    rhs_B = dB_dt(gamma=z_vec.imag, B_vec=f[4:])\n",
    "    print(\"time = \", t)\n",
    "    \n",
    "    return np.concatenate(([rhs_beta_perp_c], [rhs_beta_par_c], [rhs_beta_perp_h], [rhs_beta_par_h], rhs_B))"
   ]
  },
  {
   "cell_type": "code",
   "execution_count": null,
   "id": "9bc4c9d2-a64a-4c74-ba6b-edad12da8d04",
   "metadata": {
    "scrolled": true
   },
   "outputs": [
    {
     "name": "stdout",
     "output_type": "stream",
     "text": [
      "time =  0.0\n",
      "time =  231511.49040107633\n",
      "time =  0.0\n",
      "time =  0.0\n",
      "time =  0.0\n",
      "time =  0.0\n",
      "time =  0.0\n",
      "time =  0.0\n",
      "time =  0.0\n",
      "time =  0.0\n",
      "time =  0.0\n",
      "time =  0.0\n",
      "time =  0.0\n",
      "time =  0.0\n",
      "time =  0.0\n",
      "time =  0.0\n",
      "time =  0.0\n",
      "time =  0.0\n",
      "time =  0.0\n",
      "time =  0.0\n",
      "time =  0.0\n",
      "time =  0.0\n",
      "time =  0.0\n",
      "time =  0.0\n",
      "time =  0.0\n",
      "time =  0.0\n",
      "time =  0.0\n",
      "time =  0.0\n",
      "time =  0.0\n",
      "time =  0.0\n",
      "time =  0.0\n",
      "time =  0.0\n",
      "time =  0.0\n",
      "time =  0.0\n",
      "time =  0.0\n",
      "time =  0.0\n",
      "time =  0.0\n",
      "time =  0.0\n",
      "time =  0.0\n",
      "time =  0.0\n",
      "time =  0.0\n",
      "time =  0.0\n",
      "time =  0.0\n",
      "time =  0.0\n",
      "time =  0.0\n",
      "time =  0.0\n",
      "time =  0.0\n",
      "time =  0.0\n",
      "time =  0.0\n",
      "time =  0.0\n",
      "time =  0.0\n",
      "time =  0.0\n",
      "time =  0.0\n",
      "time =  0.0\n",
      "time =  0.0\n",
      "time =  0.0\n",
      "time =  0.0\n",
      "time =  0.0\n",
      "time =  0.0\n",
      "time =  0.0\n",
      "time =  0.0\n",
      "time =  0.0\n",
      "time =  0.0\n",
      "time =  0.0\n",
      "time =  0.0\n",
      "time =  0.0\n",
      "time =  0.0\n",
      "time =  0.0\n",
      "time =  0.0\n",
      "time =  0.0\n",
      "time =  0.0\n",
      "time =  0.0\n",
      "time =  0.0\n",
      "time =  0.0\n",
      "time =  0.0\n",
      "time =  0.0\n",
      "time =  0.0\n",
      "time =  0.0\n",
      "time =  0.0\n",
      "time =  0.0\n",
      "time =  0.0\n",
      "time =  0.0\n",
      "time =  0.0\n",
      "time =  0.0\n",
      "time =  0.0\n",
      "time =  0.0\n",
      "time =  0.0\n",
      "time =  0.0\n",
      "time =  0.0\n",
      "time =  0.0\n",
      "time =  0.0\n",
      "time =  0.0\n",
      "time =  0.0\n",
      "time =  0.0\n",
      "time =  0.0\n",
      "time =  0.0\n",
      "time =  0.0\n",
      "time =  0.0\n",
      "time =  0.0\n",
      "time =  0.0\n",
      "time =  0.0\n",
      "time =  0.0\n",
      "time =  0.0\n",
      "time =  0.0\n",
      "time =  0.0\n",
      "time =  0.0\n",
      "time =  0.0\n",
      "time =  0.23962312315424994\n",
      "time =  0.23962312315424994\n",
      "time =  0.4792462463084999\n",
      "time =  0.4792462463084999\n",
      "time =  2.875477477850999\n",
      "time =  2.875477477850999\n",
      "time =  5.271708709393498\n",
      "time =  5.271708709393498\n",
      "time =  16.04933684100837\n",
      "time =  16.04933684100837\n",
      "time =  26.82696497262324\n",
      "time =  26.82696497262324\n",
      "time =  23.17278639270329\n",
      "time =  23.17278639270329\n",
      "time =  23.17278639270329\n",
      "time =  23.17278639270329\n",
      "time =  23.17278639270329\n",
      "time =  23.17278639270329\n",
      "time =  23.17278639270329\n",
      "time =  23.17278639270329\n",
      "time =  23.17278639270329\n",
      "time =  23.17278639270329\n",
      "time =  23.17278639270329\n",
      "time =  23.17278639270329\n",
      "time =  23.17278639270329\n",
      "time =  23.17278639270329\n",
      "time =  23.17278639270329\n",
      "time =  23.17278639270329\n",
      "time =  23.17278639270329\n"
     ]
    }
   ],
   "source": [
    "result = scipy.integrate.solve_ivp(fun=dydt, \n",
    "                                   t_span=[0, t_max], \n",
    "                                   y0=np.concatenate(([beta_perp_c_init], [beta_par_c_init], [beta_perp_h_init], [beta_par_h_init], dB_init)), \n",
    "                                   args=(q_vec, delta, beta_par_i_init),\n",
    "                                   atol=1e-8, rtol=1e-8, method='BDF')"
   ]
  },
  {
   "cell_type": "code",
   "execution_count": null,
   "id": "ed8204dc-435b-49b3-b8bf-0170fe14ea73",
   "metadata": {},
   "outputs": [],
   "source": [
    "# Vadim PIC solution \n",
    "# nc = 0\n",
    "t_PIC = np.load(\"../data/1D-analog-of-2D-long/spectrum_in_time/t_vadim_PoP_2021.npy\")\n",
    "\n",
    "pzz_eC = np.load(\"../data/1D-analog-of-2D-long/spectrum_in_time/pzz_eC_vadim_PoP_2021.npy\")\n",
    "pxx_eC = np.load(\"../data/1D-analog-of-2D-long/spectrum_in_time/pxx_eC_vadim_PoP_2021.npy\")\n",
    "pyy_eC = np.load(\"../data/1D-analog-of-2D-long/spectrum_in_time/pyy_eC_vadim_PoP_2021.npy\")\n",
    "\n",
    "\n",
    "betaC_par = (2*pzz_eC/(B0**2))/(1-delta)\n",
    "betaC_perp = ((pxx_eC+pyy_eC)/(B0**2))/(1-delta)"
   ]
  },
  {
   "cell_type": "code",
   "execution_count": null,
   "id": "bb2cf943-405d-4448-9de8-e519b1bc0348",
   "metadata": {},
   "outputs": [],
   "source": [
    "fig, ax = plt.subplots(figsize=(6, 4))\n",
    "\n",
    "ax.plot(result.t, result.y[0], ls=\"-\", color=\"tab:red\", label=r\"QLT $\\beta_{\\perp c}$\", linewidth=2)\n",
    "ax.plot(result.t, result.y[1], ls=\"-\", color=\"tab:blue\", label=r\"QLT $\\beta_{\\| c}$\", linewidth=2)\n",
    "\n",
    "\n",
    "ax.plot(t_PIC, betaC_perp, ls=\":\", color=\"tab:red\", label=r\"PIC $\\beta_{\\perp h}$\", linewidth=5)\n",
    "ax.plot(t_PIC, betaC_par, ls=\":\", color=\"tab:blue\", label=r\"PIC $\\beta_{\\| h}$\", linewidth=5)\n",
    "\n",
    "ax.set_xlabel(r'$\\tau \\coloneq t|\\Omega_{ce}|$')\n",
    "ax.set_ylabel(r'$\\beta_{c}$')\n",
    "\n",
    "ax.set_xlim(0, t_max)\n",
    "legend = ax.legend(loc='center right', ncols=2, fancybox=False, shadow=False, fontsize=12)\n",
    "legend.get_frame().set_alpha(0)\n",
    "\n",
    "plt.tight_layout()\n",
    "plt.savefig(\"../figs/vadim_2021/vadim_2021_cold_beta_res.png\", dpi=300, bbox_inches='tight')"
   ]
  },
  {
   "cell_type": "code",
   "execution_count": null,
   "id": "8df76687-5dec-4c57-8070-a8421e6e2d75",
   "metadata": {},
   "outputs": [],
   "source": [
    "# Vadim PIC solution \n",
    "pzz_eH = np.load(\"../data/1D-analog-of-2D-long/spectrum_in_time/pzz_eH_vadim_PoP_2021.npy\")\n",
    "pxx_eH = np.load(\"../data/1D-analog-of-2D-long/spectrum_in_time/pxx_eH_vadim_PoP_2021.npy\")\n",
    "pyy_eH = np.load(\"../data/1D-analog-of-2D-long/spectrum_in_time/pyy_eH_vadim_PoP_2021.npy\")\n",
    "\n",
    "betaH_par = 2*pzz_eH/(B0**2)/(delta)\n",
    "betaH_perp = (pxx_eH+pyy_eH)/(B0**2)/(delta)"
   ]
  },
  {
   "cell_type": "code",
   "execution_count": null,
   "id": "f1d9b0b2-78cd-4565-bb5a-1698f4900d16",
   "metadata": {},
   "outputs": [],
   "source": [
    "betaH_perp[0]"
   ]
  },
  {
   "cell_type": "code",
   "execution_count": null,
   "id": "63b52dcf-43e1-4566-af62-04472dca25cf",
   "metadata": {},
   "outputs": [],
   "source": [
    "fig, ax = plt.subplots(figsize=(6, 4))\n",
    "\n",
    "ax.plot(result.t, result.y[2], ls=\"-\", color=\"tab:red\", label=r\"QLT $\\beta_{\\perp h}$\", linewidth=2)\n",
    "ax.plot(result.t, result.y[3], ls=\"-\", color=\"tab:blue\", label=r\"QLT $\\beta_{\\| h}$\", linewidth=2)\n",
    "\n",
    "ax.plot(t_PIC, betaH_perp, ls=\":\", color=\"tab:red\", label=r\"1D3V PIC $\\beta_{\\perp h}$\", linewidth=5)\n",
    "ax.plot(t_PIC, betaH_par, ls=\":\", color=\"tab:blue\", label=r\"1D3V PIC $\\beta_{\\| h}$\", linewidth=5)\n",
    "ax.set_xlim(0, t_max)\n",
    "\n",
    "ax.set_xlabel(r'$t|\\Omega_{ce}|$', fontsize=15)\n",
    "ax.set_ylabel(r'$\\beta_{h}$', fontsize=15)\n",
    "\n",
    "legend = ax.legend(loc='center right', ncols=2, fancybox=False, shadow=False, fontsize=15)\n",
    "legend.get_frame().set_alpha(0)\n",
    "\n",
    "ax.spines['right'].set_visible(False)\n",
    "ax.spines['top'].set_visible(False)\n",
    "\n",
    "plt.tight_layout()\n",
    "plt.savefig(\"../figs/vadim_2021/vadim_2021_hot_beta_res.png\", dpi=300, bbox_inches='tight')"
   ]
  },
  {
   "cell_type": "code",
   "execution_count": null,
   "id": "63999dfb-b3b8-4832-9094-80dbaf11e26d",
   "metadata": {},
   "outputs": [],
   "source": [
    "fig, ax = plt.subplots(figsize=(6, 4))\n",
    "\n",
    "ax.plot(result.t, result.y[2]/result.y[3] -1, ls=\"-\", color=\"tab:green\", label=r\"QLT $A_{h}$\", linewidth=2)\n",
    "ax.plot(t_PIC, betaH_perp/betaH_par -1, ls=\":\", color=\"tab:green\", label=r\"PIC $A_{h}$\", linewidth=5)\n",
    "\n",
    "ax.plot(result.t, result.y[0]/result.y[1] -1, ls=\"-\", color=\"tab:purple\", label=r\"QLT $A_{c}$\", linewidth=2)\n",
    "ax.plot(t_PIC, betaC_perp/betaC_par -1, ls=\":\", color=\"tab:purple\", label=r\"PIC $A_{c}$\", linewidth=5)\n",
    "\n",
    "ax.set_xlim(0, t_max)\n",
    "\n",
    "ax.set_xlabel(r'$\\tau \\coloneq t|\\Omega_{ce}|$')\n",
    "ax.set_ylabel(r'$A$')\n",
    "\n",
    "legend = ax.legend(loc='center right', ncols=2, fancybox=False, shadow=False, fontsize=12)\n",
    "legend.get_frame().set_alpha(0)\n",
    "\n",
    "\n",
    "plt.tight_layout()\n",
    "plt.savefig(\"../figs/vadim_2021/vadim_2021_A_res.png\", dpi=300, bbox_inches='tight')"
   ]
  },
  {
   "cell_type": "code",
   "execution_count": null,
   "id": "e502c888-b7a8-4a7a-9661-856b3f764f86",
   "metadata": {},
   "outputs": [],
   "source": [
    "# Vadim PIC solution \n",
    "uz_eC = np.load(\"../data/1D-analog-of-2D-long/spectrum_in_time/uz_eC_vadim_PoP_2021.npy\")\n",
    "ux_eC = np.load(\"../data/1D-analog-of-2D-long/spectrum_in_time/ux_eC_vadim_PoP_2021.npy\")\n",
    "uy_eC = np.load(\"../data/1D-analog-of-2D-long/spectrum_in_time/uy_eC_vadim_PoP_2021.npy\")"
   ]
  },
  {
   "cell_type": "code",
   "execution_count": null,
   "id": "463197fe-dbfe-4a1d-aa45-337c91335309",
   "metadata": {},
   "outputs": [],
   "source": [
    "fig, ax = plt.subplots(figsize=(6, 4))\n",
    "\n",
    "\n",
    "plt.plot(t_PIC, uz_eC**2, label=\"$u_{z}^2$\")\n",
    "plt.plot(t_PIC, ux_eC**2 + uy_eC**2, label=\"$u_{x}^2 + u_{y}^2$\")\n",
    "plt.yscale(\"log\")\n",
    "\n",
    "ax.set_xlim(0, np.max(t_PIC))\n",
    "\n",
    "ax.set_xlabel(r'$\\tau \\coloneq t |\\Omega_{ce}|$')\n",
    "ax.set_ylabel(r'$u_{eC}$')\n",
    "\n",
    "legend = ax.legend(loc='center right', ncols=2, fancybox=False, shadow=False, fontsize=12)\n",
    "legend.get_frame().set_alpha(0)"
   ]
  },
  {
   "cell_type": "code",
   "execution_count": null,
   "id": "111cf34f-3974-45c1-8dc2-1b72e541e739",
   "metadata": {},
   "outputs": [],
   "source": [
    "beta_eff_eC_perp = betaC_perp + 0.25*(1-delta)*(ux_eC + uy_eC)/(B0**2)"
   ]
  },
  {
   "cell_type": "code",
   "execution_count": null,
   "id": "a7dfc9c1-be59-4afe-a89e-0c2d3698f617",
   "metadata": {},
   "outputs": [],
   "source": [
    "beta_eff_eC_par = betaC_par + 0.5*(1-delta)*uz_eC/(B0**2)"
   ]
  },
  {
   "cell_type": "code",
   "execution_count": null,
   "id": "dcd0395a-e7b2-466a-af2e-4b23bd3f544b",
   "metadata": {},
   "outputs": [],
   "source": [
    "plt.plot(beta_eff_eC_perp/beta_eff_eC_par - 1)\n",
    "plt.plot(betaC_perp/betaC_par)\n",
    "\n",
    "plt.plot(beta_eff_eC_par)\n",
    "plt.plot(betaC_par)"
   ]
  },
  {
   "cell_type": "code",
   "execution_count": null,
   "id": "e58ad939-7f96-470f-be2b-1330f38b5789",
   "metadata": {},
   "outputs": [],
   "source": [
    "# Vadim PIC solution \n",
    "uz_eH = np.load(\"../data/1D-analog-of-2D-long/spectrum_in_time/uz_eH_vadim_PoP_2021.npy\")\n",
    "ux_eH = np.load(\"../data/1D-analog-of-2D-long/spectrum_in_time/ux_eH_vadim_PoP_2021.npy\")\n",
    "uy_eH = np.load(\"../data/1D-analog-of-2D-long/spectrum_in_time/uy_eH_vadim_PoP_2021.npy\")"
   ]
  },
  {
   "cell_type": "code",
   "execution_count": null,
   "id": "f9b2b7b4-c2be-439b-a36c-804672e84331",
   "metadata": {},
   "outputs": [],
   "source": [
    "fig, ax = plt.subplots(figsize=(6, 4))\n",
    "\n",
    "plt.plot(t_PIC, uz_eH, label=\"$u_{z}$\")\n",
    "plt.plot(t_PIC, ux_eH, label=\"$u_{x}$\")\n",
    "plt.plot(t_PIC, uy_eH, label=\"$u_{y}$\")\n",
    "\n",
    "\n",
    "ax.set_xlim(0, np.max(t_PIC))\n",
    "\n",
    "ax.set_xlabel(r'$\\tau \\coloneq t |\\Omega_{ce}|$')\n",
    "ax.set_ylabel(r'$u_{eH}$')\n",
    "\n",
    "legend = ax.legend(loc='center right', ncols=2, fancybox=False, shadow=False, fontsize=12)\n",
    "legend.get_frame().set_alpha(0)"
   ]
  },
  {
   "cell_type": "code",
   "execution_count": null,
   "id": "840e66d6-dd19-4353-8bfe-ec9afc0199d0",
   "metadata": {},
   "outputs": [],
   "source": [
    "# Vadim PIC solution \n",
    "dB_PIC = np.load(\"../data/1D-analog-of-2D-long/spectrum_in_time/dB2_vadim_PoP_2021.npy\")"
   ]
  },
  {
   "cell_type": "code",
   "execution_count": null,
   "id": "98efa579-92bf-4c7a-8e28-84bcfbe6dcae",
   "metadata": {},
   "outputs": [],
   "source": [
    "fig, ax = plt.subplots(figsize=(6, 4))\n",
    "ax.plot(result.t,np.sum(result.y[4:, :], axis=0)*(q_vec[1]-q_vec[0]), color=\"black\", linewidth=2, label=\"QLT\")\n",
    "ax.plot(t_PIC, dB_PIC, color=\"blue\", linewidth=5, ls=\":\", label=\"1D3V PIC\")\n",
    "\n",
    "ax.set_yscale(\"log\")\n",
    "\n",
    "ax.set_xlabel(r'$t|\\Omega_{ce}|$')\n",
    "ax.set_ylabel(r'$(\\delta B/B_{0})^2$')\n",
    "\n",
    "ax.set_xlim(0, 500)\n",
    "\n",
    "ax.spines['right'].set_visible(False)\n",
    "ax.spines['top'].set_visible(False)\n",
    "\n",
    "legend = ax.legend(loc='lower right', ncols=1, fancybox=False, shadow=False, fontsize=15)\n",
    "legend.get_frame().set_alpha(0)\n",
    "\n",
    "plt.tight_layout()\n",
    "plt.savefig(\"../figs/vadim_2021/vadim_2021_dB_linear_res.png\", dpi=300, bbox_inches='tight')"
   ]
  },
  {
   "cell_type": "code",
   "execution_count": null,
   "id": "6c7b6afb-49ea-4953-8893-132a401d5427",
   "metadata": {},
   "outputs": [],
   "source": [
    "fig, ax = plt.subplots(figsize=(7, 5))\n",
    "pos = ax.pcolormesh(result.t, q_vec, result.y[4:], cmap=\"nipy_spectral\", norm=matplotlib.colors.LogNorm(vmin=1e-10, vmax=1e-3),shading='gouraud')\n",
    "cbar = fig.colorbar(pos)\n",
    "\n",
    "ax.set_xlabel(r'$\\tau \\coloneq t\\Omega_{ce}$')\n",
    "ax.set_ylabel(r'$q \\coloneq ck/\\omega_{pe}  = d_{e} k$')\n",
    "\n",
    "ax.spines['right'].set_visible(False)\n",
    "ax.spines['top'].set_visible(False)\n",
    "\n",
    "ax.set_title(r\"$\\mathcal{E}(q, \\tau)$\")"
   ]
  },
  {
   "cell_type": "code",
   "execution_count": null,
   "id": "cc6d3f51-b7fe-47c4-a075-d2ce26bf3243",
   "metadata": {},
   "outputs": [],
   "source": []
  },
  {
   "cell_type": "code",
   "execution_count": null,
   "id": "4b4ff4e8-0f5b-4745-a16f-4071e8dfce91",
   "metadata": {},
   "outputs": [],
   "source": []
  },
  {
   "cell_type": "code",
   "execution_count": null,
   "id": "9a319104-2946-4824-afc1-7f49e274314c",
   "metadata": {},
   "outputs": [],
   "source": []
  },
  {
   "cell_type": "code",
   "execution_count": null,
   "id": "a70e614f-1245-4099-b0fe-c8e50571b756",
   "metadata": {},
   "outputs": [],
   "source": []
  }
 ],
 "metadata": {
  "kernelspec": {
   "display_name": "Python 3 (ipykernel)",
   "language": "python",
   "name": "python3"
  },
  "language_info": {
   "codemirror_mode": {
    "name": "ipython",
    "version": 3
   },
   "file_extension": ".py",
   "mimetype": "text/x-python",
   "name": "python",
   "nbconvert_exporter": "python",
   "pygments_lexer": "ipython3",
   "version": "3.9.19"
  }
 },
 "nbformat": 4,
 "nbformat_minor": 5
}
