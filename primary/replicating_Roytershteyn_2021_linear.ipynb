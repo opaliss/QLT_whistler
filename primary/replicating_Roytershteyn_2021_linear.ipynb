{
 "cells": [
  {
   "cell_type": "markdown",
   "id": "59043ae3-97f7-42f5-b32e-b4d58389b478",
   "metadata": {},
   "source": [
    "June 2nd, 2025\n",
    "\n",
    "## Reduced QLT hot + cold electron whistler compared with [Roytershteyn and Delzanno PoP 2021](https://pubs.aip.org/aip/pop/article-abstract/28/4/042903/263604/Nonlinear-coupling-of-whistler-waves-to-oblique?redirectedFrom=fulltext)"
   ]
  },
  {
   "cell_type": "code",
   "execution_count": 4,
   "id": "50c0317c-39a3-4e18-9e83-c60138eaded6",
   "metadata": {},
   "outputs": [],
   "source": [
    "import sys, os\n",
    "sys.path.append(os.path.abspath(os.path.join('..')))"
   ]
  },
  {
   "cell_type": "code",
   "execution_count": 5,
   "id": "af91a5fa-c454-477b-91b8-4ee3160d4eed",
   "metadata": {},
   "outputs": [],
   "source": [
    "import numpy as np\n",
    "import matplotlib.pyplot as plt\n",
    "from scipy.special import wofz \n",
    "import scipy"
   ]
  },
  {
   "cell_type": "code",
   "execution_count": 6,
   "id": "da1ac8fa-e856-42c0-a9b2-6414deba9b33",
   "metadata": {},
   "outputs": [],
   "source": [
    "%matplotlib inline\n",
    "import matplotlib\n",
    "font = {'family' : 'serif',\n",
    "        'size'   : 14}\n",
    "\n",
    "matplotlib.rc('font', **font)\n",
    "matplotlib.rc('xtick', labelsize=14) \n",
    "matplotlib.rc('ytick', labelsize=14) "
   ]
  },
  {
   "cell_type": "code",
   "execution_count": 7,
   "id": "75887d13-8759-4053-8e66-d13fa9e34754",
   "metadata": {},
   "outputs": [],
   "source": [
    "def Z(xi):\n",
    "    # plasma dispersion function\n",
    "    return 1j * np.sqrt(np.pi) * wofz(xi)\n",
    "\n",
    "def xi_1(z, q, beta_par, M=1, ions=False):\n",
    "    # phase velocity (with cycltron frequency)\n",
    "    if ions: \n",
    "        return (M*z+1)/(np.abs(q)*np.sqrt(beta_par)*np.sqrt(M))\n",
    "    else:\n",
    "        return (z-1)/(np.abs(q)*np.sqrt(beta_par))\n",
    "\n",
    "def xi_0(z, q, beta_par, M=1):\n",
    "    # phase velocity \n",
    "    return z/(np.abs(q)*np.sqrt(beta_par)*np.sqrt(M))\n",
    "\n",
    "def eta(z, A, q, beta_par):\n",
    "    # non-dimensional number\n",
    "    return (z*(A+1) - A)/(np.abs(q) * np.sqrt(beta_par))"
   ]
  },
  {
   "cell_type": "markdown",
   "id": "ee329d8f-4f83-4452-b26c-cc441b3fc1ba",
   "metadata": {},
   "source": [
    "### QLT equations\n",
    "\\begin{align*}\n",
    "    \\frac{\\mathrm{d}\\beta^{r}_{\\perp c}}{\\mathrm{d} \\tau} &= -2 \\sqrt{\\pi} \\int_{0}^{\\infty}\\frac{\\mathcal{E}(q, \\tau)}{q^2} \\mathrm{Re}\\{\\xi_{c}^{1}\\} \\exp(-\\mathrm{Re}\\{\\xi_{c}^{1}\\}^2)\\left((\\mathrm{Re}\\{z\\} -1)A_{c} + \\mathrm{Re}\\{z\\} \\right)\\mathrm{d}q,\\\\\n",
    "    \\frac{\\mathrm{d}\\beta^{r}_{\\| c}}{\\mathrm{d} \\tau} &=  4\\sqrt{\\pi} \\int_{0}^{\\infty}\\frac{\\mathcal{E}(q, \\tau)}{q^2} \\mathrm{Re}\\{\\xi_{c}^{0} + \\xi_{c}^{1}\\} \\exp(-\\mathrm{Re}\\{\\xi_{c}^{1}\\}^2)\\left((\\mathrm{Re}\\{z\\} -1)A_{c} + \\mathrm{Re}\\{z\\} \\right)\\mathrm{d}q,\\\\\n",
    "    \\frac{\\mathrm{d}\\beta^{r}_{\\perp h}}{\\mathrm{d} \\tau} &= -2 \\sqrt{\\pi} \\int_{0}^{\\infty}\\frac{\\mathcal{E}(q, \\tau)}{q^2} \\mathrm{Re}\\{\\xi_{h}^{1}\\} \\exp(-\\mathrm{Re}\\{\\xi_{h}^{1}\\}^2)\\left((\\mathrm{Re}\\{z\\} -1)A_{h} + \\mathrm{Re}\\{z\\} \\right)\\mathrm{d}q,\\\\\n",
    "    \\frac{\\mathrm{d}\\beta^{r}_{\\| h}}{\\mathrm{d} \\tau} &=  4\\sqrt{\\pi} \\int_{0}^{\\infty}\\frac{\\mathcal{E}(q, \\tau)}{q^2} \\mathrm{Re}\\{\\xi_{h}^{0} + \\xi_{h}^{1}\\} \\exp(-\\mathrm{Re}\\{\\xi_{h}^{1}\\}^2)\\left((\\mathrm{Re}\\{z\\} -1)A_{h} + \\mathrm{Re}\\{z\\} \\right)\\mathrm{d}q,\\\\\n",
    "    \\partial_{\\tau} \\mathcal{E}(q, \\tau) &= 2 \\mathrm{Im}\\{z\\} \\mathcal{E}(q, \\tau),\n",
    "\\end{align*}\n",
    "\n",
    "The dispersion relation reads as \n",
    "\\begin{equation*}\n",
    "    q^{2} - \\xi_{i}^{0}Z(\\xi_{i}^{1})- \\left(1-\\delta\\right)\\left(A_{c} + \\eta_{c} Z(\\xi_{c}^{1}\\right) )- \\delta \\left(A_{h} + \\eta_{h} Z(\\xi_{h}^{1})\\right) = 0, \\qquad \\mathrm{with} \\qquad \\eta_{s} \\coloneqq \\frac{(A_{s} + 1) z - A_{s}}{q \\sqrt{\\beta_{\\|s}}}, \\qquad \\delta \\coloneqq \\frac{n_{h}}{n_{0}}, \\qquad \\xi_{s}^{1} = \\frac{z-1}{|q|\\sqrt{\\beta_{\\|s}}}.\n",
    "\\end{equation*}"
   ]
  },
  {
   "cell_type": "code",
   "execution_count": 8,
   "id": "4ffaaf32-54d6-418d-bc20-626563e35cca",
   "metadata": {},
   "outputs": [],
   "source": [
    "# # Low-anisotropy case\n",
    "# # with cold electrons nc/n0 != 0 \n",
    "# delta =  0.2 # ratio of hot electron population\n",
    "# B0 = 0.25\n",
    "\n",
    "# # hot \n",
    "# beta_par_h_init = 0.0256747/delta # initial beta parallel \n",
    "# A_h_init = 2 # initial anisotropic level\n",
    "\n",
    "# # cold\n",
    "# beta_par_c_init = beta_par_h_init/2000/(1-delta) # initial beta parallel \n",
    "# A_c_init = 0. # initial anisotropic level \n",
    "\n",
    "# # ions \n",
    "# beta_par_i_init = beta_par_c_init*(1-delta)\n",
    "# q_vec = np.linspace(0.7, 2, 50) # vector with all normalized wavenumber"
   ]
  },
  {
   "cell_type": "code",
   "execution_count": 18,
   "id": "8cb2cfac-8d1f-4a17-8f27-27e79db01379",
   "metadata": {},
   "outputs": [],
   "source": [
    "# High-anisotropy case\n",
    "# with cold electrons nc/n0 != 0 \n",
    "delta =  0.2 # ratio of hot electron population\n",
    "B0 = 0.25\n",
    "\n",
    "# hot \n",
    "beta_par_h_init = 0.025/delta # initial beta parallel \n",
    "A_h_init = 4 # initial anisotropic level\n",
    "\n",
    "# cold\n",
    "beta_par_c_init = beta_par_h_init/200/(1-delta)  # beta_par_h_init/2000 # initial beta parallel \n",
    "A_c_init = 0. # initial anisotropic level \n",
    "\n",
    "# ions \n",
    "beta_par_i_init = beta_par_c_init*(1-delta)\n",
    "q_vec = np.linspace(0.7, 2, 50) # vector with all normalized wavenumber"
   ]
  },
  {
   "cell_type": "code",
   "execution_count": 19,
   "id": "89484b7d-10b1-4708-8565-4b193207bae3",
   "metadata": {},
   "outputs": [],
   "source": [
    "t_max = 500\n",
    "\n",
    "beta_perp_c_init =  (A_c_init + 1) * beta_par_c_init  # initial beta perpendicular \n",
    "beta_perp_h_init =  (A_h_init + 1) * beta_par_h_init  # initial beta perpendicular \n",
    "\n",
    "dB_init = 1e-8 * np.ones(len(q_vec)) # initial wave energy density noise level"
   ]
  },
  {
   "cell_type": "code",
   "execution_count": 20,
   "id": "d8c54c08-5b7a-4fd9-b1bd-5d21f76643d1",
   "metadata": {},
   "outputs": [],
   "source": [
    "# dispersion relation \n",
    "def dispersion_relation(q, \n",
    "                        beta_par_c,\n",
    "                        beta_par_h, \n",
    "                        beta_par_i,\n",
    "                        A_c,\n",
    "                        A_h, \n",
    "                        delta, \n",
    "                        M=1836):\n",
    "    return lambda z: q**2 - xi_0(z=z, q=q, beta_par=beta_par_i, M=M)*Z(xi=xi_1(z=z, q=q, beta_par=beta_par_i, M=M))\\\n",
    "                           - (1-delta)*(A_c + eta(z, A=A_c, q=q, beta_par=beta_par_c)*Z(xi=xi_1(z, q=q, beta_par=beta_par_c)))\\\n",
    "                           - delta *(A_h + eta(z, A=A_h, q=q, beta_par=beta_par_h)*Z(xi=xi_1(z, q=q, beta_par=beta_par_h)))\n",
    "    "
   ]
  },
  {
   "cell_type": "code",
   "execution_count": 21,
   "id": "8b6ca8ed-b065-4dab-9cc2-ebd2b652c01e",
   "metadata": {},
   "outputs": [],
   "source": [
    "def get_z_vec(q_vec, A_h, A_c, beta_par_c, beta_par_h, beta_par_i, delta):\n",
    "    z_vec = np.zeros(len(q_vec), dtype=\"complex128\")\n",
    "    for ii, q in enumerate(q_vec):\n",
    "        if q < 1.5:\n",
    "            ic1 = 0.55+ 1e-4j\n",
    "            ic2 = 0.8+ 1e-4j\n",
    "        else:\n",
    "            ic1 = 0.65+ 1e-4j\n",
    "            ic2 = 0.8+ 1e-4j\n",
    "        try:\n",
    "            z_vec[ii] = scipy.optimize.newton(dispersion_relation(q=q, A_c=A_c, beta_par_c=beta_par_c, A_h=A_h, beta_par_h=beta_par_h, beta_par_i=beta_par_i, delta=delta), ic1, tol=1e-15)\n",
    "            if dispersion_relation(q=q, A_c=A_c, beta_par_c=beta_par_c, A_h=A_h, beta_par_h=beta_par_h, beta_par_i=beta_par_i, delta=delta)(z_vec[ii]) > 1e-10:\n",
    "                print(\"q1=\", q)\n",
    "                print(\"residual1=\", np.abs(dispersion_relation(q=q, A_c=A_c, beta_par_c=beta_par_c, A_h=A_h, beta_par_h=beta_par_h, beta_par_i=beta_par_i, delta=delta)(z_vec[ii])))\n",
    "        except:\n",
    "            z_vec[ii] = scipy.optimize.newton(dispersion_relation(q=q, A_c=A_c, beta_par_c=beta_par_c, A_h=A_h, beta_par_h=beta_par_h, beta_par_i=beta_par_i, delta=delta), ic2, tol=1e-15)\n",
    "            if dispersion_relation(q=q, A_c=A_c, beta_par_c=beta_par_c, A_h=A_h, beta_par_h=beta_par_h, beta_par_i=beta_par_i, delta=delta)(z_vec[ii]) > 1e-10:\n",
    "                print(\"q3=\", q)\n",
    "                print(\"residual3=\", np.abs(dispersion_relation(q=q, A_c=A_c, beta_par_c=beta_par_c, A_h=A_h, beta_par_h=beta_par_h, beta_par_i=beta_par_i, delta=delta)(z_vec[ii])))\n",
    "    return z_vec"
   ]
  },
  {
   "cell_type": "code",
   "execution_count": 22,
   "id": "dceaa59b-2e6d-4d4e-ae25-e3c51f372c6b",
   "metadata": {},
   "outputs": [],
   "source": [
    "sol_ = get_z_vec(q_vec=q_vec, A_c=A_c_init, beta_par_c=beta_par_c_init, beta_par_i=beta_par_i_init, A_h=A_h_init, beta_par_h=beta_par_h_init, delta=delta)"
   ]
  },
  {
   "cell_type": "code",
   "execution_count": 23,
   "id": "21dc5599-2225-4e01-9f72-93e0f527fad0",
   "metadata": {},
   "outputs": [
    {
     "data": {
      "image/png": "[encoded data removed]",
      "text/plain": [
       "<Figure size 600x300 with 1 Axes>"
      ]
     },
     "metadata": {},
     "output_type": "display_data"
    }
   ],
   "source": [
    "fig, ax = plt.subplots(figsize=(6, 3))\n",
    "ax.plot(q_vec, sol_.real, linewidth=3, color=\"black\")\n",
    "ax.axvline(q_vec[np.argmax(sol_.imag)], ls=\"--\", color=\"red\", alpha=0.5, linewidth=2)\n",
    "ax.axhline(sol_.real[np.argmax(sol_.imag)], ls=\"--\", color=\"red\", alpha=0.5, linewidth=2)\n",
    "ax.set_ylabel(r'$\\frac{\\omega_{r}}{|\\Omega_{ce}|}$', labelpad=22, rotation=0, fontsize=20)\n",
    "ax.set_xlabel('$k_{\\|}d_{e}$', fontsize=15)\n",
    "ax.set_xlim(0.74, 2)\n",
    "ax.set_yticks([0.4, 0.5, 0.6, 0.7, 0.8])\n",
    "ax.spines['right'].set_visible(False)\n",
    "ax.spines['top'].set_visible(False)\n",
    "plt.grid(alpha=0.5)\n",
    "plt.tight_layout()\n",
    "plt.savefig(\"../figs/vadim_2021/dispersion_high_anisotropy_frequency.png\", dpi=300, bbox_inches='tight')"
   ]
  },
  {
   "cell_type": "code",
   "execution_count": 24,
   "id": "3e944854-9f95-4119-b88f-af3e1d349eb3",
   "metadata": {},
   "outputs": [
    {
     "data": {
      "text/plain": [
       "0.5699878197114997"
      ]
     },
     "execution_count": 24,
     "metadata": {},
     "output_type": "execute_result"
    }
   ],
   "source": [
    "sol_.real[np.argmax(sol_.imag)]"
   ]
  },
  {
   "cell_type": "code",
   "execution_count": 25,
   "id": "60db9c76-c4f1-4bb0-9fd2-159900923abe",
   "metadata": {},
   "outputs": [
    {
     "data": {
      "text/plain": [
       "1.1244897959183673"
      ]
     },
     "execution_count": 25,
     "metadata": {},
     "output_type": "execute_result"
    }
   ],
   "source": [
    "q_vec[np.argmax(sol_.imag)]"
   ]
  },
  {
   "cell_type": "code",
   "execution_count": 26,
   "id": "82650b4c-cce5-4e08-a964-98456e59c3e6",
   "metadata": {},
   "outputs": [
    {
     "data": {
      "image/png": "[encoded data removed]",
      "text/plain": [
       "<Figure size 600x300 with 1 Axes>"
      ]
     },
     "metadata": {},
     "output_type": "display_data"
    }
   ],
   "source": [
    "fig, ax = plt.subplots(figsize=(6, 3))\n",
    "ax.plot(q_vec, sol_.imag, linewidth=3, color=\"black\")\n",
    "ax.axvline(q_vec[np.argmax(sol_.imag)], ls=\"--\", color=\"red\", alpha=0.5, linewidth=2)\n",
    "ax.axhline(sol_.imag[np.argmax(sol_.imag)], ls=\"--\", color=\"red\", alpha=0.5, linewidth=2)\n",
    "\n",
    "ax.set_ylabel(r'$\\frac{\\gamma}{|\\Omega_{ce}|}$', labelpad=22, rotation=0, fontsize=20)\n",
    "ax.set_xlabel('$k_{\\|}d_{e}$', fontsize=15)\n",
    "#ax.set_xlim(0.74, 1.4)\n",
    "ax.set_ylim(0)\n",
    "ax.set_xlim(0.74, 2)\n",
    "#ax.set_ylim(0, 0.021)\n",
    "ax.set_yticks([0, 0.01, 0.02, 0.03, 0.04, 0.05])\n",
    "#ax.set_yticklabels([0, 0.01, 0.02])\n",
    "ax.spines['right'].set_visible(False)\n",
    "ax.spines['top'].set_visible(False)\n",
    "plt.grid(alpha=0.5)\n",
    "plt.tight_layout()\n",
    "plt.savefig(\"../figs/vadim_2021/dispersion_relation_high_anisotropy_growth_rate.png\", dpi=300, bbox_inches='tight')"
   ]
  },
  {
   "cell_type": "code",
   "execution_count": null,
   "id": "4b4ff4e8-0f5b-4745-a16f-4071e8dfce91",
   "metadata": {},
   "outputs": [],
   "source": []
  },
  {
   "cell_type": "code",
   "execution_count": null,
   "id": "9a319104-2946-4824-afc1-7f49e274314c",
   "metadata": {},
   "outputs": [],
   "source": []
  },
  {
   "cell_type": "code",
   "execution_count": null,
   "id": "a70e614f-1245-4099-b0fe-c8e50571b756",
   "metadata": {},
   "outputs": [],
   "source": []
  }
 ],
 "metadata": {
  "kernelspec": {
   "display_name": "Python 3 (ipykernel)",
   "language": "python",
   "name": "python3"
  },
  "language_info": {
   "codemirror_mode": {
    "name": "ipython",
    "version": 3
   },
   "file_extension": ".py",
   "mimetype": "text/x-python",
   "name": "python",
   "nbconvert_exporter": "python",
   "pygments_lexer": "ipython3",
   "version": "3.9.19"
  }
 },
 "nbformat": 4,
 "nbformat_minor": 5
}
