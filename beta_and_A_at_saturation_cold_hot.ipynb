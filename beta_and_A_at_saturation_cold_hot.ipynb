{
 "cells": [
  {
   "cell_type": "markdown",
   "id": "a949e1f3-21bf-444b-9cb3-3e4569fd984d",
   "metadata": {},
   "source": [
    "March 26th, 2025\n",
    "\n",
    "## Reduced QLT hot + cold electron whistler anisotropy instability\n"
   ]
  },
  {
   "cell_type": "code",
   "execution_count": 1,
   "id": "533e7a9a-9820-4587-9077-31cddef85c84",
   "metadata": {},
   "outputs": [],
   "source": [
    "import numpy as np\n",
    "import matplotlib.pyplot as plt\n",
    "from QLT_equations.rQLT import dydt, get_z_vec\n",
    "import scipy"
   ]
  },
  {
   "cell_type": "code",
   "execution_count": 2,
   "id": "cfbd8ff5-b3eb-4107-98e5-21d8d5590522",
   "metadata": {},
   "outputs": [],
   "source": [
    "%matplotlib inline\n",
    "import matplotlib\n",
    "font = {'family' : 'serif',\n",
    "        'size'   : 14}\n",
    "\n",
    "matplotlib.rc('font', **font)\n",
    "matplotlib.rc('xtick', labelsize=14) \n",
    "matplotlib.rc('ytick', labelsize=14) "
   ]
  },
  {
   "cell_type": "markdown",
   "id": "40b27f20-15f6-4476-8ede-db3db4b29a77",
   "metadata": {},
   "source": [
    "# Ensemble"
   ]
  },
  {
   "cell_type": "code",
   "execution_count": 3,
   "id": "87a15166-14a2-4476-b335-0286b22c4f3a",
   "metadata": {},
   "outputs": [],
   "source": [
    "delta_vec = np.array([0.9])\n",
    "A_h_vec = 10**np.linspace(0, 0.2, 3)\n",
    "beta_vec = 10**np.linspace(-1, 0.5, 8)"
   ]
  },
  {
   "cell_type": "code",
   "execution_count": 4,
   "id": "49ca5405-b22f-4d64-bf90-651a1a6d885e",
   "metadata": {},
   "outputs": [],
   "source": [
    "params = np.zeros((len(delta_vec)*len(A_h_vec)*len(beta_vec), 3))\n",
    "pp = 0 \n",
    "for ii, delta in enumerate(delta_vec):\n",
    "    for jj, A in enumerate(A_h_vec):\n",
    "        for kk, beta in enumerate(beta_vec):\n",
    "            params[pp, 0] = delta\n",
    "            params[pp, 1] = A\n",
    "            params[pp, 2] = beta\n",
    "            pp+=1"
   ]
  },
  {
   "cell_type": "code",
   "execution_count": 5,
   "id": "8d606e5e-6085-403f-9d39-b15be992a757",
   "metadata": {},
   "outputs": [],
   "source": [
    "np.save(\"data/ensemble_QLT/delta_\" + str(delta_vec[0]) + \"/params.npy\", params)"
   ]
  },
  {
   "cell_type": "code",
   "execution_count": 6,
   "id": "f86d71d8-0159-40ec-8e3c-e297d52d65c9",
   "metadata": {},
   "outputs": [
    {
     "data": {
      "image/png": "[encoded data removed]",
      "text/plain": [
       "<Figure size 700x500 with 1 Axes>"
      ]
     },
     "metadata": {},
     "output_type": "display_data"
    }
   ],
   "source": [
    "fig, ax = plt.subplots(figsize=(7, 5))\n",
    "ax.scatter(params[:, 2]/params[:, 0], params[:, 1], marker=\"o\", facecolors='none', edgecolors='k')\n",
    "ax.set_xscale(\"log\")\n",
    "ax.set_yscale(\"log\")\n",
    "ax.set_xlabel(r\"$\\beta_{\\|h}$\")\n",
    "ax.set_ylabel(r\"$A_{h}$\")\n",
    "plt.tight_layout()"
   ]
  },
  {
   "cell_type": "code",
   "execution_count": 7,
   "id": "2544772b-735a-4dcf-a62b-ca782a744d2e",
   "metadata": {},
   "outputs": [],
   "source": [
    "# things that do not change between ensembles\n",
    "t_max = 850\n",
    "# isotropic cold electrons\n",
    "A_c_init = 0. \n",
    "# vector with all normalized wavenumber\n",
    "q_vec_original = np.linspace(0.05, 1.4, 100) "
   ]
  },
  {
   "cell_type": "code",
   "execution_count": 8,
   "id": "057fb318-7af6-4133-a50c-f6d24f8de6f3",
   "metadata": {},
   "outputs": [
    {
     "data": {
      "text/plain": [
       "0.013636363636363641"
      ]
     },
     "execution_count": 8,
     "metadata": {},
     "output_type": "execute_result"
    }
   ],
   "source": [
    "q_vec_original[1] - q_vec_original[0]"
   ]
  },
  {
   "cell_type": "code",
   "execution_count": null,
   "id": "8d745572-6a0a-4f28-bafa-817a1503a02a",
   "metadata": {},
   "outputs": [
    {
     "name": "stdout",
     "output_type": "stream",
     "text": [
      "ensemble #12\n",
      "A =  1.2589254117941673\n",
      "beta =  0.7196856730011519\n",
      "q resolution = 60\n",
      "q min = 0.33636363636363636\n",
      "q zeroth = 0.33636363636363636\n",
      "q max = 1.1409090909090909\n",
      "q last = 1.1409090909090909\n"
     ]
    },
    {
     "name": "stderr",
     "output_type": "stream",
     "text": [
      "/Users/oissan/PycharmProjects/QLT_whistler/QLT_equations/rQLT.py:14: RuntimeWarning: invalid value encountered in scalar multiply\n",
      "  return 1j * np.sqrt(np.pi) * wofz(xi)\n",
      "/opt/anaconda3/envs/rom/lib/python3.9/site-packages/scipy/optimize/_zeros_py.py:382: RuntimeWarning: invalid value encountered in scalar divide\n",
      "  p = (-q1 / q0 * p0 + p1) / (1 - q1 / q0)\n"
     ]
    },
    {
     "name": "stdout",
     "output_type": "stream",
     "text": [
      "ensemble #13\n",
      "A =  1.2589254117941673\n",
      "beta =  1.1787686347935873\n",
      "q resolution = 64\n",
      "q min = 0.2681818181818182\n",
      "q zeroth = 0.2681818181818182\n",
      "q max = 1.1272727272727272\n",
      "q last = 1.1272727272727272\n"
     ]
    },
    {
     "name": "stderr",
     "output_type": "stream",
     "text": [
      "/Users/oissan/PycharmProjects/QLT_whistler/QLT_equations/rQLT.py:14: RuntimeWarning: overflow encountered in scalar multiply\n",
      "  return 1j * np.sqrt(np.pi) * wofz(xi)\n",
      "/opt/anaconda3/envs/rom/lib/python3.9/site-packages/scipy/optimize/_zeros_py.py:380: RuntimeWarning: invalid value encountered in scalar divide\n",
      "  p = (-q0 / q1 * p1 + p0) / (1 - q0 / q1)\n",
      "/opt/anaconda3/envs/rom/lib/python3.9/site-packages/scipy/optimize/_zeros_py.py:382: RuntimeWarning: divide by zero encountered in scalar divide\n",
      "  p = (-q1 / q0 * p0 + p1) / (1 - q1 / q0)\n",
      "/opt/anaconda3/envs/rom/lib/python3.9/site-packages/numpy/core/numeric.py:2387: RuntimeWarning: invalid value encountered in multiply\n",
      "  x = x * ones_like(cond)\n",
      "/Users/oissan/PycharmProjects/QLT_whistler/QLT_equations/rQLT.py:39: RuntimeWarning: invalid value encountered in scalar power\n",
      "  - z**2/(wpewce**2)\\\n",
      "/Users/oissan/PycharmProjects/QLT_whistler/QLT_equations/rQLT.py:39: RuntimeWarning: invalid value encountered in scalar divide\n",
      "  - z**2/(wpewce**2)\\\n",
      "/Users/oissan/PycharmProjects/QLT_whistler/QLT_equations/rQLT.py:27: RuntimeWarning: invalid value encountered in scalar divide\n",
      "  return z / (np.abs(q) * np.sqrt(beta_par) * np.sqrt(M))\n",
      "/Users/oissan/PycharmProjects/QLT_whistler/QLT_equations/rQLT.py:22: RuntimeWarning: invalid value encountered in scalar divide\n",
      "  return (z - 1) / (np.abs(q) * np.sqrt(beta_par))\n",
      "/Users/oissan/PycharmProjects/QLT_whistler/QLT_equations/rQLT.py:32: RuntimeWarning: invalid value encountered in scalar multiply\n",
      "  return (z * (A + 1) - A) / (np.abs(q) * np.sqrt(beta_par))\n",
      "/opt/anaconda3/envs/rom/lib/python3.9/site-packages/numpy/core/numeric.py:2388: RuntimeWarning: invalid value encountered in multiply\n",
      "  y = y * ones_like(cond)\n"
     ]
    },
    {
     "name": "stdout",
     "output_type": "stream",
     "text": [
      "ensemble #14\n",
      "A =  1.2589254117941673\n",
      "beta =  1.9306977288832496\n",
      "q resolution = 67\n",
      "q min = 0.21363636363636362\n",
      "q zeroth = 0.21363636363636362\n",
      "q max = 1.1136363636363635\n",
      "q last = 1.1136363636363635\n"
     ]
    },
    {
     "name": "stderr",
     "output_type": "stream",
     "text": [
      "/opt/anaconda3/envs/rom/lib/python3.9/site-packages/scipy/optimize/_zeros_py.py:380: RuntimeWarning: divide by zero encountered in scalar divide\n",
      "  p = (-q0 / q1 * p1 + p0) / (1 - q0 / q1)\n"
     ]
    }
   ],
   "source": [
    "for ii in range(12, params.shape[0]):\n",
    "    print(\"ensemble #\" + str(ii))\n",
    "    print(\"A = \", params[ii, 1])\n",
    "    print(\"beta = \", params[ii, 2])\n",
    "    # hot electrons ration \n",
    "    delta = params[ii, 0] # ratio of hot electron population\n",
    "    beta_par_h_init = params[ii, 2]/delta # initial beta parallel \n",
    "    A_h_init = params[ii, 1] # initial anisotropic level\n",
    "\n",
    "    try:\n",
    "        if delta != 1:\n",
    "            # cold electrons\n",
    "            beta_par_c_init = beta_par_h_init/100/(1-delta)# initial beta parallel \n",
    "            # ions \n",
    "            beta_par_i_init = beta_par_c_init*(1-delta)\n",
    "            # \n",
    "            include_cold = True\n",
    "        else:\n",
    "            beta_par_c_init = 0\n",
    "            beta_par_i_init = beta_par_h_init/100\n",
    "            include_cold = False\n",
    "    \n",
    "        # perpendicular beta for plotting \n",
    "        beta_perp_c_init =  (A_c_init + 1) * beta_par_c_init  # initial beta perpendicular \n",
    "        beta_perp_h_init =  (A_h_init + 1) * beta_par_h_init  # initial beta perpendicular \n",
    "    \n",
    "        z_vec = get_z_vec(q_vec=q_vec_original, A_h=A_h_init, A_c=A_c_init, beta_par_c=beta_par_c_init, \n",
    "                          beta_par_h=beta_par_h_init, beta_par_i=beta_par_i_init, delta=delta, include_cold=include_cold)\n",
    "        \n",
    "        q_vec = q_vec_original[np.where(z_vec.imag>1e-3)]\n",
    "        print(\"q resolution = \" + str(len(q_vec)))\n",
    "        print(\"q min = \" + str(np.min(q_vec)))\n",
    "        print(\"q zeroth = \" + str(q_vec[0]))\n",
    "        print(\"q max = \" + str(np.max(q_vec)))\n",
    "        print(\"q last = \" + str(q_vec[-1]))\n",
    "        \n",
    "        dB_init = 1e-5 * np.ones(len(q_vec))\n",
    "    \n",
    "        # simulate \n",
    "        result = scipy.integrate.solve_ivp(fun=dydt, \n",
    "                                       t_span=[0, t_max], \n",
    "                                       y0=np.concatenate(([beta_perp_c_init], [beta_par_c_init], [beta_perp_h_init], [beta_par_h_init], dB_init)), \n",
    "                                       args=(q_vec, delta, beta_par_i_init, include_cold),\n",
    "                                       atol=1e-8, rtol=1e-8, method='BDF')\n",
    "    \n",
    "        # save simulation\n",
    "        np.save(\"data/ensemble_QLT/delta_\" + str(delta) + \"/t_\" + str(ii) + \".npy\", result.t)\n",
    "        np.save(\"data/ensemble_QLT/delta_\" + str(delta) + \"/y_\" + str(ii) + \".npy\", result.y)\n",
    "    except:\n",
    "        print(\"failed for some reason\")"
   ]
  },
  {
   "cell_type": "code",
   "execution_count": null,
   "id": "1d7dd687-c390-4a82-8cb4-6f96b4db3630",
   "metadata": {},
   "outputs": [],
   "source": []
  },
  {
   "cell_type": "code",
   "execution_count": null,
   "id": "8fcdf568-88b9-4896-9b5c-50dcbace3d7d",
   "metadata": {},
   "outputs": [],
   "source": []
  },
  {
   "cell_type": "code",
   "execution_count": null,
   "id": "758660f8-1b76-4fe0-b4b6-034013c2c39c",
   "metadata": {},
   "outputs": [],
   "source": []
  }
 ],
 "metadata": {
  "kernelspec": {
   "display_name": "Python 3 (ipykernel)",
   "language": "python",
   "name": "python3"
  },
  "language_info": {
   "codemirror_mode": {
    "name": "ipython",
    "version": 3
   },
   "file_extension": ".py",
   "mimetype": "text/x-python",
   "name": "python",
   "nbconvert_exporter": "python",
   "pygments_lexer": "ipython3",
   "version": "3.9.19"
  }
 },
 "nbformat": 4,
 "nbformat_minor": 5
}
