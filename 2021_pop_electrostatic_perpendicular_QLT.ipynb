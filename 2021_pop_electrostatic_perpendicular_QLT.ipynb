{
 "cells": [
  {
   "cell_type": "markdown",
   "id": "1ed1d32e-c93c-4fe6-8e1e-8c748c1fdcf1",
   "metadata": {},
   "source": [
    "Last update: May 25th, 2025\n",
    "\n",
    "\n",
    "## QLT electrostatic secondary instabilities (quasi-perpendicular)\n",
    "##### [V. Roytershteyn and G. L. Delzanno. *Nonlinear coupling of whistler waves to oblique electrostatic turbulence enabled by cold plasma*. Physics of Plasmas, 28(4):042903, 04 2021](https://pubs.aip.org/aip/pop/article-abstract/28/4/042903/263604/Nonlinear-coupling-of-whistler-waves-to-oblique?redirectedFrom=fulltext)\n",
    "\n",
    "Author: Opal Issan (oissan@ucsd.edu)"
   ]
  },
  {
   "cell_type": "code",
   "execution_count": 1,
   "id": "181d42d6-aa56-4b5d-b1fb-7800b95a1cff",
   "metadata": {},
   "outputs": [],
   "source": [
    "import numpy as np\n",
    "import matplotlib.pyplot as plt\n",
    "from scipy.special import wofz \n",
    "import scipy\n",
    "from QLT_equations.perpQLT import dispersion_relation, dVdt, dBdt, dEdt, dKdt"
   ]
  },
  {
   "cell_type": "code",
   "execution_count": 2,
   "id": "92a978f2-5ffe-4d61-b872-2933d901749c",
   "metadata": {},
   "outputs": [],
   "source": [
    "# import for plotting purposes\n",
    "%matplotlib inline\n",
    "import matplotlib\n",
    "font = {'family' : 'serif',\n",
    "        'size'   : 14}\n",
    "\n",
    "matplotlib.rc('font', **font)\n",
    "matplotlib.rc('xtick', labelsize=14) \n",
    "matplotlib.rc('ytick', labelsize=14) "
   ]
  },
  {
   "cell_type": "markdown",
   "id": "5136c3e7-6518-4e22-a5f0-20fbcb6d22fb",
   "metadata": {},
   "source": [
    "## Electrostatic perpendicular QLT + reduced dispersion relation equations\n"
   ]
  },
  {
   "cell_type": "markdown",
   "id": "fe3a8f7d-cada-4944-8a7b-b939bc9f0bc9",
   "metadata": {},
   "source": [
    "We proceed to normalize the physical quantities as follows:\n",
    "\\begin{align*}\n",
    "   t &\\coloneqq t^{d}|\\Omega_{ce}|, \\qquad \\omega \\coloneqq \\frac{\\omega^{d}}{|\\Omega_{ce}|}, \\qquad k_{\\perp} \\coloneqq d_{e} k_{\\perp}^{d}, \\qquad \\omega_{pe} \\coloneqq \\frac{\\omega_{pe}^{d}}{|\\Omega_{ce}|}, \\qquad \\alpha_{\\perp c} \\coloneqq \\frac{\\alpha_{\\perp c}^{d}}{d_{e} |\\Omega_{ce}|}, \\qquad  \\mathcal{E}_{E}(k_{\\perp}, t) \\coloneqq \\frac{|\\delta \\vec{\\hat{E}}(k_{\\perp}, t)|^2}{d_{e}^3 \\Omega_{ce}^2 m_{e} n_{e}}, \\\\\n",
    "   T_{\\perp c} &\\coloneqq \\frac{T_{\\perp c}^{d}}{d_{e}^2 \\Omega_{ce}^2 m_{e}}, \\qquad n_{c} \\coloneqq \\frac{n_{c}^{d}}{n_{e}}, \\qquad \\mathcal{E}_{B}(k_{\\|}, t) \\coloneqq \\frac{|\\delta \\vec{\\hat{B}}(k_{\\|}, t)|^2}{d_{e}^3 \\Omega_{ce}^2 m_{e} n_{e}}, \\qquad K_{\\perp c} \\coloneqq \\frac{K_{\\perp c}^{d}}{d_{e}^2 \\Omega_{ce}^2 m_{e} n_{e}},\n",
    "\\end{align*}\n",
    "leading to\n",
    "\\begin{align*}\n",
    "    \\frac{\\mathrm{d} K_{\\perp c}(t)}{\\mathrm{d} t} &=  -\\frac{1}{2\\pi} \\int_{0}^{\\infty} \\mathrm{d} k_{\\perp} \\mathcal{E}_{E}(k_{\\perp}, t) \\mathrm{Im} \\left\\{\\omega - \\frac{\\omega}{k_{\\perp}^2} \\frac{\\omega_{pi}^2}{\\alpha_{i}^2} J^2_{m*}\\left(\\frac{k_{\\perp} |V_{Dc}|}{ \\omega_{0}}\\right) Z{'}\\left(\\frac{\\omega + m_{*} \\omega_{0}}{k_{\\perp} \\alpha_{i}}\\right)\\right\\}\\\\\n",
    "    \\partial_{t} \\mathcal{E}_{E}(k_{\\perp}, t)  &= 2 \\mathrm{Im}\\{\\omega\\}  \\mathcal{E}_{E}(k_{\\perp}, t) \\\\\n",
    "    \\partial_{t} \\int_{0}^{\\infty} \\mathrm{d} k_{\\|}  \\mathcal{E}_{B}(k_{\\|}, t) &= - \\frac{2}{\\frac{\\omega_{0}^2}{k_{\\|0}^2\\omega_{pe}^2} + 1} \\int_{0}^{\\infty} \\mathrm{d} k_{\\perp} \\mathcal{E}_{E}(k_{\\perp}, t) \\mathrm{Im} \\left\\{ \\frac{\\omega}{k_{\\perp}^2} \\frac{\\omega_{pi}^2}{\\alpha_{i}^2} J^2_{m*}\\left(\\frac{k_{\\perp} |V_{Dc}|}{ \\omega_{0}}\\right) Z{'}\\left(\\frac{\\omega + m_{*} \\omega_{0}}{k_{\\perp} \\alpha_{i}}\\right)\\right\\}\\\\\n",
    "    \\frac{\\mathrm{d} |V_{Dc}(t)|^2}{\\mathrm{d} t} &= \\frac{1}{4\\pi} \\left[\\frac{\\omega_{0}}{k_{\\|0}}\\frac{1}{\\omega_{0} -1} \\right]^2 \\partial_{t} \\int_{0}^{\\infty} \\mathrm{d} k_{\\|}  \\mathcal{E}_{B}(k_{\\|}, t)\\\\\n",
    "    k_{\\perp}^2 - 4 n_{c} \\frac{\\omega_{pe}^2}{\\alpha_{\\perp c}^2} &\\sum_{n=1}^{\\infty}\\exp(-\\lambda_{c}) I_{n}(\\lambda_{c}) \\left[ \\frac{n^2}{\\omega^2 - n^2 }\\right] = \\frac{\\omega_{pi}^2}{\\alpha_{i}^2} \\left|J_{m^{*}}\\left(\\frac{k_{\\perp} |V_{Dc}|}{\\omega_{0}}\\right)\\right|^2 Z'\\left(\\frac{\\omega + m^{*}\\omega_{0}}{k_{\\perp} \\alpha_{i}}\\right) \\\\\n",
    "    \\lambda_{c} &= \\frac{k_{\\perp}^2 \\alpha_{\\perp c}^2}{2} \n",
    "\\end{align*}"
   ]
  },
  {
   "cell_type": "code",
   "execution_count": 10,
   "id": "1b5acbd5-22f6-48ba-96ea-4bb385926d27",
   "metadata": {},
   "outputs": [],
   "source": [
    "def get_omega_vec(k_vec, omega_pe, omega_pi, v_0, alpha_i, alpha_perp_c, n_c, omega_0):\n",
    "    omega_vec = np.zeros(len(k_vec), dtype=\"complex128\")\n",
    "    for ii, kk in enumerate(k_vec):\n",
    "        ic1 = 1.5 +1E-3j\n",
    "        ic2 = 1. + 1E-4j\n",
    "        try:\n",
    "            omega_vec[ii] = scipy.optimize.newton(dispersion_relation(k_perp=kk, omega_pe=omega_pe, omega_0=omega_0,\n",
    "                                                     omega_pi=omega_pi, v_0=v_0, alpha_i=alpha_i, \n",
    "                                                     alpha_perp_c=alpha_perp_c, n_c=n_c), ic1, tol=1e-15)\n",
    "        except:\n",
    "            try:\n",
    "                omega_vec[ii] = scipy.optimize.newton(dispersion_relation(k_perp=kk, omega_pe=omega_pe, omega_0=omega_0,\n",
    "                                                         omega_pi=omega_pi, v_0=v_0, alpha_i=alpha_i, \n",
    "                                                         alpha_perp_c=alpha_perp_c, n_c=n_c), ic2, tol=1e-15)\n",
    "            except:\n",
    "                omega_vec[ii] = 0\n",
    "    return omega_vec"
   ]
  },
  {
   "cell_type": "code",
   "execution_count": 26,
   "id": "f29c245e-9b70-41b8-bb9d-7e9d4c380a59",
   "metadata": {},
   "outputs": [],
   "source": [
    "def dydt(t, f, k_vec, omega_pe, omega_pi, k_0, alpha_i, n_c, dk, omega_0):\n",
    "    # dispersion solver\n",
    "    omega_vec = get_omega_vec(k_vec=k_vec, omega_pe=omega_pe, omega_pi=omega_pi, v_0=v_0, omega_0=omega_0,\n",
    "                          alpha_i=alpha_i, alpha_perp_c=np.sqrt(2*f[0]/n_c), n_c=n_c)\n",
    "\n",
    "    # omega_vec = np.zeros(len(omega_vec_temp), dtype=\"complex128\")\n",
    "    # omega_vec[np.where(omega_vec_temp.imag > 0)] = omega_vec_temp[np.where(omega_vec_temp.imag > 0)]\n",
    "    \n",
    "    # cold electron kinetic energy \n",
    "    rhs_K = dKdt(omega_pi=omega_pi, alpha_i=alpha_i, E_vec=f[3:], k_vec=k_vec, omega_vec=omega_vec, dk=dk, \n",
    "                 omega_0=omega_0, v_0=np.sqrt(f[2]))\n",
    "\n",
    "    # electrostatic electric energy\n",
    "    rhs_E = dEdt(gamma=omega_vec.imag, E_vec=f[3:])\n",
    "\n",
    "    # magnetic energy whistler\n",
    "    rhs_B = dBdt(omega_pi=omega_pi, alpha_i=alpha_i, E_vec=f[3:], k_vec=k_vec, omega_vec=omega_vec, dk=dk, omega_pe=omega_pe,\n",
    "                 omega_0=omega_0, v_0=np.sqrt(f[2]), k_0=k_0)\n",
    "\n",
    "    # drift magnitude of cold electrons\n",
    "    rhs_V = dVdt(omega_0=omega_0, k_0=k_0, omega_pi=omega_pi, alpha_i=alpha_i, E_vec=f[3:], k_vec=k_vec, omega_vec=omega_vec,\n",
    "                 dk=dk, v_0=np.sqrt(f[2]), omega_pe=omega_pe)\n",
    "\n",
    "    print(\"t = \", t)\n",
    "    print(\"max gamma = \", np.max(omega_vec.imag))\n",
    "    return np.concatenate(([rhs_K], [rhs_B], [rhs_V], rhs_E))"
   ]
  },
  {
   "cell_type": "code",
   "execution_count": 37,
   "id": "a196dfef-98fe-4c41-9148-010a35b45e60",
   "metadata": {},
   "outputs": [],
   "source": [
    "# normalization \n",
    "# time is normalized to the electron cyclotron frequency 1/Omega_ce\n",
    "# space is normalized to electron inertial length d_e\n",
    "n_c = 4/5 # n^e_0\n",
    "omega_0 = 0.5 # Omega_ce\n",
    "k_0 = 1 # d_e\n",
    "dB0 = 4*np.pi * (5e-5) # d_{e}^3 Omega_{ce}^2 m_{e} n_{e}\n",
    "\n",
    "omega_pe = 4 # Omgea_{ce}\n",
    "alpha_perp_c = 0.0079 # d_e x Omega_ce\n",
    "alpha_i =  0.0079 / np.sqrt(1836) # d_e x Omega_ce\n",
    "\n",
    "v_0 = 0.65 * 0.0079 # d_e x Omega_ce\n",
    "omega_pi = omega_pe / np.sqrt(1836) # Omega_ce\n",
    "\n",
    "# initial conditions\n",
    "E0 = 1e-10\n",
    "K0 = (alpha_perp_c**2 / 2) * n_c\n",
    "\n",
    "# k vector\n",
    "k_vec = np.linspace(176, 220, 150)\n",
    "dk = np.abs(k_vec[1] - k_vec[0])\n",
    "\n",
    "# max time \n",
    "t_max = 300"
   ]
  },
  {
   "cell_type": "code",
   "execution_count": 38,
   "id": "70169e45-02db-4f42-8898-f280ac2a1162",
   "metadata": {},
   "outputs": [
    {
     "data": {
      "text/plain": [
       "0.0006283185307179586"
      ]
     },
     "execution_count": 38,
     "metadata": {},
     "output_type": "execute_result"
    }
   ],
   "source": [
    "dB0 "
   ]
  },
  {
   "cell_type": "code",
   "execution_count": 39,
   "id": "c5edbbc5-99aa-4a62-a0e8-0f14679eb00f",
   "metadata": {},
   "outputs": [],
   "source": [
    "# Determine k-range\n",
    "omega_ = get_omega_vec(k_vec=k_vec, omega_pe=omega_pe, omega_pi=omega_pi, v_0=v_0, omega_0=omega_0,\n",
    "                          alpha_i=alpha_i, alpha_perp_c=alpha_perp_c, n_c=n_c)"
   ]
  },
  {
   "cell_type": "code",
   "execution_count": 40,
   "id": "36922da9-6329-4a26-953c-c1d3a6a638bc",
   "metadata": {},
   "outputs": [
    {
     "data": {
      "image/png": "[encoded data removed]",
      "text/plain": [
       "<Figure size 600x400 with 1 Axes>"
      ]
     },
     "metadata": {},
     "output_type": "display_data"
    }
   ],
   "source": [
    "fig, ax = plt.subplots(figsize=(6, 4))\n",
    "ax.plot(k_vec, omega_.imag, linewidth=2)\n",
    "ax.set_xlabel(\"$k_{\\perp} d_{e}$\")\n",
    "ax.set_ylabel(\"$\\gamma/|\\Omega_{ce}|$\")\n",
    "\n",
    "ax.spines['right'].set_visible(False)\n",
    "ax.spines['top'].set_visible(False)\n",
    "\n",
    "plt.tight_layout()"
   ]
  },
  {
   "cell_type": "code",
   "execution_count": null,
   "id": "5187e318-1238-4005-9b4a-c3e32c8f9a13",
   "metadata": {
    "scrolled": true
   },
   "outputs": [
    {
     "name": "stdout",
     "output_type": "stream",
     "text": [
      "t =  0.0\n",
      "max gamma =  0.007081140149495189\n",
      "t =  8730.955918868014\n",
      "max gamma =  0.006903657695885822\n",
      "t =  0.0\n",
      "max gamma =  0.007081140149495189\n",
      "t =  0.0\n",
      "max gamma =  0.007081140006411815\n",
      "t =  0.0\n",
      "max gamma =  0.007081140149495189\n",
      "t =  0.0\n",
      "max gamma =  0.007081140149495189\n",
      "t =  0.0\n",
      "max gamma =  0.007081140149495189\n",
      "t =  0.0\n",
      "max gamma =  0.007081140149495189\n",
      "t =  0.0\n",
      "max gamma =  0.007081140149495189\n",
      "t =  0.0\n",
      "max gamma =  0.007081140149495189\n",
      "t =  0.0\n",
      "max gamma =  0.007081140149495189\n",
      "t =  0.0\n",
      "max gamma =  0.007081140149495189\n",
      "t =  0.0\n",
      "max gamma =  0.007081140149495189\n",
      "t =  0.0\n",
      "max gamma =  0.007081140149495189\n",
      "t =  0.0\n",
      "max gamma =  0.007081140149495189\n",
      "t =  0.0\n",
      "max gamma =  0.007081140149495189\n",
      "t =  0.0\n",
      "max gamma =  0.007081140149495189\n",
      "t =  0.0\n",
      "max gamma =  0.007081140149495189\n",
      "t =  0.0\n",
      "max gamma =  0.007081140149495189\n",
      "t =  0.0\n",
      "max gamma =  0.007081140149495189\n",
      "t =  0.0\n",
      "max gamma =  0.007081140149495189\n",
      "t =  0.0\n",
      "max gamma =  0.007081140149495189\n",
      "t =  0.0\n",
      "max gamma =  0.007081140149495189\n",
      "t =  0.0\n",
      "max gamma =  0.007081140149495189\n",
      "t =  0.0\n",
      "max gamma =  0.007081140149495189\n",
      "t =  0.0\n",
      "max gamma =  0.007081140149495189\n",
      "t =  0.0\n",
      "max gamma =  0.007081140149495189\n",
      "t =  0.0\n",
      "max gamma =  0.007081140149495189\n",
      "t =  0.0\n",
      "max gamma =  0.007081140149495189\n",
      "t =  0.0\n",
      "max gamma =  0.007081140149495189\n",
      "t =  0.0\n",
      "max gamma =  0.007081140149495189\n",
      "t =  0.0\n",
      "max gamma =  0.007081140149495189\n",
      "t =  0.0\n",
      "max gamma =  0.007081140149495189\n",
      "t =  0.0\n",
      "max gamma =  0.007081140149495189\n",
      "t =  0.0\n",
      "max gamma =  0.007081140149495189\n",
      "t =  0.0\n",
      "max gamma =  0.007081140149495189\n",
      "t =  0.0\n",
      "max gamma =  0.007081140149495189\n",
      "t =  0.0\n",
      "max gamma =  0.007081140149495189\n",
      "t =  0.0\n",
      "max gamma =  0.007081140149495189\n",
      "t =  0.0\n",
      "max gamma =  0.007081140149495189\n",
      "t =  0.0\n",
      "max gamma =  0.007081140149495189\n",
      "t =  0.0\n",
      "max gamma =  0.007081140149495189\n",
      "t =  0.0\n",
      "max gamma =  0.007081140149495189\n",
      "t =  0.0\n",
      "max gamma =  0.007081140149495189\n",
      "t =  0.0\n",
      "max gamma =  0.007081140149495189\n"
     ]
    }
   ],
   "source": [
    "dE_init = E0 * np.ones(len(k_vec))\n",
    "\n",
    "# simulate \n",
    "result = scipy.integrate.solve_ivp(fun=dydt, t_span=[0, t_max], \n",
    "                                   y0=np.concatenate(([K0], [dB0], [v_0**2], dE_init)), \n",
    "                                   args=(k_vec, omega_pe, omega_pi, k_0, alpha_i, n_c, dk, omega_0),\n",
    "                                   atol=1e-10, rtol=1e-10, \n",
    "                                   method='BDF')"
   ]
  },
  {
   "cell_type": "code",
   "execution_count": null,
   "id": "b1acc517-8e73-4ac4-b42f-7a60fe208f42",
   "metadata": {},
   "outputs": [],
   "source": [
    "fig, ax = plt.subplots(figsize=(4, 4))\n",
    "ax.plot(result.t, np.sum(result.y[3:, :], axis=0)*dk/(8*np.pi), color=\"black\", linewidth=2)\n",
    "ax.set_xlabel(r'$t|\\Omega_{ce}|$')\n",
    "ax.set_ylabel(r'$\\int \\mathcal{E}_{E}(k_{\\perp}, t) \\mathrm{d} k_{\\perp}$')\n",
    "ax.spines['right'].set_visible(False)\n",
    "ax.spines['top'].set_visible(False)\n",
    "plt.tight_layout()"
   ]
  },
  {
   "cell_type": "code",
   "execution_count": null,
   "id": "ac93bfc3-5d2f-4d24-88cc-fd200e36b743",
   "metadata": {},
   "outputs": [],
   "source": [
    "fig, ax = plt.subplots(figsize=(4, 4))\n",
    "ax.plot(result.t, result.y[0, :]/result.y[0, 0], color=\"red\", linewidth=2)\n",
    "\n",
    "ax.set_xlabel(\"$t|\\Omega_{ce}|$\")\n",
    "ax.set_ylabel(r\"$K_{c\\perp}(t)/K_{c\\perp}(0)$\")\n",
    "ax.spines['right'].set_visible(False)\n",
    "ax.spines['top'].set_visible(False)\n",
    "\n",
    "plt.tight_layout()"
   ]
  },
  {
   "cell_type": "code",
   "execution_count": null,
   "id": "de86263f-948b-4e33-9920-6061654d0109",
   "metadata": {},
   "outputs": [],
   "source": [
    "fig, ax = plt.subplots(figsize=(4, 4))\n",
    "ax.plot(result.t, result.y[1, :]/result.y[1, 0], color=\"red\", linewidth=2)\n",
    "\n",
    "ax.set_xlabel(\"$t|\\Omega_{ce}|$\")\n",
    "ax.set_ylabel(r\"$\\frac{\\delta B^2(t)}{\\delta B^2(t=0)} \\propto \\frac{V_{Dc}(t)}{V_{Dc}(t=0)}$\")\n",
    "\n",
    "ax.spines['right'].set_visible(False)\n",
    "ax.spines['top'].set_visible(False)\n",
    "\n",
    "plt.tight_layout()"
   ]
  },
  {
   "cell_type": "code",
   "execution_count": null,
   "id": "29d3cadd-f978-4168-970d-b12731ccd677",
   "metadata": {},
   "outputs": [],
   "source": [
    "fig, ax = plt.subplots(figsize=(6, 4))\n",
    "kinetic_energy = result.y[0, :]\n",
    "potential_energy = np.sum(result.y[3:, :], axis=0)*dk/(4*np.pi)\n",
    "magnetic_energy = (1 + (omega_0/k_0/omega_pe)**2) * result.y[1, :]/(4*np.pi) \n",
    "total_energy = kinetic_energy + magnetic_energy + potential_energy \n",
    "\n",
    "ax.plot(result.t, kinetic_energy - kinetic_energy[0], color=\"black\", linewidth=2, label=\"$\\Delta K$\")\n",
    "ax.plot(result.t, magnetic_energy - magnetic_energy[0], color=\"red\", linewidth=2, label=\"$\\Delta B_{W} + \\Delta E_{W}$\")\n",
    "ax.plot(result.t, potential_energy - potential_energy[0], color=\"blue\", linewidth=2, label=\"$\\Delta E_{E}$\")\n",
    "ax.plot(result.t, total_energy - total_energy[0], color=\"green\", linewidth=2, label=\"$\\Delta E_{tot}$\")\n",
    "\n",
    "ax.set_yscale(\"symlog\", linthresh=1e-10)\n",
    "ax.set_xlabel(r'$t|\\Omega_{ce}|$')\n",
    "ax.set_ylabel(r'$\\Delta E$')\n",
    "\n",
    "legend = ax.legend(loc='upper left', ncols=2, fancybox=False, shadow=False, fontsize=14)\n",
    "legend.get_frame().set_alpha(0)\n",
    "\n",
    "ax.spines['right'].set_visible(False)\n",
    "ax.spines['top'].set_visible(False)\n",
    "\n",
    "plt.tight_layout()"
   ]
  },
  {
   "cell_type": "code",
   "execution_count": null,
   "id": "14755847-ea64-4c51-9092-125ea2ca6d9a",
   "metadata": {},
   "outputs": [],
   "source": [
    "fig, ax = plt.subplots(figsize=(7, 5))\n",
    "pos = ax.pcolormesh(result.t, k_vec, result.y[3:], cmap=\"viridis\", \n",
    "                    norm=matplotlib.colors.LogNorm(), shading='gouraud')\n",
    "cbar = fig.colorbar(pos)\n",
    "\n",
    "ax.set_xlabel(r'$t|\\Omega_{ce}|$')\n",
    "ax.set_ylabel(r'$k_{\\perp} d_{e}$')\n",
    "\n",
    "ax.spines['right'].set_visible(False)\n",
    "ax.spines['top'].set_visible(False)\n",
    "\n",
    "ax.set_title(r\"$\\mathcal{E}_{E}(k_{\\perp}, t)$\")"
   ]
  },
  {
   "cell_type": "code",
   "execution_count": null,
   "id": "7cd6155d-f406-482d-97ad-f0a21be726ef",
   "metadata": {},
   "outputs": [],
   "source": []
  },
  {
   "cell_type": "code",
   "execution_count": null,
   "id": "77d342da-2822-438f-b3b7-9acb502bb3b7",
   "metadata": {},
   "outputs": [],
   "source": []
  },
  {
   "cell_type": "code",
   "execution_count": null,
   "id": "03737ee1-7999-4a37-85cc-33d4e2ce6b5f",
   "metadata": {},
   "outputs": [],
   "source": []
  }
 ],
 "metadata": {
  "kernelspec": {
   "display_name": "Python 3 (ipykernel)",
   "language": "python",
   "name": "python3"
  },
  "language_info": {
   "codemirror_mode": {
    "name": "ipython",
    "version": 3
   },
   "file_extension": ".py",
   "mimetype": "text/x-python",
   "name": "python",
   "nbconvert_exporter": "python",
   "pygments_lexer": "ipython3",
   "version": "3.9.19"
  }
 },
 "nbformat": 4,
 "nbformat_minor": 5
}
