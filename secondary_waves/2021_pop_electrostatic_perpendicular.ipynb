{
 "cells": [
  {
   "cell_type": "markdown",
   "id": "59043ae3-97f7-42f5-b32e-b4d58389b478",
   "metadata": {},
   "source": [
    "Last update: May 13th, 2024 \n",
    "\n",
    "\n",
    "# ECDI-like Linear Theory \n",
    "#### V. Roytershteyn and G. L. Delzanno. *Nonlinear coupling of whistler waves to oblique electrostatic turbulence enabled by cold plasma*. Physics of Plasmas, 28(4):042903, 04 2021\n",
    "\n",
    "Author: Opal Issan (oissan@ucsd.edu)"
   ]
  },
  {
   "cell_type": "code",
   "execution_count": null,
   "id": "af91a5fa-c454-477b-91b8-4ee3160d4eed",
   "metadata": {},
   "outputs": [],
   "source": [
    "import numpy as np\n",
    "import matplotlib.pyplot as plt\n",
    "from scipy.special import wofz \n",
    "import scipy\n",
    "from scipy.sparse import diags"
   ]
  },
  {
   "cell_type": "code",
   "execution_count": null,
   "id": "da1ac8fa-e856-42c0-a9b2-6414deba9b33",
   "metadata": {},
   "outputs": [],
   "source": [
    "%matplotlib inline\n",
    "import matplotlib\n",
    "font = {'family' : 'serif',\n",
    "        'size'   : 14}\n",
    "\n",
    "matplotlib.rc('font', **font)\n",
    "matplotlib.rc('xtick', labelsize=14) \n",
    "matplotlib.rc('ytick', labelsize=14) "
   ]
  },
  {
   "cell_type": "code",
   "execution_count": null,
   "id": "75887d13-8759-4053-8e66-d13fa9e34754",
   "metadata": {},
   "outputs": [],
   "source": [
    "# important basic functions \n",
    "\n",
    "def Z(z):\n",
    "    # plasma dispersion function Z(xi)\n",
    "    return 1j * np.sqrt(np.pi) * wofz(z)\n",
    "    \n",
    "def Z_prime(z):\n",
    "    # derivative of the plasma dispersion function Z'(xi)\n",
    "    return -2*(1+z*Z(z))\n",
    "\n",
    "def I(Lambda_e, m):\n",
    "    # modified Bessel function of the first kind I_{m}(\\lambda) x exp(-lambda)\n",
    "    return scipy.special.ive(m, Lambda_e)\n",
    "\n",
    "def J(Lambda_e, m):\n",
    "    # Bessel function of the first kind J_{m}(\\lambda)\n",
    "    return scipy.special.jv(m, Lambda_e)"
   ]
  },
  {
   "cell_type": "code",
   "execution_count": null,
   "id": "227760c1-95aa-4745-b0d0-0bdbab3b6f72",
   "metadata": {},
   "outputs": [],
   "source": [
    "# Visualize the modified Bessel functions \n",
    "fig, ax = plt.subplots(figsize=(6, 4))\n",
    "x = np.linspace(-5., 5., 1000)\n",
    "for i in np.arange(0, 6):\n",
    "    ax.plot(x, I(m=i, Lambda_e=x), label=fr'$I_{i!r}(z)\\cdot e^{{-|z|}}$', linewidth=2)\n",
    "ax.set_xlabel(r\"$z$\")\n",
    "ax.set_ylim(-0.5, 1.5)\n",
    "ax.set_xlim(np.min(x), np.max(x))\n",
    "ax.spines['right'].set_visible(False)\n",
    "ax.spines['top'].set_visible(False)\n",
    "legend = ax.legend(loc='upper center', ncols=3, fancybox=False, shadow=False, fontsize=12)\n",
    "legend.get_frame().set_alpha(0)\n",
    "plt.tight_layout()"
   ]
  },
  {
   "cell_type": "code",
   "execution_count": null,
   "id": "b053e089-92b5-4821-8b63-02433c5d068f",
   "metadata": {},
   "outputs": [],
   "source": [
    "# Visualize the Bessel function \n",
    "fig, ax = plt.subplots(figsize=(6, 4))\n",
    "x = np.linspace(-5., 5., 1000)\n",
    "for i in np.arange(0, 6):\n",
    "    ax.plot(x, J(m=i, Lambda_e=x), label=fr'$J_{i!r}(z)$', linewidth=2)\n",
    "ax.set_xlabel(r\"$z$\")\n",
    "ax.set_ylim(-1, 2)\n",
    "ax.set_xlim(np.min(x), np.max(x))\n",
    "ax.spines['right'].set_visible(False)\n",
    "ax.spines['top'].set_visible(False)\n",
    "legend = ax.legend(loc='upper center', ncols=3, fancybox=False, shadow=False, fontsize=12)\n",
    "legend.get_frame().set_alpha(0)\n",
    "plt.tight_layout()"
   ]
  },
  {
   "cell_type": "markdown",
   "id": "ee329d8f-4f83-4452-b26c-cc441b3fc1ba",
   "metadata": {},
   "source": [
    "## Electrostatic perpendicular dispersion relation \n",
    "The dispersion relation is \n",
    "\\begin{align*}\n",
    "    k_{\\perp}^2 + \\epsilon_{c}(\\omega, k_{\\perp}) &= \\epsilon_{i}(\\omega, k_{\\perp})\\\\\n",
    "    \\epsilon_{c}(\\omega, k_{\\perp}) &=- \\frac{n_{c}}{n_{e}} \\frac{4\\omega_{pe}^2}{\\alpha_{\\perp c}^2} \\sum_{n=1}^{\\infty} \\overbrace{\\exp(-\\lambda) I_{n}(\\lambda)}^{\\texttt{ive(n, } \\lambda)} \\frac{ n^2\\Omega_{ce}^2}{\\omega^2 - n^2 \\Omega_{ce}^2}\\\\\n",
    "    \\epsilon_{i}(\\omega, k_{\\perp})&=\\frac{\\omega_{pi}^2}{\\alpha_{i}^2} [\\underbrace{J_{m*}(a)}_{\\texttt{jv(m*, a)}}]^2 Z{'}\\left(\\frac{\\omega + m_{*} \\omega_{0}}{k \\alpha_{i}}\\right)\\\\\n",
    "    a &\\coloneqq \\frac{k_{\\perp} |V_{Dc}|}{ \\omega_{0}}\\\\\n",
    "    \\lambda &\\coloneqq \\frac{1}{2} \\frac{k_{\\perp}^2 \\alpha_{\\perp c}^2}{\\Omega_{ce}^2} \n",
    "\\end{align*} "
   ]
  },
  {
   "cell_type": "code",
   "execution_count": null,
   "id": "8cb2cfac-8d1f-4a17-8f27-27e79db01379",
   "metadata": {},
   "outputs": [],
   "source": [
    "# normalization \n",
    "# time is normalized to the electron cyclotron frequency 1/Omega_ce\n",
    "# space is normalized to electron inertial length d_e\n",
    "n_c = 4/5 # n^e_0\n",
    "omega_0 = 0.5 # Omega_ce\n",
    "\n",
    "omega_pe = 4 # Omgea_{ce}\n",
    "alpha_perp_c = 0.0079 # d_e x Omega_ce\n",
    "alpha_i =  alpha_perp_c / np.sqrt(1836) # d_e x Omega_ce\n",
    "\n",
    "v_0 = 0.65 * alpha_perp_c # d_e x Omega_ce\n",
    "omega_pi = omega_pe / np.sqrt(1836) # Omega_ce"
   ]
  },
  {
   "cell_type": "code",
   "execution_count": null,
   "id": "d8c54c08-5b7a-4fd9-b1bd-5d21f76643d1",
   "metadata": {},
   "outputs": [],
   "source": [
    "def sum_bessel(lambda_, omega, n_max=10):\n",
    "    res =0 \n",
    "    for n in range(1, n_max):\n",
    "        res += I(m=n, Lambda_e=lambda_) * (n**2) / (omega**2 - n**2)\n",
    "    return res\n",
    "\n",
    "def ion_response(omega_pi, alpha_i, m_star, omega, omega_0, k_perp, v_0):\n",
    "    a = k_perp * np.abs(v_0) / omega_0\n",
    "    return (omega_pi**2)/(alpha_i**2) * (J(m=m_star, Lambda_e=a)**2) * Z_prime((omega + m_star*omega_0)/(k_perp*alpha_i))\n",
    "\n",
    "def cold_electron_response(k_perp, omega, n_max, omega_pe, alpha_perp_c, n_c):\n",
    "    lambda_ =  (k_perp*alpha_perp_c/np.sqrt(2))**2\n",
    "    return -n_c * 4 * (omega_pe**2) /(alpha_perp_c**2) * sum_bessel(lambda_=lambda_, omega=omega, n_max=n_max)\n",
    "    \n",
    "def disp_k(k_perp, \n",
    "           omega_pe=omega_pe, \n",
    "           omega_pi=omega_pi, \n",
    "           v_0=v_0, \n",
    "           alpha_i=alpha_i, \n",
    "           alpha_perp_c=alpha_perp_c,\n",
    "           n_c=n_c, \n",
    "           m_star=-3, \n",
    "           n_max=50):\n",
    "    return lambda omega : k_perp**2\\\n",
    "                         + cold_electron_response(k_perp=k_perp, omega=omega, n_max=n_max, omega_pe=omega_pe, alpha_perp_c=alpha_perp_c, n_c=n_c) \\\n",
    "                         - ion_response(omega_pi=omega_pi, alpha_i=alpha_i, m_star=m_star, v_0=v_0, omega=omega, omega_0=omega_0, k_perp=k_perp)"
   ]
  },
  {
   "cell_type": "code",
   "execution_count": null,
   "id": "cf5c13d1-ff96-46a8-ac80-30908e6fcfc8",
   "metadata": {},
   "outputs": [],
   "source": [
    "k_perp = 150 \n",
    "sol = scipy.optimize.newton(disp_k(k_perp=k_perp), 1.5 + 0.005j, maxiter=10000)\n",
    "print(\"omega_k + i gamma = \", sol)\n",
    "print(\"dispersion residual = \", abs(disp_k(k_perp=k_perp)(sol)))"
   ]
  },
  {
   "cell_type": "code",
   "execution_count": null,
   "id": "9a319104-2946-4824-afc1-7f49e274314c",
   "metadata": {},
   "outputs": [],
   "source": [
    "k_perp_ = np.linspace(175, 250, 60)\n",
    "sol_ = np.zeros(len(k_perp_), dtype=\"complex128\")"
   ]
  },
  {
   "cell_type": "code",
   "execution_count": null,
   "id": "a70e614f-1245-4099-b0fe-c8e50571b756",
   "metadata": {},
   "outputs": [],
   "source": [
    "for ii in range(len(k_perp_)):\n",
    "    try:\n",
    "        sol_[ii] = scipy.optimize.newton(disp_k(k_perp=k_perp_[ii]), 1.5 + 0.0005j, maxiter=10000)\n",
    "        print(\"dispersion residual = \", abs(disp_k(k_perp=k_perp_[ii])(sol_[ii])))\n",
    "    except:\n",
    "        print(\"An exception occurred\")"
   ]
  },
  {
   "cell_type": "code",
   "execution_count": null,
   "id": "e42bea3d-5dbf-478e-9d26-cd991a845083",
   "metadata": {},
   "outputs": [],
   "source": [
    "fig, ax = plt.subplots(figsize=(6, 3))\n",
    "ax.plot(k_perp_, sol_.real, linewidth=3, color=\"tab:orange\")\n",
    "ax.set_ylabel('$\\omega_r/|\\Omega_{ce}|$')\n",
    "ax.set_xlabel('$k_{\\perp}d_{e}$')\n",
    "ax.set_xticks([180, 200, 220, 240])\n",
    "ax.spines['right'].set_visible(False)\n",
    "ax.spines['top'].set_visible(False)\n",
    "plt.tight_layout()\n",
    "plt.savefig(\"figs/vadim_2021/vadim_fig5_a.png\", dpi=300, bbox_inches='tight')"
   ]
  },
  {
   "cell_type": "code",
   "execution_count": null,
   "id": "df0f8c9e-8610-4b00-affd-658a1184c101",
   "metadata": {},
   "outputs": [],
   "source": [
    "fig, ax = plt.subplots(figsize=(6, 3))\n",
    "ax.plot(k_perp_, sol_.imag, linewidth=3, color=\"tab:orange\")\n",
    "ax.set_ylabel('$\\gamma/|\\Omega_{ce}|$')\n",
    "ax.set_xlabel('$k_{\\perp}d_{e}$')\n",
    "ax.set_xticks([180, 200, 220, 240])\n",
    "ax.set_ylim(-0.0001, 0.0075)\n",
    "ax.set_yticks([0, 0.0025, 0.005, 0.0075])\n",
    "ax.spines['right'].set_visible(False)\n",
    "ax.spines['top'].set_visible(False)\n",
    "plt.tight_layout()\n",
    "plt.savefig(\"figs/vadim_2021/vadim_fig5_b.png\", dpi=300, bbox_inches='tight')"
   ]
  },
  {
   "cell_type": "markdown",
   "id": "7de98738-da39-4c72-9cd9-8ae7ec5e0c5e",
   "metadata": {},
   "source": [
    "# understanding the instability "
   ]
  },
  {
   "cell_type": "code",
   "execution_count": null,
   "id": "f8e8615b-030d-401c-868d-db76f6906547",
   "metadata": {},
   "outputs": [],
   "source": [
    "ion_feedback = ion_response(omega_pi=omega_pi, alpha_i=alpha_i, m_star=-3, v_0=v_0, omega=sol_, omega_0=omega_0, k_perp=k_perp_)\n",
    "\n",
    "electron_feedback = k_perp_**2 +cold_electron_response(k_perp=k_perp_, \n",
    "                                                       omega=sol_, n_max=7, \n",
    "                                                       omega_pe=omega_pe, alpha_perp_c=alpha_perp_c, n_c=n_c)"
   ]
  },
  {
   "cell_type": "code",
   "execution_count": null,
   "id": "5bb9e019-ff5e-413e-b125-a9c84511898c",
   "metadata": {},
   "outputs": [],
   "source": [
    "fig, ax = plt.subplots(figsize=(6, 3))\n",
    "\n",
    "ax.plot(k_perp_, electron_feedback.imag, color=\"blue\", ls=\"--\", linewidth=3)\n",
    "ax.plot(k_perp_, ion_feedback.imag, color=\"blue\")\n",
    "ax.plot(k_perp_, electron_feedback.real, color=\"red\", ls=\"--\", linewidth=3)\n",
    "ax.plot(k_perp_, ion_feedback.real, color=\"red\")\n",
    "\n",
    "#ax.set_yscale(\"log\")"
   ]
  },
  {
   "cell_type": "markdown",
   "id": "9e0c1ce1-ffa7-4dc3-be4d-74d1d0f2973e",
   "metadata": {},
   "source": [
    "#"
   ]
  },
  {
   "cell_type": "code",
   "execution_count": null,
   "id": "df4e2195-b8fd-4431-9486-bf1812432a97",
   "metadata": {},
   "outputs": [],
   "source": [
    "k_perp = 190"
   ]
  },
  {
   "cell_type": "code",
   "execution_count": null,
   "id": "7f633ec0-45d7-4434-8d3f-ca12eaa99af1",
   "metadata": {},
   "outputs": [],
   "source": [
    "omega_ = np.linspace(0.1, 5, 500)\n",
    "electron_feedback = k_perp**2 +cold_electron_response(k_perp=k_perp, omega=omega_, n_max=50, \n",
    "                                                           omega_pe=omega_pe, alpha_perp_c=alpha_perp_c, n_c=n_c)"
   ]
  },
  {
   "cell_type": "code",
   "execution_count": null,
   "id": "e5b99d33-08f5-45a4-a67e-8080df548511",
   "metadata": {},
   "outputs": [],
   "source": [
    "fig, ax = plt.subplots(figsize=(8, 5))\n",
    "\n",
    "ax.plot(omega_, np.abs(electron_feedback), color=\"blue\", ls=\"--\", linewidth=3, label=\"electron\")\n",
    "\n",
    "ax.plot(omega_, np.abs(ion_response(omega_pi=omega_pi, alpha_i=alpha_i, m_star=0, v_0=v_0, omega=omega_, omega_0=omega_0, k_perp=k_perp)), color=\"pink\",  linewidth=3, label=\"ion  $m=0$\")\n",
    "ax.plot(omega_, np.abs(ion_response(omega_pi=omega_pi, alpha_i=alpha_i, m_star=-1, v_0=v_0, omega=omega_, omega_0=omega_0, k_perp=k_perp)), color=\"orange\",  linewidth=3, label=\"ion  $m=-1$\")\n",
    "ax.plot(omega_, np.abs(ion_response(omega_pi=omega_pi, alpha_i=alpha_i, m_star=-2, v_0=v_0, omega=omega_, omega_0=omega_0, k_perp=k_perp)), color=\"red\",  linewidth=3, label=\"ion $m=-2$\")\n",
    "ax.plot(omega_, np.abs(ion_response(omega_pi=omega_pi, alpha_i=alpha_i, m_star=-3, v_0=v_0, omega=omega_, omega_0=omega_0, k_perp=k_perp)), color=\"green\",  linewidth=3, label=\"ion $m=-3$\")\n",
    "ax.plot(omega_, np.abs(ion_response(omega_pi=omega_pi, alpha_i=alpha_i, m_star=-4, v_0=v_0, omega=omega_, omega_0=omega_0, k_perp=k_perp)), color=\"purple\",  linewidth=3, label=\"ion $m=-4$\")\n",
    "\n",
    "legend = ax.legend(ncols=1, fancybox=False, shadow=False,  loc=\"lower right\")\n",
    "#legend.get_frame().set_alpha(0)\n",
    "\n",
    "ax.spines['right'].set_visible(False)\n",
    "ax.spines['top'].set_visible(False)\n",
    "\n",
    "ax.set_xlabel(\"$\\omega$\")\n",
    "ax.set_ylabel(\"$|D(k_{\\perp} =190, \\omega)|$\")\n",
    "ax.set_yscale(\"symlog\")\n",
    "plt.savefig(\"figs/vadim_2021/side_bands_ecdi.png\", dpi=300)"
   ]
  },
  {
   "cell_type": "code",
   "execution_count": null,
   "id": "a7d961f8-5c24-46c6-9b7b-9c4932785ff7",
   "metadata": {},
   "outputs": [],
   "source": []
  },
  {
   "cell_type": "code",
   "execution_count": null,
   "id": "8b81b1f1-322d-4cfb-bcb1-9bcceb280c4a",
   "metadata": {},
   "outputs": [],
   "source": []
  }
 ],
 "metadata": {
  "kernelspec": {
   "display_name": "Python 3 (ipykernel)",
   "language": "python",
   "name": "python3"
  },
  "language_info": {
   "codemirror_mode": {
    "name": "ipython",
    "version": 3
   },
   "file_extension": ".py",
   "mimetype": "text/x-python",
   "name": "python",
   "nbconvert_exporter": "python",
   "pygments_lexer": "ipython3",
   "version": "3.9.19"
  }
 },
 "nbformat": 4,
 "nbformat_minor": 5
}