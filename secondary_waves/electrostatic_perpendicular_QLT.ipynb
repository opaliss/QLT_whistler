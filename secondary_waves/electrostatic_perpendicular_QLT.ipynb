{
 "cells": [
  {
   "cell_type": "markdown",
   "id": "1ed1d32e-c93c-4fe6-8e1e-8c748c1fdcf1",
   "metadata": {},
   "source": [
    "Last update: May 27th, 2025\n",
    "\n",
    "\n",
    "## QLT electrostatic secondary instabilities (perpendicular)\n",
    "##### [V. Roytershteyn and G. L. Delzanno. *Nonlinear coupling of whistler waves to oblique electrostatic turbulence enabled by cold plasma*. Physics of Plasmas, 28(4):042903, 04 2021](https://pubs.aip.org/aip/pop/article-abstract/28/4/042903/263604/Nonlinear-coupling-of-whistler-waves-to-oblique?redirectedFrom=fulltext)\n",
    "\n",
    "Author: Opal Issan (oissan@ucsd.edu)"
   ]
  },
  {
   "cell_type": "code",
   "execution_count": null,
   "id": "181d42d6-aa56-4b5d-b1fb-7800b95a1cff",
   "metadata": {},
   "outputs": [],
   "source": [
    "import numpy as np\n",
    "import matplotlib.pyplot as plt\n",
    "import scipy\n",
    "from QLT_equations.testperp import dydt "
   ]
  },
  {
   "cell_type": "code",
   "execution_count": null,
   "id": "92a978f2-5ffe-4d61-b872-2933d901749c",
   "metadata": {},
   "outputs": [],
   "source": [
    "# import for plotting purposes\n",
    "%matplotlib inline\n",
    "import matplotlib\n",
    "font = {'family' : 'serif',\n",
    "        'size'   : 14}\n",
    "\n",
    "matplotlib.rc('font', **font)\n",
    "matplotlib.rc('xtick', labelsize=14) \n",
    "matplotlib.rc('ytick', labelsize=14) "
   ]
  },
  {
   "cell_type": "markdown",
   "id": "5136c3e7-6518-4e22-a5f0-20fbcb6d22fb",
   "metadata": {},
   "source": [
    "## Electrostatic perpendicular QLT + reduced dispersion relation equations\n"
   ]
  },
  {
   "cell_type": "markdown",
   "id": "fe3a8f7d-cada-4944-8a7b-b939bc9f0bc9",
   "metadata": {},
   "source": [
    "We proceed to normalize the physical quantities as follows:\n",
    "\\begin{align*}\n",
    "   t &\\coloneqq t^{d}|\\Omega_{ce}|, \\qquad \\omega \\coloneqq \\frac{\\omega^{d}}{|\\Omega_{ce}|}, \\qquad k_{\\perp} \\coloneqq d_{e} k_{\\perp}^{d}, \\qquad \\omega_{pe} \\coloneqq \\frac{\\omega_{pe}^{d}}{|\\Omega_{ce}|}, \\qquad \\alpha_{\\perp c} \\coloneqq \\frac{\\alpha_{\\perp c}^{d}}{d_{e} |\\Omega_{ce}|}, \\qquad  \\mathcal{E}_{E}(k_{\\perp}, t) \\coloneqq \\frac{|\\delta \\vec{\\hat{E}}(k_{\\perp}, t)|^2}{d_{e}^3 \\Omega_{ce}^2 m_{e} n_{e}}, \\\\\n",
    "   T_{\\perp c} &\\coloneqq \\frac{T_{\\perp c}^{d}}{d_{e}^2 \\Omega_{ce}^2 m_{e}}, \\qquad n_{c} \\coloneqq \\frac{n_{c}^{d}}{n_{e}}, \\qquad \\mathcal{E}_{B}(k_{\\|}, t) \\coloneqq \\frac{|\\delta \\vec{\\hat{B}}(k_{\\|}, t)|^2}{d_{e}^3 \\Omega_{ce}^2 m_{e} n_{e}}, \\qquad K_{\\perp c} \\coloneqq \\frac{K_{\\perp c}^{d}}{d_{e}^2 \\Omega_{ce}^2 m_{e} n_{e}},\n",
    "\\end{align*}\n",
    "leading to\n",
    "\\begin{align*}\n",
    "    \\frac{\\mathrm{d} K_{\\perp c}(t)}{\\mathrm{d} t} &=  -\\frac{1}{2\\pi} \\int_{0}^{\\infty} \\mathrm{d} k_{\\perp} \\mathcal{E}_{E}(k_{\\perp}, t) \\mathrm{Im} \\left\\{\\omega - \\frac{\\omega}{k_{\\perp}^2} \\frac{\\omega_{pi}^2}{\\alpha_{i}^2} J^2_{m*}\\left(\\frac{k_{\\perp} |V_{Dc}|}{ \\omega_{0}}\\right) Z{'}\\left(\\frac{\\omega + m_{*} \\omega_{0}}{k_{\\perp} \\alpha_{i}}\\right)\\right\\}\\\\\n",
    "    \\partial_{t} \\mathcal{E}_{E}(k_{\\perp}, t)  &= 2 \\mathrm{Im}\\{\\omega\\}  \\mathcal{E}_{E}(k_{\\perp}, t) \\\\\n",
    "    \\partial_{t} \\int_{0}^{\\infty} \\mathrm{d} k_{\\|}  \\mathcal{E}_{B}(k_{\\|}, t) &= - \\frac{2}{\\frac{\\omega_{0}^2}{k_{\\|0}^2\\omega_{pe}^2} + 1} \\int_{0}^{\\infty} \\mathrm{d} k_{\\perp} \\mathcal{E}_{E}(k_{\\perp}, t) \\mathrm{Im} \\left\\{ \\frac{\\omega}{k_{\\perp}^2} \\frac{\\omega_{pi}^2}{\\alpha_{i}^2} J^2_{m*}\\left(\\frac{k_{\\perp} |V_{Dc}|}{ \\omega_{0}}\\right) Z{'}\\left(\\frac{\\omega + m_{*} \\omega_{0}}{k_{\\perp} \\alpha_{i}}\\right)\\right\\}\\\\\n",
    "    \\frac{\\mathrm{d} |V_{Dc}(t)|^2}{\\mathrm{d} t} &= \\frac{1}{4\\pi} \\left[\\frac{\\omega_{0}}{k_{\\|0}}\\frac{1}{\\omega_{0} -1} \\right]^2 \\partial_{t} \\int_{0}^{\\infty} \\mathrm{d} k_{\\|}  \\mathcal{E}_{B}(k_{\\|}, t)\\\\\n",
    "    k_{\\perp}^2 - 4 n_{c} \\frac{\\omega_{pe}^2}{\\alpha_{\\perp c}^2} &\\sum_{n=1}^{\\infty}\\exp(-\\lambda_{c}) I_{n}(\\lambda_{c}) \\left[ \\frac{n^2}{\\omega^2 - n^2 }\\right] = \\frac{\\omega_{pi}^2}{\\alpha_{i}^2} \\left|J_{m^{*}}\\left(\\frac{k_{\\perp} |V_{Dc}|}{\\omega_{0}}\\right)\\right|^2 Z'\\left(\\frac{\\omega + m^{*}\\omega_{0}}{k_{\\perp} \\alpha_{i}}\\right) \\\\\n",
    "    \\lambda_{c} &= \\frac{k_{\\perp}^2 \\alpha_{\\perp c}^2}{2} \n",
    "\\end{align*}"
   ]
  },
  {
   "cell_type": "code",
   "execution_count": null,
   "id": "a196dfef-98fe-4c41-9148-010a35b45e60",
   "metadata": {},
   "outputs": [],
   "source": [
    "# normalization \n",
    "# time is normalized to the electron cyclotron frequency 1/Omega_ce\n",
    "# space is normalized to electron inertial length d_e\n",
    "n_c = 4/5 # n^e_0\n",
    "omega_0 = 0.5 # Omega_ce\n",
    "k_0 = 1 # d_e\n",
    "dB0 = 4*np.pi * 2.5 * 1e-5 # d_{e}^3 Omega_{ce}^2 m_{e} n_{e}\n",
    "\n",
    "omega_pe = 4 # Omgea_{ce}\n",
    "alpha_perp_c = 0.0079 # d_e x Omega_ce\n",
    "alpha_i =  0.0079 / np.sqrt(1836) # d_e x Omega_ce\n",
    "\n",
    "v_0 = 0.65 * 0.0079 # d_e x Omega_ce\n",
    "omega_pi = omega_pe / np.sqrt(1836) # Omega_ce\n",
    "\n",
    "# initial conditions\n",
    "E0 = 5e-9\n",
    "K0 = (alpha_perp_c**2 / 2) * n_c \n",
    "T0 = (alpha_perp_c**2 / 2) \n",
    "\n",
    "# k vector\n",
    "k_vec = np.linspace(176, 220, 60)\n",
    "dk = np.abs(k_vec[1] - k_vec[0])\n",
    "\n",
    "# max time \n",
    "t_max = 600"
   ]
  },
  {
   "cell_type": "code",
   "execution_count": null,
   "id": "5187e318-1238-4005-9b4a-c3e32c8f9a13",
   "metadata": {
    "scrolled": true
   },
   "outputs": [],
   "source": [
    "dE_init = E0 * np.ones(len(k_vec))\n",
    "\n",
    "# simulate \n",
    "result = scipy.integrate.solve_ivp(fun=dydt, t_span=[0, t_max], \n",
    "                                   y0=np.concatenate(([K0], [T0], [dB0], [v_0**2], dE_init)), \n",
    "                                   args=(k_vec, omega_pe, omega_pi, k_0, alpha_i, n_c, dk, omega_0),\n",
    "                                   atol=1e-8, rtol=1e-8, method='BDF')"
   ]
  },
  {
   "cell_type": "code",
   "execution_count": null,
   "id": "166db6a5-2a6d-44f0-a665-ef4e26e1eeec",
   "metadata": {},
   "outputs": [],
   "source": [
    "len(result.t)"
   ]
  },
  {
   "cell_type": "code",
   "execution_count": null,
   "id": "b1acc517-8e73-4ac4-b42f-7a60fe208f42",
   "metadata": {},
   "outputs": [],
   "source": [
    "fig, ax = plt.subplots(figsize=(4, 4))\n",
    "potential_energy = np.sum(result.y[3:, :], axis=0)*dk/(8*np.pi)\n",
    "ax.plot(result.t, potential_energy, color=\"black\", linewidth=2)\n",
    "ax.set_xlabel(r'$t|\\Omega_{ce}|$')\n",
    "ax.set_ylabel(r'$\\int \\mathcal{E}_{E}(k_{\\perp}, t) \\mathrm{d} k_{\\perp}$')\n",
    "ax.spines['right'].set_visible(False)\n",
    "ax.spines['top'].set_visible(False)\n",
    "plt.grid(alpha=0.5)\n",
    "plt.tight_layout()\n",
    "plt.savefig(\"figs/secondary_QLT/perp_potential_energy.png\", dpi=300, bbox_inches='tight')"
   ]
  },
  {
   "cell_type": "code",
   "execution_count": null,
   "id": "afa01bc5-3822-40cb-ad3c-f24b666ae560",
   "metadata": {},
   "outputs": [],
   "source": [
    "result.y[1, :]"
   ]
  },
  {
   "cell_type": "code",
   "execution_count": null,
   "id": "ac93bfc3-5d2f-4d24-88cc-fd200e36b743",
   "metadata": {},
   "outputs": [],
   "source": [
    "fig, ax = plt.subplots(figsize=(4, 4))\n",
    "ax.plot(result.t, result.y[0, :]/result.y[0, 0], color=\"black\", linewidth=2, label=\"$K_{c\\perp}(t)/K_{c\\perp}(0)$\")\n",
    "ax.plot(result.t, result.y[1, :]/result.y[1, 0], color=\"blue\", linewidth=2, label=\"$T_{c\\perp}(t)/T_{c\\perp}(0)$\")\n",
    "\n",
    "ax.legend()\n",
    "ax.set_xlabel(\"$t|\\Omega_{ce}|$\")\n",
    "ax.spines['right'].set_visible(False)\n",
    "ax.spines['top'].set_visible(False)\n",
    "plt.grid(alpha=0.5)\n",
    "plt.tight_layout()\n",
    "plt.savefig(\"figs/secondary_QLT/perp_kinetic_energy.png\", dpi=300, bbox_inches='tight')"
   ]
  },
  {
   "cell_type": "code",
   "execution_count": null,
   "id": "de86263f-948b-4e33-9920-6061654d0109",
   "metadata": {},
   "outputs": [],
   "source": [
    "fig, ax = plt.subplots(figsize=(4, 4))\n",
    "ax.plot(result.t, result.y[1, :]/result.y[1, 0], color=\"black\", linewidth=2)\n",
    "\n",
    "ax.set_xlabel(\"$t|\\Omega_{ce}|$\")\n",
    "ax.set_ylabel(r\"$\\frac{\\delta B^2(t)}{\\delta B^2(t=0)} \\propto \\frac{V_{Dc}^2(t)}{V_{Dc}^2(t=0)}$\")\n",
    "\n",
    "ax.spines['right'].set_visible(False)\n",
    "ax.spines['top'].set_visible(False)\n",
    "plt.grid(alpha=0.5)\n",
    "plt.tight_layout()\n",
    "plt.savefig(\"figs/secondary_QLT/perp_magnetic_energy.png\", dpi=300, bbox_inches='tight')"
   ]
  },
  {
   "cell_type": "code",
   "execution_count": null,
   "id": "29d3cadd-f978-4168-970d-b12731ccd677",
   "metadata": {},
   "outputs": [],
   "source": [
    "fig, ax = plt.subplots(figsize=(6, 4))\n",
    "kinetic_energy = result.y[0, :]\n",
    "potential_energy = np.sum(result.y[4:, :], axis=0)*dk/4/np.pi\n",
    "magnetic_energy = (1 + (omega_0/k_0/omega_pe)**2) * result.y[2, :]/4/np.pi \n",
    "total_energy = kinetic_energy + magnetic_energy + potential_energy \n",
    "\n",
    "ax.plot(result.t, kinetic_energy - kinetic_energy[0], color=\"black\", linewidth=2, label=\"$\\Delta K$\")\n",
    "ax.plot(result.t, magnetic_energy - magnetic_energy[0], color=\"red\", linewidth=2, label=\"$\\Delta B_{W} + \\Delta E_{W}$\")\n",
    "ax.plot(result.t, potential_energy - potential_energy[0], color=\"blue\", linewidth=2, label=\"$\\Delta E_{E}$\")\n",
    "ax.plot(result.t, total_energy - total_energy[0], color=\"green\", linewidth=2, label=\"$\\Delta E_{tot}$\")\n",
    "\n",
    "ax.set_yscale(\"symlog\", linthresh=1e-9)\n",
    "ax.set_xlabel(r'$t|\\Omega_{ce}|$')\n",
    "ax.set_ylabel(r'$\\Delta E$')\n",
    "\n",
    "legend = ax.legend(loc='upper left', ncols=2, fancybox=False, shadow=False, fontsize=14, bbox_to_anchor=(0., 1.3))\n",
    "legend.get_frame().set_alpha(0)\n",
    "\n",
    "ax.spines['right'].set_visible(False)\n",
    "ax.spines['top'].set_visible(False)\n",
    "plt.grid(alpha=0.5) \n",
    "plt.tight_layout()\n",
    "\n",
    "plt.savefig(\"figs/secondary_QLT/perp_conservation_of_energy.png\", dpi=300, bbox_inches='tight')"
   ]
  },
  {
   "cell_type": "code",
   "execution_count": null,
   "id": "14755847-ea64-4c51-9092-125ea2ca6d9a",
   "metadata": {},
   "outputs": [],
   "source": [
    "fig, ax = plt.subplots(figsize=(7, 5))\n",
    "pos = ax.pcolormesh(result.t, k_vec, result.y[4:], cmap=\"viridis\", \n",
    "                    norm=matplotlib.colors.LogNorm(), shading='gouraud')\n",
    "cbar = fig.colorbar(pos)\n",
    "\n",
    "ax.set_xlabel(r'$t|\\Omega_{ce}|$')\n",
    "ax.set_ylabel(r'$k_{\\perp} d_{e}$')\n",
    "\n",
    "ax.spines['right'].set_visible(False)\n",
    "ax.spines['top'].set_visible(False)\n",
    "\n",
    "ax.set_title(r\"$\\mathcal{E}_{E}(k_{\\perp}, t)$\")\n",
    "plt.savefig(\"figs/secondary_QLT/electric_energy_spectrum.png\", dpi=300, bbox_inches='tight')"
   ]
  },
  {
   "cell_type": "code",
   "execution_count": null,
   "id": "7cd6155d-f406-482d-97ad-f0a21be726ef",
   "metadata": {},
   "outputs": [],
   "source": []
  },
  {
   "cell_type": "code",
   "execution_count": null,
   "id": "77d342da-2822-438f-b3b7-9acb502bb3b7",
   "metadata": {},
   "outputs": [],
   "source": []
  },
  {
   "cell_type": "code",
   "execution_count": null,
   "id": "03737ee1-7999-4a37-85cc-33d4e2ce6b5f",
   "metadata": {},
   "outputs": [],
   "source": []
  }
 ],
 "metadata": {
  "kernelspec": {
   "display_name": "Python 3 (ipykernel)",
   "language": "python",
   "name": "python3"
  },
  "language_info": {
   "codemirror_mode": {
    "name": "ipython",
    "version": 3
   },
   "file_extension": ".py",
   "mimetype": "text/x-python",
   "name": "python",
   "nbconvert_exporter": "python",
   "pygments_lexer": "ipython3",
   "version": "3.9.19"
  }
 },
 "nbformat": 4,
 "nbformat_minor": 5
}