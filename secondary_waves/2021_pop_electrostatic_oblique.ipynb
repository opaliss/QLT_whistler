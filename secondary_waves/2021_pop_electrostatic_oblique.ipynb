{
 "cells": [
  {
   "cell_type": "markdown",
   "id": "59043ae3-97f7-42f5-b32e-b4d58389b478",
   "metadata": {},
   "source": [
    "Last update: May 25th, 2025\n",
    "\n",
    "## Oblique electrostatic waves\n",
    "#### V. Roytershteyn and G. L. Delzanno. *Nonlinear coupling of whistler waves to oblique electrostatic turbulence enabled by cold plasma*. Physics of Plasmas, 28(4):042903, 04 2021\n",
    "\n",
    "Author: Opal Issan (oissan@ucsd.edu)"
   ]
  },
  {
   "cell_type": "code",
   "execution_count": null,
   "id": "af91a5fa-c454-477b-91b8-4ee3160d4eed",
   "metadata": {},
   "outputs": [],
   "source": [
    "import numpy as np\n",
    "import matplotlib.pyplot as plt\n",
    "from scipy.special import wofz \n",
    "import scipy\n",
    "from scipy.sparse import diags\n",
    "from QLT_equations.general_plasma_equations import Z, Z_prime, I, J"
   ]
  },
  {
   "cell_type": "code",
   "execution_count": null,
   "id": "da1ac8fa-e856-42c0-a9b2-6414deba9b33",
   "metadata": {},
   "outputs": [],
   "source": [
    "%matplotlib inline\n",
    "import matplotlib\n",
    "font = {'family' : 'serif',\n",
    "        'size'   : 14}\n",
    "\n",
    "matplotlib.rc('font', **font)\n",
    "matplotlib.rc('xtick', labelsize=14) \n",
    "matplotlib.rc('ytick', labelsize=14) "
   ]
  },
  {
   "cell_type": "markdown",
   "id": "ee329d8f-4f83-4452-b26c-cc441b3fc1ba",
   "metadata": {},
   "source": [
    "### Oblique electrostatic waves\n",
    "We proceed to normalize the physical quantities as follows:\n",
    "\\begin{align*}\n",
    "   t &\\coloneqq t^{d}|\\Omega_{ce}|, \\qquad \\omega \\coloneqq \\frac{\\omega^{d}}{|\\Omega_{ce}|}, \\qquad \\vec{k} \\coloneqq d_{e} \\vec{k}^{d}, \\qquad \\omega_{pe} \\coloneqq \\frac{\\omega_{pe}^{d}}{|\\Omega_{ce}|}, \\qquad \\alpha_{\\perp c} \\coloneqq \\frac{\\alpha_{\\perp c}^{d}}{d_{e} |\\Omega_{ce}|}, \\qquad  \\mathcal{E}_{E}(k_{\\perp}, t) \\coloneqq \\frac{|\\delta \\vec{\\hat{E}}(k_{\\perp}, t)|^2}{d_{e}^3 \\Omega_{ce}^2 m_{e} n_{e}}, \\\\\n",
    "   T_{\\perp c} &\\coloneqq \\frac{T_{\\perp c}^{d}}{d_{e}^2 \\Omega_{ce}^2 m_{e}}, \\qquad n_{c} \\coloneqq \\frac{n_{c}^{d}}{n_{e}}, \\qquad \\mathcal{E}_{B}(k_{\\|}, t) \\coloneqq \\frac{|\\delta \\vec{\\hat{B}}(k_{\\|}, t)|^2}{d_{e}^3 \\Omega_{ce}^2 m_{e} n_{e}}, \\qquad K_{\\perp c} \\coloneqq \\frac{K_{\\perp c}^{d}}{d_{e}^2 \\Omega_{ce}^2 m_{e} n_{e}},\n",
    "\\end{align*}\n",
    "The dispersion relation is \n",
    "\\begin{equation*}\n",
    "    |\\vec{k}|^2 + 2 n_{c}\\frac{\\omega_{pe}^2}{\\alpha_{\\| c}^2} \\left[ 1 +   \\sum_{n=-\\infty}^{\\infty} \\exp(-\\lambda_{c}) I_{n}(\\lambda_{c}) Z(\\xi_{c}^{n}) \\left[\\xi_{c}^{0} + \\frac{n}{k_{\\|} \\alpha_{\\| c}} \\left[\\frac{\\alpha_{\\| c}^2}{\\alpha_{\\perp c}^2} -1\\right]\\right]\\right] = \\frac{\\omega_{pi}^2}{\\alpha_{i}^2} \\left|J_{1}\\left(\\frac{k_{\\perp} |V_{Dc}|}{\\omega_{0}}\\right)\\right|^2 Z'\\left(\\frac{\\omega -\\omega_{0}}{k \\alpha_{i}}\\right).\n",
    "\\end{equation*}\n",
    "\\begin{align*}\n",
    "    |\\vec{k}| &\\coloneqq  \\sqrt{k_{\\perp}^2 + k_{\\|}^2}\\\\\n",
    "    \\lambda_{c} &\\coloneqq \\frac{k_{\\perp}^2 \\alpha_{\\perp c}^2}{2}\\\\\n",
    "    \\xi_{c}^{n} &\\coloneqq \\frac{\\omega - n |\\Omega_{ce}|}{k_{\\|} \\alpha_{\\|c}}\n",
    "\\end{align*} "
   ]
  },
  {
   "cell_type": "code",
   "execution_count": null,
   "id": "d15958f8-c5d4-4e4f-95dc-7a2421f5168c",
   "metadata": {},
   "outputs": [],
   "source": [
    "# parameters from 2021 paper \n",
    "# normalization (Vadim parameters)\n",
    "# time is normalized to the electron cyclotron frequency 1/Omega_ce\n",
    "# space is normalized to electron inertial length d_e\n",
    "omega_0 = 0.5 # Omega_ce\n",
    "omega_pe = 4 # Omgea_{ce}\n",
    "\n",
    "n_c = 4/5 # n^e_0\n",
    "\n",
    "# thermal velocity \n",
    "alpha_c_perp = 0.0079 # d_e x Omega_ce\n",
    "alpha_c_par = 0.0079 # d_e x Omega_ce\n",
    "alpha_i =  alpha_c_perp / np.sqrt(1836) # d_e x Omega_ce\n",
    "\n",
    "v_0 = 0.65 * alpha_c_perp # d_e x Omega_ce\n",
    "omega_pi = omega_pe / np.sqrt(1836) # Omega_ce"
   ]
  },
  {
   "cell_type": "code",
   "execution_count": null,
   "id": "d8c54c08-5b7a-4fd9-b1bd-5d21f76643d1",
   "metadata": {},
   "outputs": [],
   "source": [
    "def sum_bessel(lambda_, omega, kz, n_max, alpha_c_par, alpha_c_perp):\n",
    "    res = 0 \n",
    "    for n in range(-n_max, n_max+1):\n",
    "        xi_0 = omega / (kz*alpha_c_par)\n",
    "        xi_n = (omega - n)/(kz*alpha_c_par)\n",
    "        ani_term = n/kz/alpha_c_par * ((alpha_c_par**2)/(alpha_c_perp**2) - 1)\n",
    "        res +=  I(m=n, Lambda=lambda_)* Z(z=xi_n) * (xi_0 + ani_term)\n",
    "    return res\n",
    "\n",
    "def electron_response(n_c, omega_pe, alpha_c_perp, alpha_c_par, omega, kz, n_max, ky):\n",
    "    # Bessel argument electron\n",
    "    lambda_ = 0.5 * ((ky*alpha_c_perp)**2)\n",
    "    return 2 * n_c *((omega_pe**2)/(alpha_c_par**2)) * (1 + sum_bessel(lambda_=lambda_, omega=omega, kz=kz, n_max=n_max, \n",
    "                                                                   alpha_c_par=alpha_c_par, alpha_c_perp=alpha_c_perp))\n",
    "\n",
    "def ion_response(omega_pi, alpha_i, m_star, ky, v_0, omega_0, omega, kz):\n",
    "    k_abs = np.sqrt(ky**2 + kz**2)\n",
    "    # Bessel argument ion Doppler-shifted\n",
    "    a = ky * np.abs(v_0) / omega_0\n",
    "    return (omega_pi**2) / (alpha_i**2) * (J(m=m_star, Lambda=a)**2) * Z_prime(z=(omega - omega_0)/(alpha_i * k_abs))\n",
    "    \n",
    "def disp_k(ky, \n",
    "           kz, \n",
    "           omega_pe=omega_pe, \n",
    "           omega_pi=omega_pi, \n",
    "           omega_0=omega_0,\n",
    "           v_0=v_0, \n",
    "           alpha_i=alpha_i,\n",
    "           alpha_c_perp=alpha_c_perp, \n",
    "           alpha_c_par=alpha_c_par, \n",
    "           n_c=n_c, \n",
    "           m_star=-1,\n",
    "           n_max=20):\n",
    "    return lambda omega : ky**2 + kz**2\\\n",
    "    + electron_response(n_c=n_c, omega_pe=omega_pe, alpha_c_par=alpha_c_par, alpha_c_perp=alpha_c_perp, omega=omega, kz=kz, ky=ky, n_max=n_max)\\\n",
    "    - ion_response(omega_pi=omega_pi, alpha_i=alpha_i, m_star=m_star, ky=ky, v_0=v_0, omega_0=omega_0, omega=omega, kz=kz)"
   ]
  },
  {
   "cell_type": "code",
   "execution_count": null,
   "id": "cf5c13d1-ff96-46a8-ac80-30908e6fcfc8",
   "metadata": {},
   "outputs": [],
   "source": [
    "ky = 10\n",
    "kz = ky*np.sqrt((omega_0**2)/ (1-omega_0**2))\n",
    "print(\"k = \", np.sqrt(ky**2 + kz**2))\n",
    "\n",
    "sol = scipy.optimize.newton(disp_k(ky=ky, kz=kz), omega_0+1e-3j, tol=1e-15)\n",
    "\n",
    "print(\"omega_k + i gamma = \", sol)\n",
    "print(\"dispersion residual = \", abs(disp_k(ky=ky, kz=kz)(sol)))"
   ]
  },
  {
   "cell_type": "code",
   "execution_count": null,
   "id": "9a319104-2946-4824-afc1-7f49e274314c",
   "metadata": {},
   "outputs": [],
   "source": [
    "ky_ = np.linspace(5, 60, 50)\n",
    "kz_ = np.sqrt((omega_0**2) / (1-omega_0**2))*ky_\n",
    "sol_ = np.zeros((len(ky_)), dtype=\"complex128\")\n",
    "k_abs = np.zeros((len(ky_)))"
   ]
  },
  {
   "cell_type": "code",
   "execution_count": null,
   "id": "a70e614f-1245-4099-b0fe-c8e50571b756",
   "metadata": {},
   "outputs": [],
   "source": [
    "for ii in range(len(ky_)):\n",
    "    try:\n",
    "        k_abs[ii] = np.sqrt(ky_[ii]**2 + kz_[ii]**2)\n",
    "        sol_[ii] = scipy.optimize.newton(disp_k(ky=ky_[ii], kz=kz_[ii]), omega_0 + 1e-4j, tol=1e-15)\n",
    "        print(\"dispersion residual = \", abs(disp_k(ky=ky_[ii], kz=kz_[ii])(sol_[ii])))\n",
    "        if abs(disp_k(ky=ky_[ii], kz=kz_[ii])(sol_[ii])) > 1e-8:\n",
    "            sol_[ii] =  np.inf + np.inf*1j\n",
    "    except:\n",
    "        sol_[ii] =  np.inf + np.inf*1j\n",
    "        print(\"An exception occurred\")"
   ]
  },
  {
   "cell_type": "code",
   "execution_count": null,
   "id": "e42bea3d-5dbf-478e-9d26-cd991a845083",
   "metadata": {},
   "outputs": [],
   "source": [
    "fig, ax = plt.subplots(figsize=(6, 3))\n",
    "ax.plot(k_abs, sol_.real, linewidth=3, color=\"tab:orange\")\n",
    "ax.set_ylabel('$\\omega_r/\\Omega_{ce}$')\n",
    "ax.set_xlabel(r\"$|\\vec{k}|d_{e}$\")\n",
    "ax.set_ylim(0, 0.7)\n",
    "ax.spines['right'].set_visible(False)\n",
    "ax.spines['top'].set_visible(False)\n",
    "plt.tight_layout()\n",
    "plt.savefig(\"figs/vadim_2021/vadim_fig5_c.png\", dpi=300, bbox_inches='tight')"
   ]
  },
  {
   "cell_type": "code",
   "execution_count": null,
   "id": "e373eb99-5247-43fe-9ab0-df28c95765a5",
   "metadata": {},
   "outputs": [],
   "source": [
    "fig, ax = plt.subplots(figsize=(6, 3))\n",
    "ax.plot(k_abs, sol_.imag, color=\"tab:orange\", linewidth=3)\n",
    "ax.set_ylabel('$\\gamma/\\Omega_{ce}$', rotation=90)\n",
    "ax.set_xlabel(r\"$|\\vec{k}|d_{e}$\")\n",
    "ax.set_ylim(-0.0005, 0.012)\n",
    "ax.set_xticks([180, 200, 220, 240])\n",
    "#ax.set_yticks([0, 0.0025, 0.005, 0.0075])\n",
    "ax.spines['right'].set_visible(False)\n",
    "ax.spines['top'].set_visible(False)\n",
    "plt.tight_layout()\n",
    "plt.savefig(\"figs/vadim_2021/vadim_fig5_d.png\", dpi=300, bbox_inches='tight')"
   ]
  },
  {
   "cell_type": "code",
   "execution_count": null,
   "id": "8a7fac3c-eb9d-4ec2-a04e-138c84b5bc1f",
   "metadata": {},
   "outputs": [],
   "source": [
    "k_perp = 20\n",
    "k_par =  np.sqrt((omega_0**2) / (1-omega_0**2))*k_perp\n",
    "omega_ = np.linspace(0.1, 3, 500)"
   ]
  },
  {
   "cell_type": "code",
   "execution_count": null,
   "id": "e59750a2-26ea-4fde-8129-c2592fcfaa1f",
   "metadata": {},
   "outputs": [],
   "source": [
    "electron_feedback = k_perp**2 + k_par**2 + electron_response(n_c=n_c, omega_pe=omega_pe,\n",
    "                                                             alpha_c_perp=alpha_c_perp, alpha_c_par=alpha_c_par,\n",
    "                                                             omega=omega_,\n",
    "                                                             kz=k_par, ky=k_perp, n_max=50)"
   ]
  },
  {
   "cell_type": "code",
   "execution_count": null,
   "id": "52b7d855-192e-4606-bae0-24855b3506a1",
   "metadata": {},
   "outputs": [],
   "source": [
    "fig, ax = plt.subplots(figsize=(8, 5))\n",
    "\n",
    "ax.plot(omega_, np.abs(electron_feedback), color=\"blue\", ls=\"--\", linewidth=3, label=\"electron\")\n",
    "\n",
    "ax.plot(omega_, np.abs(ion_response(omega_pi=omega_pi, alpha_i=alpha_i, m_star=0, ky=k_perp, v_0=v_0, omega_0=omega_0, omega=omega_, kz=k_par)), color=\"pink\",  linewidth=3, label=\"ion  $m=0$\")\n",
    "ax.plot(omega_, np.abs(ion_response(omega_pi=omega_pi, alpha_i=alpha_i, m_star=-1, ky=k_perp, v_0=v_0, omega_0=omega_0, omega=omega_, kz=k_par)), color=\"orange\",  linewidth=3, label=\"ion  $m=-1$\")\n",
    "ax.plot(omega_, np.abs(ion_response(omega_pi=omega_pi, alpha_i=alpha_i, m_star=-2, ky=k_perp, v_0=v_0, omega_0=omega_0, omega=omega_, kz=k_par)), color=\"red\",  linewidth=3, label=\"ion $m=-2$\")\n",
    "ax.plot(omega_, np.abs(ion_response(omega_pi=omega_pi, alpha_i=alpha_i, m_star=-3, ky=k_perp, v_0=v_0, omega_0=omega_0, omega=omega_, kz=k_par)), color=\"green\",  linewidth=3, label=\"ion $m=-3$\")\n",
    "ax.plot(omega_, np.abs(ion_response(omega_pi=omega_pi, alpha_i=alpha_i, m_star=-4, ky=k_perp, v_0=v_0, omega_0=omega_0, omega=omega_, kz=k_par)), color=\"purple\",  linewidth=3, label=\"ion $m=-4$\")\n",
    "\n",
    "legend = ax.legend(ncols=1, fancybox=False, shadow=False,  loc=\"lower right\")\n",
    "#legend.get_frame().set_alpha(0)\n",
    "\n",
    "ax.spines['right'].set_visible(False)\n",
    "ax.spines['top'].set_visible(False)\n",
    "\n",
    "ax.set_xlabel(\"$\\omega$\")\n",
    "ax.set_ylabel(\"$|D(k_{\\perp} =190, \\omega)|$\")\n",
    "ax.set_yscale(\"symlog\")\n",
    "plt.savefig(\"figs/vadim_2021/sidebands_oblique.png\", dpi=600)"
   ]
  },
  {
   "cell_type": "code",
   "execution_count": null,
   "id": "f712e73e-3803-44c4-afcb-2cf63459d314",
   "metadata": {},
   "outputs": [],
   "source": []
  },
  {
   "cell_type": "code",
   "execution_count": null,
   "id": "3aa16d76-aa68-41e9-b05d-09bc34b4c2b5",
   "metadata": {},
   "outputs": [],
   "source": []
  }
 ],
 "metadata": {
  "kernelspec": {
   "display_name": "Python 3 (ipykernel)",
   "language": "python",
   "name": "python3"
  },
  "language_info": {
   "codemirror_mode": {
    "name": "ipython",
    "version": 3
   },
   "file_extension": ".py",
   "mimetype": "text/x-python",
   "name": "python",
   "nbconvert_exporter": "python",
   "pygments_lexer": "ipython3",
   "version": "3.9.19"
  }
 },
 "nbformat": 4,
 "nbformat_minor": 5
}