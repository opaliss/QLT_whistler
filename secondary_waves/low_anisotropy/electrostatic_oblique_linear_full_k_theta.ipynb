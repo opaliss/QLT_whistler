{
 "cells": [
  {
   "cell_type": "markdown",
   "id": "59043ae3-97f7-42f5-b32e-b4d58389b478",
   "metadata": {},
   "source": [
    "August 25, 2025\n",
    "\n",
    "## Oblique electrostatic waves\n",
    "#### [V. Roytershteyn and G. L. Delzanno. *Nonlinear coupling of whistler waves to oblique electrostatic turbulence enabled by cold plasma*. Physics of Plasmas, 28(4):042903, 04 2021](https://pubs.aip.org/aip/pop/article-abstract/28/4/042903/263604/Nonlinear-coupling-of-whistler-waves-to-oblique?redirectedFrom=fulltext)\n",
    "\n",
    "Author: Opal Issan (oissan@ucsd.edu)"
   ]
  },
  {
   "cell_type": "code",
   "execution_count": 1,
   "id": "2f37c435-a72b-472f-b3df-96c13a782f09",
   "metadata": {},
   "outputs": [],
   "source": [
    "import sys, os\n",
    "sys.path.append(os.path.abspath(os.path.join('../..')))"
   ]
  },
  {
   "cell_type": "code",
   "execution_count": 2,
   "id": "af91a5fa-c454-477b-91b8-4ee3160d4eed",
   "metadata": {},
   "outputs": [],
   "source": [
    "import numpy as np\n",
    "import matplotlib.pyplot as plt\n",
    "from scipy.special import wofz \n",
    "import scipy\n",
    "from scipy.sparse import diags\n",
    "from QLT_equations.general_plasma_equations import Z, Z_prime, I, J\n",
    "from QLT_equations.obliqueQLT import electron_response, ion_response, dispersion_relation\n",
    "from QLT_equations.full_dispersion_oblique import THETA, D_matrix"
   ]
  },
  {
   "cell_type": "code",
   "execution_count": 3,
   "id": "c95fc1b5-14e2-43ce-a792-a98bc0bcc32b",
   "metadata": {},
   "outputs": [],
   "source": [
    "from scipy.ndimage import gaussian_filter"
   ]
  },
  {
   "cell_type": "code",
   "execution_count": 4,
   "id": "da1ac8fa-e856-42c0-a9b2-6414deba9b33",
   "metadata": {},
   "outputs": [],
   "source": [
    "%matplotlib inline\n",
    "import matplotlib\n",
    "font = {'family' : 'sans-serif',\n",
    "        'size'   : 14}\n",
    "\n",
    "matplotlib.rc('font', **font)\n",
    "matplotlib.rc('xtick', labelsize=14) \n",
    "matplotlib.rc('ytick', labelsize=14) "
   ]
  },
  {
   "cell_type": "markdown",
   "id": "ee329d8f-4f83-4452-b26c-cc441b3fc1ba",
   "metadata": {},
   "source": [
    "### Oblique electrostatic waves\n",
    "We proceed to normalize the physical quantities as follows:\n",
    "\\begin{align*}\n",
    "   t &\\coloneqq t^{d}|\\Omega_{ce}|, \\qquad \\omega \\coloneqq \\frac{\\omega^{d}}{|\\Omega_{ce}|}, \\qquad \\vec{k} \\coloneqq d_{e} \\vec{k}^{d}, \\qquad \\omega_{pe} \\coloneqq \\frac{\\omega_{pe}^{d}}{|\\Omega_{ce}|}, \\qquad \\alpha_{\\perp c} \\coloneqq \\frac{\\alpha_{\\perp c}^{d}}{d_{e} |\\Omega_{ce}|}, \\qquad  \\mathcal{E}_{E}(k_{\\perp}, t) \\coloneqq \\frac{|\\delta \\vec{\\hat{E}}(k_{\\perp}, t)|^2}{d_{e}^3 \\Omega_{ce}^2 m_{e} n_{e}}, \\\\\n",
    "   T_{\\perp c} &\\coloneqq \\frac{T_{\\perp c}^{d}}{d_{e}^2 \\Omega_{ce}^2 m_{e}}, \\qquad n_{c} \\coloneqq \\frac{n_{c}^{d}}{n_{e}}, \\qquad \\mathcal{E}_{B}(k_{\\|}, t) \\coloneqq \\frac{|\\delta \\vec{\\hat{B}}(k_{\\|}, t)|^2}{d_{e}^3 \\Omega_{ce}^2 m_{e} n_{e}}, \\qquad K_{\\perp c} \\coloneqq \\frac{K_{\\perp c}^{d}}{d_{e}^2 \\Omega_{ce}^2 m_{e} n_{e}},\n",
    "\\end{align*}\n",
    "The dispersion relation is \n",
    "\\begin{equation*}\n",
    "    |\\vec{k}|^2 + 2 n_{c}\\frac{\\omega_{pe}^2}{\\alpha_{\\| c}^2} \\left[ 1 +   \\sum_{n=-\\infty}^{\\infty} \\exp(-\\lambda_{c}) I_{n}(\\lambda_{c}) Z(\\xi_{c}^{n}) \\left[\\xi_{c}^{0} + \\frac{n}{k_{\\|} \\alpha_{\\| c}} \\left[\\frac{\\alpha_{\\| c}^2}{\\alpha_{\\perp c}^2} -1\\right]\\right]\\right] = \\frac{\\omega_{pi}^2}{\\alpha_{i}^2} \\left|J_{1}\\left(\\frac{k_{\\perp} |V_{Dc}|}{\\omega_{0}}\\right)\\right|^2 Z'\\left(\\frac{\\omega -\\omega_{0}}{k \\alpha_{i}}\\right).\n",
    "\\end{equation*}\n",
    "\\begin{align*}\n",
    "    |\\vec{k}| &\\coloneqq  \\sqrt{k_{\\perp}^2 + k_{\\|}^2}\\\\\n",
    "    \\lambda_{c} &\\coloneqq \\frac{k_{\\perp}^2 \\alpha_{\\perp c}^2}{2}\\\\\n",
    "    \\xi_{c}^{n} &\\coloneqq \\frac{\\omega - n |\\Omega_{ce}|}{k_{\\|} \\alpha_{\\|c}}\n",
    "\\end{align*} "
   ]
  },
  {
   "cell_type": "markdown",
   "id": "1cea1def-ae24-471a-afbc-20353eb454c8",
   "metadata": {},
   "source": [
    "\n",
    "\\begin{align}\n",
    "    F(\\vec{k}, \\omega) &\\coloneqq |\\vec{k}|^2  + 2 \\frac{n_{c}}{n_{e}} \\frac{\\omega_{pe}^2}{\\alpha_{\\| c}^2}  \\left[ 1 +   \\sum_{n=-\\infty}^{\\infty} \\exp(-\\lambda_{c}) I_{n}(\\lambda_{c}) Z(\\xi_{c}^{n}) \\left[\\xi_{c}^{0} +  \\frac{n |\\Omega_{ce}|}{k_{\\|} \\alpha_{\\| c}} \\left[ 1-\\frac{\\alpha_{\\| c}^2}{\\alpha_{\\perp c}^2} \\right]\\right]\\right], \\\\\n",
    "    \\Theta_{m'}(\\vec{k}, \\omega) &\\coloneqq \\frac{\\omega_{pi}^2}{2 v_{ti}} \\sum_{m=-\\infty}^{\\infty}  J_{m}\\left(\\frac{k_{\\perp} |V_{Dc}|}{\\omega_{0}}\\right)  J_{m'-m}\\left(\\frac{k_{\\perp} |V_{Dc}|}{\\omega_{0}}\\right) Z' \\left( \\frac{\\omega + m \\omega_{0}}{\\sqrt{2} v_{ti} |\\vec{k}|}\\right).\\\\\n",
    "     F(\\vec{k}, \\omega' + p\\omega_{0}) \\tilde{\\phi}_{p}(\\vec{k}) &= \\sum_{m'=-\\infty}^{\\infty}  \\Theta_{m'}(\\vec{k}, \\omega' + [p - m']\\omega_{0}) \\tilde{\\phi}_{p-m'}(\\vec{k}) \\qquad \\Rightarrow \\qquad \\mathrm{det}\\left(\\mathcal{D}(\\vec{k}, \\omega)\\right) = 0\\\\\n",
    "    \\mathcal{D}_{n, m'}(\\vec{k}, \\omega) &\\coloneqq F(\\vec{k}, \\omega' + n\\omega_{0}) \\delta_{n, m'} - \\Theta_{n-m'}(\\vec{k}, \\omega' + m' \\omega_{0})\n",
    "\\end{align}\n"
   ]
  },
  {
   "cell_type": "code",
   "execution_count": 5,
   "id": "d15958f8-c5d4-4e4f-95dc-7a2421f5168c",
   "metadata": {},
   "outputs": [],
   "source": [
    "# parameters from 2021 paper \n",
    "# normalization (Vadim parameters)\n",
    "# time is normalized to the electron cyclotron frequency 1/Omega_ce\n",
    "# space is normalized to electron inertial length d_e\n",
    "omega_0 = 0.5 # Omega_ce\n",
    "omega_pe = 4 # Omgea_{ce}\n",
    "\n",
    "n_c = 0.8 # n^e_0\n",
    "\n",
    "# thermal velocity \n",
    "alpha_c_par = 0.0079 # d_e x Omega_ce\n",
    "alpha_c_perp = 0.0079 # d_e x Omega_ce\n",
    "alpha_i =  alpha_c_par / np.sqrt(1836) # d_e x Omega_ce\n",
    "\n",
    "v_0 = 0.65 * alpha_c_par # d_e x Omega_ce\n",
    "omega_pi = omega_pe / np.sqrt(1836) # Omega_ce"
   ]
  },
  {
   "cell_type": "code",
   "execution_count": 6,
   "id": "ec6c918a-6e61-4d44-9f39-a20ded5ff1c5",
   "metadata": {},
   "outputs": [],
   "source": [
    "def disp_k_approx(ky,\n",
    "                  kz,\n",
    "                  n_c_,\n",
    "                  omega_pe_=omega_pe,\n",
    "                  omega_pi_=omega_pi,\n",
    "                  omega_0_=omega_0,\n",
    "                  v_0_=v_0,\n",
    "                  alpha_i_=alpha_i,\n",
    "                  alpha_c_perp_=alpha_c_perp,\n",
    "                  alpha_c_par_=alpha_c_par,\n",
    "                  m_star=-1):\n",
    "    return dispersion_relation(k_perp=ky, k_par=kz, omega_pe=omega_pe_, omega_pi=omega_pi_, omega_0=omega_0_, v_0=v_0_, alpha_i=alpha_i_,\n",
    "                        alpha_c_par=alpha_c_par_, alpha_c_perp=alpha_c_perp_, n_c=n_c_, m_star=m_star, n_max=20)\n",
    "\n",
    "\n",
    "def disp_k_full(ky,\n",
    "                kz,\n",
    "                n_c_,\n",
    "                omega_pe_=omega_pe,\n",
    "                omega_pi_=omega_pi,\n",
    "                omega_0_=omega_0,\n",
    "                v_0_=v_0,\n",
    "                alpha_i_=alpha_i,\n",
    "                alpha_c_perp_=alpha_c_perp,\n",
    "                alpha_c_par_=alpha_c_par):\n",
    "    return lambda omega: np.linalg.det(\n",
    "        D_matrix(omega=omega, ky=ky, kz=kz, n_c_=n_c_, omega_pe_=omega_pe_, alpha_c_par_=alpha_c_par_,\n",
    "                      alpha_c_perp_=alpha_c_perp_, omega_0_=omega_0_, v_0_=v_0_,\n",
    "                      alpha_i_=alpha_i_, omega_pi_=omega_pi_))"
   ]
  },
  {
   "cell_type": "code",
   "execution_count": 7,
   "id": "cf5c13d1-ff96-46a8-ac80-30908e6fcfc8",
   "metadata": {},
   "outputs": [
    {
     "name": "stdout",
     "output_type": "stream",
     "text": [
      "(0.49133499455331203+0.003528395311648414j)\n",
      "omega_k + i gamma =  (0.49133499455331203+0.003528395311648414j)\n",
      "dispersion residual approx =  4.8328242560506193e-11\n",
      "(0.49073850834347726+0.003918387838799899j)\n",
      "omega_k + i gamma =  (0.49073850834347726+0.003918387838799899j)\n",
      "dispersion residual full =  6.798741388716457e+22\n"
     ]
    }
   ],
   "source": [
    "ky_ = 11\n",
    "kz_ = np.sqrt((omega_0 ** 2) / (1 - omega_0 ** 2)) * ky_\n",
    "sol_approx = scipy.optimize.newton(disp_k_approx(ky=ky_, kz=kz_, n_c_=0.8), omega_0 + 1e-3j, tol=1e-15)\n",
    "print(sol_approx)\n",
    "print(\"omega_k + i gamma = \", sol_approx)\n",
    "print(\"dispersion residual approx = \", abs(disp_k_approx(ky=ky_, kz=kz_, n_c_=0.8)(sol_approx)))\n",
    "\n",
    "sol_full = scipy.optimize.newton(disp_k_full(ky=ky_, kz=kz_, n_c_=0.8), sol_approx, tol=1e-15, maxiter=100)\n",
    "print(sol_full)\n",
    "print(\"omega_k + i gamma = \", sol_full)\n",
    "print(\"dispersion residual full = \", abs(disp_k_full(ky=ky_, kz=kz_, n_c_=0.8)(sol_full)))"
   ]
  },
  {
   "cell_type": "code",
   "execution_count": 8,
   "id": "9a319104-2946-4824-afc1-7f49e274314c",
   "metadata": {},
   "outputs": [],
   "source": [
    "# varying the parameters\n",
    "k_ = np.linspace(5, 60, 20)\n",
    "angles = np.linspace(55, 60, 10) * np.pi / 180 \n",
    "n_c_ = np.linspace(0.2, 0.95, 5)\n",
    "\n",
    "# initialize solution \n",
    "sol_approx_ = np.zeros((len(k_), len(n_c_), len(angles)), dtype=\"complex128\")\n",
    "sol_full_ = np.zeros((len(k_), len(n_c_), len(angles)), dtype=\"complex128\")"
   ]
  },
  {
   "cell_type": "code",
   "execution_count": null,
   "id": "a70e614f-1245-4099-b0fe-c8e50571b756",
   "metadata": {
    "scrolled": true
   },
   "outputs": [
    {
     "name": "stderr",
     "output_type": "stream",
     "text": [
      "/Users/oissan/PycharmProjects/QLT_whistler/QLT_equations/general_plasma_equations.py:19: RuntimeWarning: invalid value encountered in scalar multiply\n",
      "  return 1j * np.sqrt(np.pi) * wofz(z)\n",
      "/opt/anaconda3/envs/rom/lib/python3.9/site-packages/numpy/linalg/linalg.py:2180: RuntimeWarning: invalid value encountered in det\n",
      "  r = _umath_linalg.det(a, signature=signature)\n",
      "/opt/anaconda3/envs/rom/lib/python3.9/site-packages/scipy/optimize/_zeros_py.py:382: RuntimeWarning: invalid value encountered in scalar divide\n",
      "  p = (-q1 / q0 * p0 + p1) / (1 - q1 / q0)\n"
     ]
    },
    {
     "name": "stdout",
     "output_type": "stream",
     "text": [
      "fail [full] dispersion residual =  9.076435770299394e+19\n",
      "fail [full] dispersion residual =  5.98469349477121e+19\n",
      "fail [full] dispersion residual =  2.3231304601547424e+19\n",
      "fail [full] dispersion residual =  2.1415646176016957e+19\n",
      "fail [full] dispersion residual =  7.76653870851304e+19\n",
      "fail [full] dispersion residual =  4.384387728457646e+25\n",
      "fail [full] dispersion residual =  1.739604239324712e+29\n",
      "fail [approx] dispersion residual =  102822.48069470697\n",
      "fail [full] dispersion residual =  1.2419605233195198e+31\n",
      "fail [full] dispersion residual =  1.097665006395513e+31\n",
      "fail [full] dispersion residual =  2.9171001121515118e+32\n",
      "fail [full] dispersion residual =  8.01327391813996e+32\n"
     ]
    },
    {
     "name": "stderr",
     "output_type": "stream",
     "text": [
      "/opt/anaconda3/envs/rom/lib/python3.9/site-packages/numpy/linalg/linalg.py:2180: RuntimeWarning: overflow encountered in det\n",
      "  r = _umath_linalg.det(a, signature=signature)\n",
      "/opt/anaconda3/envs/rom/lib/python3.9/site-packages/scipy/optimize/_zeros_py.py:380: RuntimeWarning: invalid value encountered in scalar divide\n",
      "  p = (-q0 / q1 * p1 + p0) / (1 - q0 / q1)\n"
     ]
    },
    {
     "name": "stdout",
     "output_type": "stream",
     "text": [
      "fail [full] dispersion residual =  1.582867756577567e+33\n",
      "fail [full] dispersion residual =  4.318275015130144e+33\n",
      "fail [full] dispersion residual =  6.556515880099091e+32\n",
      "fail [full] dispersion residual =  4.6427298262937454e+36\n",
      "fail [full] dispersion residual =  4.8371778685509166e+36\n",
      "fail [full] dispersion residual =  1.4204539059430602e+36\n",
      "fail [approx] dispersion residual =  103699.21719996264\n"
     ]
    }
   ],
   "source": [
    "for jj in range(len(n_c_)):\n",
    "    for ii in range(len(k_)):\n",
    "        for kk in range(len(angles)):\n",
    "            try:\n",
    "                sol_approx_[ii, jj, kk] = scipy.optimize.newton(disp_k_approx(ky=k_[ii]*np.sin(angles[kk]), \n",
    "                                                                              kz=k_[ii]*np.cos(angles[kk]), \n",
    "                                                                n_c_=n_c_[jj]),  x0=np.cos(angles[kk]) + 1e-3j, tol=1e-15, \n",
    "                                                                maxiter=100, x1=omega_0*0.9 + 1e-2j)\n",
    "                error = abs(disp_k_approx(ky=k_[ii]*np.sin(angles[kk]), kz=k_[ii]*np.cos(angles[kk]), n_c_=n_c_[jj])(sol_approx_[ii, jj, kk]))\n",
    "                if error > 1e-4:\n",
    "                    sol_approx_[ii, jj, kk] = np.nan\n",
    "            except:\n",
    "                print(\"fail [approx] dispersion residual = \", abs(disp_k_approx(ky=k_[ii]*np.sin(angles[kk]), kz=k_[ii]*np.cos(angles[kk]), n_c_=n_c_[jj])(sol_approx_[ii, jj, kk])))\n",
    "            try:\n",
    "                sol_full_[ii, jj, kk] = scipy.optimize.newton(disp_k_full(ky=k_[ii]*np.sin(angles[kk]), \n",
    "                                                                          kz=k_[ii]*np.cos(angles[kk]),\n",
    "                                                              n_c_=n_c_[jj]), x0=sol_approx_[ii, jj, kk], \n",
    "                                                              tol=1e-15, maxiter=100,  x1=omega_0*0.9 + 1e-2j)\n",
    "                error= abs(disp_k_full(ky=k_[ii]*np.sin(angles[kk]), kz=k_[ii]*np.cos(angles[kk]), n_c_=n_c_[jj])(sol_full_[ii, jj, kk]))\n",
    "                if error > 1e-4:\n",
    "                    sol_full_[ii, jj, kk] = np.nan\n",
    "            except:\n",
    "                print(\"fail [full] dispersion residual = \", abs(disp_k_full(ky=k_[ii]*np.sin(angles[kk]), kz=k_[ii]*np.cos(angles[kk]), n_c_=n_c_[jj])(sol_full_[ii, jj, kk])))"
   ]
  },
  {
   "cell_type": "code",
   "execution_count": null,
   "id": "b4721d0e-391f-45c0-b2ef-fee6bb9d658a",
   "metadata": {},
   "outputs": [],
   "source": [
    "# sol_full_[np.where(sol_full_.imag>0.011)] = 0\n",
    "# sol_full_[np.where(sol_approx_.imag>0.015)] = 0"
   ]
  },
  {
   "cell_type": "code",
   "execution_count": null,
   "id": "d203ba92-f945-4e42-b7e2-e7394f447add",
   "metadata": {},
   "outputs": [],
   "source": [
    "#sol_full = np.copy(sol_full_)\n",
    "#sol_full.real[np.where(sol_full_.imag<1e-5)] = 0"
   ]
  },
  {
   "cell_type": "code",
   "execution_count": null,
   "id": "9ae92297-c769-40d9-8d67-a6bd43ac1613",
   "metadata": {},
   "outputs": [],
   "source": [
    "fig, ax = plt.subplots(figsize=(6, 4))\n",
    "ii = - 1\n",
    "pos = ax.contourf(k_, n_c_, sol_full_[:, :, ii].real.T, vmin=0.43, vmax=0.51, levels=np.linspace(0.43, 0.51, 10))\n",
    "cbar = fig.colorbar(pos)\n",
    "cbar.ax.set_ylabel(r'$\\frac{\\omega_{r}}{|\\Omega_{ce}|}$', labelpad=20, rotation=0, fontsize=20)\n",
    "ax.set_xlabel(r\"$|\\vec{k}|d_{e}$\", fontsize=17)\n",
    "ax.set_ylabel(\"$n_{c}/n_{e}$\", fontsize=17)\n",
    "ax.spines['right'].set_visible(False)\n",
    "ax.spines['top'].set_visible(False)\n",
    "plt.tight_layout()\n",
    "ax.set_xlim(3, 50)\n",
    "ax.spines['right'].set_visible(False)\n",
    "ax.spines['top'].set_visible(False)\n",
    "\n",
    "#plt.savefig(\"../../figs/vadim_2021/oblique_n_c_full_real.png\", dpi=300, bbox_inches='tight')"
   ]
  },
  {
   "cell_type": "code",
   "execution_count": null,
   "id": "f63681cc-2ae2-4629-9e3e-96ecf9bfe2b8",
   "metadata": {},
   "outputs": [],
   "source": [
    "fig, ax = plt.subplots(figsize=(6, 4))\n",
    "\n",
    "ii = 9\n",
    "\n",
    "pos = ax.contourf(k_, n_c_, sol_full_[:, :, ii].imag.T, vmin=1e-4, vmax=0.017, levels=np.linspace(1e-4, 0.017, 19))\n",
    "cbar = fig.colorbar(pos)\n",
    "cbar.ax.set_ylabel(r'$\\frac{\\gamma}{|\\Omega_{ce}|}$', labelpad=20, rotation=0, fontsize=20)\n",
    "cbar.ax.set_yticks([1e-4, 0.005, 0.01, 0.015])\n",
    "ax.set_xlabel(r\"$|\\vec{k}|d_{e}$\", fontsize=17)\n",
    "ax.set_ylabel(\"$n_{c}/n_{e}$\", fontsize=17)\n",
    "ax.spines['right'].set_visible(False)\n",
    "ax.spines['top'].set_visible(False)\n",
    "plt.tight_layout()\n",
    "ax.set_yticks([0.2, 0.3, 0.4, 0.5, 0.6, 0.7, 0.8, 0.9])\n",
    "ax.set_xlim(3, 50)\n",
    "ax.spines['right'].set_visible(False)\n",
    "ax.spines['top'].set_visible(False)\n",
    "ax.set_title(r\"$\\theta = $\" + str(angles[ii]*180/np.pi))\n",
    "plt.tight_layout()\n",
    "#plt.savefig(\"../../figs/vadim_2021/oblique_n_c_full_imag.png\", dpi=300, bbox_inches='tight')"
   ]
  },
  {
   "cell_type": "code",
   "execution_count": null,
   "id": "79096f07-0963-4efd-93e0-dddc59b61707",
   "metadata": {},
   "outputs": [],
   "source": [
    "#sol_approx_[np.where(sol_approx_.imag>0.02)] = 0"
   ]
  },
  {
   "cell_type": "code",
   "execution_count": null,
   "id": "9cec2ce7-4a70-4a78-820b-4aa59b06988e",
   "metadata": {},
   "outputs": [],
   "source": [
    "#sol_approx_.real[np.where(sol_approx_.imag<1e-5)] = 0"
   ]
  },
  {
   "cell_type": "code",
   "execution_count": null,
   "id": "d99fe25a-d088-4700-b745-b2050d081946",
   "metadata": {},
   "outputs": [],
   "source": [
    "fig, ax = plt.subplots(figsize=(6, 4))\n",
    "pos = ax.contourf(k_, n_c_, sol_approx_[:, :, -1].real.T, vmin=0.43, vmax=0.51, levels=np.linspace(0.43, 0.51, 10))\n",
    "cbar = fig.colorbar(pos)\n",
    "cbar.ax.set_ylabel(r'$\\frac{\\omega_{r}}{|\\Omega_{ce}|}$', labelpad=20, rotation=0, fontsize=20)\n",
    "#cbar.ax.set_yticks([1e-4, 0.005, 0.01, 0.015])\n",
    "\n",
    "ax.set_xlabel(r\"$|\\vec{k}|d_{e}$\", fontsize=17)\n",
    "ax.set_ylabel(\"$n_{c}/n_{e}$\", fontsize=17)\n",
    "plt.tight_layout()\n",
    "\n",
    "ax.spines['right'].set_visible(False)\n",
    "ax.spines['top'].set_visible(False)\n",
    "\n",
    "ax.set_xlim(3, 50)\n",
    "plt.tight_layout()\n",
    "plt.savefig(\"../../figs/vadim_2021/oblique_n_c_approx_real.png\", dpi=300, bbox_inches='tight')"
   ]
  },
  {
   "cell_type": "code",
   "execution_count": null,
   "id": "b87a1743-f330-4baf-bbec-15fc848c6f55",
   "metadata": {},
   "outputs": [],
   "source": [
    "fig, ax = plt.subplots(figsize=(6, 4))\n",
    "\n",
    "ii = 9\n",
    "\n",
    "pos = ax.contourf(k_, n_c_, gaussian_filter(sol_approx_[:, :, ii].imag.T, sigma=0.), vmin=1e-4, vmax=0.017, levels=np.linspace(1e-4, 0.017, 19))\n",
    "cbar = fig.colorbar(pos)\n",
    "cbar.ax.set_ylabel(r'$\\frac{\\gamma}{|\\Omega_{ce}|}$', labelpad=20, rotation=0, fontsize=20)\n",
    "cbar.ax.set_yticks([1e-4, 0.005, 0.01, 0.015])\n",
    "\n",
    "ax.set_xlabel(r\"$|\\vec{k}|d_{e}$\", fontsize=17)\n",
    "ax.set_ylabel(\"$n_{c}/n_{e}$\", fontsize=17)\n",
    "ax.set_title(r\"$\\theta = $\" + str(angles[ii]*180/np.pi))\n",
    "\n",
    "\n",
    "ax.spines['right'].set_visible(False)\n",
    "ax.spines['top'].set_visible(False)\n",
    "ax.set_xlim(3, 50)\n",
    "ax.set_yticks([0.2, 0.3, 0.4, 0.5, 0.6, 0.7, 0.8, 0.9])\n",
    "\n",
    "plt.tight_layout()\n",
    "#plt.savefig(\"../../figs/vadim_2021/oblique_n_c_approx_imag.png\", dpi=300, bbox_inches='tight')"
   ]
  },
  {
   "cell_type": "code",
   "execution_count": null,
   "id": "9d2c5895-f34f-4071-b5d5-290f6f000357",
   "metadata": {},
   "outputs": [],
   "source": [
    "fig, ax = plt.subplots(figsize=(6, 4))\n",
    "pos = ax.contourf(k_, n_c_, np.max(sol_approx_.imag, axis=-1).T, vmin=1e-4, vmax=0.017, levels=np.linspace(1e-4, 0.017, 19))\n",
    "cbar = fig.colorbar(pos)\n",
    "cbar.ax.set_ylabel(r'$\\frac{\\gamma}{|\\Omega_{ce}|}$', labelpad=20, rotation=0, fontsize=20)\n",
    "cbar.ax.set_yticks([1e-4, 0.005, 0.01, 0.015])\n",
    "\n",
    "ax.set_xlabel(r\"$|\\vec{k}|d_{e}$\", fontsize=17)\n",
    "ax.set_ylabel(\"$n_{c}/n_{e}$\", fontsize=17)\n",
    "plt.tight_layout()\n",
    "\n",
    "ax.spines['right'].set_visible(False)\n",
    "ax.spines['top'].set_visible(False)\n",
    "ax.set_xlim(3, 50)\n",
    "ax.set_yticks([0.2, 0.3, 0.4, 0.5, 0.6, 0.7, 0.8, 0.9])\n",
    "\n",
    "plt.tight_layout()\n",
    "plt.savefig(\"../../figs/vadim_2021/oblique_n_c_approx_imag.png\", dpi=300, bbox_inches='tight')"
   ]
  },
  {
   "cell_type": "code",
   "execution_count": null,
   "id": "e42bea3d-5dbf-478e-9d26-cd991a845083",
   "metadata": {},
   "outputs": [],
   "source": [
    "fig, ax = plt.subplots(figsize=(6, 4.2))\n",
    "ax.plot(k_abs, sol_full_.real, linewidth=3, color=\"tab:Blue\", label=\"Eq. (9) $\\Rightarrow$ full\")\n",
    "ax.plot(k_abs, sol_approx_.real, linewidth=3, ls=\"--\", color=\"tab:red\", label=\"Eq. (11) $\\Rightarrow$ approx\")\n",
    "\n",
    "\n",
    "ax.set_ylabel(r'$\\frac{\\omega_r}{|\\Omega_{ce}|}$', fontsize=20, labelpad=20, rotation=0)\n",
    "ax.set_xlabel(r\"$|\\vec{k}|d_{e}$\", fontsize=15)\n",
    "\n",
    "legend = ax.legend(ncols=1, fancybox=False, shadow=False,  loc=\"upper right\")\n",
    "legend.get_frame().set_alpha(0)\n",
    "\n",
    "ax.set_ylim(0, 0.7)\n",
    "ax.set_xlim(10, 61)\n",
    "ax.set_ylim(0.4, 0.6)\n",
    "ax.set_yticks([0.4, 0.5, 0.6])\n",
    "ax.spines['right'].set_visible(False)\n",
    "ax.spines['top'].set_visible(False)\n",
    "plt.grid(alpha=0.2)\n",
    "plt.tight_layout()\n",
    "plt.savefig(\"../figs/vadim_2021/vadim_fig5_c.png\", dpi=300, bbox_inches='tight')"
   ]
  },
  {
   "cell_type": "code",
   "execution_count": null,
   "id": "e373eb99-5247-43fe-9ab0-df28c95765a5",
   "metadata": {},
   "outputs": [],
   "source": [
    "fig, ax = plt.subplots(figsize=(6, 4.2))\n",
    "ax.plot(k_abs, sol_full_.imag, linewidth=3, color=\"tab:Blue\", label=\"Eq. (9) $\\Rightarrow$ full\")\n",
    "ax.plot(k_abs, sol_approx_.imag, linewidth=3, ls=\"--\", color=\"tab:red\", label=\"Eq. (11) $\\Rightarrow$ approx\")\n",
    "\n",
    "\n",
    "ax.set_ylabel(r'$\\frac{\\gamma}{|\\Omega_{ce}|}$', fontsize=20, labelpad=25, rotation=0)\n",
    "ax.set_xlabel(r\"$|\\vec{k}|d_{e}$\", fontsize=15)\n",
    "\n",
    "legend = ax.legend(ncols=1, fancybox=False, shadow=False,  loc=\"lower center\")\n",
    "legend.get_frame().set_alpha(0)\n",
    "\n",
    "\n",
    "ax.set_ylim(-0.0005, 0.012)\n",
    "ax.set_yticks([0, 0.005, 0.01])\n",
    "ax.set_yticklabels([0, 0.005, 0.01])\n",
    "ax.set_xlim(10, 61)\n",
    "ax.spines['right'].set_visible(False)\n",
    "ax.spines['top'].set_visible(False)\n",
    "plt.grid(alpha=0.2)\n",
    "plt.tight_layout()\n",
    "plt.savefig(\"../figs/vadim_2021/vadim_fig5_d.png\", dpi=300, bbox_inches='tight')"
   ]
  },
  {
   "cell_type": "code",
   "execution_count": null,
   "id": "8a7fac3c-eb9d-4ec2-a04e-138c84b5bc1f",
   "metadata": {},
   "outputs": [],
   "source": [
    "k_perp = 20\n",
    "k_par =  np.sqrt((omega_0**2) / (1-omega_0**2))*k_perp\n",
    "omega_ = np.linspace(0.1, 3, 500)"
   ]
  },
  {
   "cell_type": "code",
   "execution_count": null,
   "id": "e59750a2-26ea-4fde-8129-c2592fcfaa1f",
   "metadata": {},
   "outputs": [],
   "source": [
    "electron_feedback = k_perp**2 + k_par**2 + electron_response(n_c=n_c, omega_pe=omega_pe,\n",
    "                                                             alpha_c_perp=alpha_c_perp, alpha_c_par=alpha_c_par,\n",
    "                                                             omega=omega_,\n",
    "                                                             kz=k_par, ky=k_perp, n_max=50)"
   ]
  },
  {
   "cell_type": "code",
   "execution_count": null,
   "id": "52b7d855-192e-4606-bae0-24855b3506a1",
   "metadata": {},
   "outputs": [],
   "source": [
    "fig, ax = plt.subplots(figsize=(8, 5))\n",
    "\n",
    "ax.plot(omega_, np.abs(electron_feedback), color=\"blue\", ls=\"--\", linewidth=3, label=\"electron\")\n",
    "\n",
    "ax.plot(omega_, np.abs(ion_response(omega_pi=omega_pi, alpha_i=alpha_i, m_star=0, ky=k_perp, v_0=v_0, omega_0=omega_0, omega=omega_, kz=k_par)), color=\"pink\",  linewidth=3, label=\"ion  $m=0$\")\n",
    "ax.plot(omega_, np.abs(ion_response(omega_pi=omega_pi, alpha_i=alpha_i, m_star=-1, ky=k_perp, v_0=v_0, omega_0=omega_0, omega=omega_, kz=k_par)), color=\"orange\",  linewidth=3, label=\"ion  $m=-1$\")\n",
    "ax.plot(omega_, np.abs(ion_response(omega_pi=omega_pi, alpha_i=alpha_i, m_star=-2, ky=k_perp, v_0=v_0, omega_0=omega_0, omega=omega_, kz=k_par)), color=\"red\",  linewidth=3, label=\"ion $m=-2$\")\n",
    "ax.plot(omega_, np.abs(ion_response(omega_pi=omega_pi, alpha_i=alpha_i, m_star=-3, ky=k_perp, v_0=v_0, omega_0=omega_0, omega=omega_, kz=k_par)), color=\"green\",  linewidth=3, label=\"ion $m=-3$\")\n",
    "ax.plot(omega_, np.abs(ion_response(omega_pi=omega_pi, alpha_i=alpha_i, m_star=-4, ky=k_perp, v_0=v_0, omega_0=omega_0, omega=omega_, kz=k_par)), color=\"purple\",  linewidth=3, label=\"ion $m=-4$\")\n",
    "\n",
    "legend = ax.legend(ncols=1, fancybox=False, shadow=False,  loc=\"lower right\")\n",
    "#legend.get_frame().set_alpha(0)\n",
    "\n",
    "ax.spines['right'].set_visible(False)\n",
    "ax.spines['top'].set_visible(False)\n",
    "\n",
    "ax.set_xlabel(\"$\\omega$\")\n",
    "ax.set_ylabel(\"$|D(k_{\\perp} =190, \\omega)|$\")\n",
    "ax.set_yscale(\"symlog\")\n",
    "plt.savefig(\"../figs/vadim_2021/sidebands_oblique.png\", dpi=600)"
   ]
  },
  {
   "cell_type": "code",
   "execution_count": null,
   "id": "f712e73e-3803-44c4-afcb-2cf63459d314",
   "metadata": {},
   "outputs": [],
   "source": []
  },
  {
   "cell_type": "code",
   "execution_count": null,
   "id": "3aa16d76-aa68-41e9-b05d-09bc34b4c2b5",
   "metadata": {},
   "outputs": [],
   "source": []
  }
 ],
 "metadata": {
  "kernelspec": {
   "display_name": "Python 3 (ipykernel)",
   "language": "python",
   "name": "python3"
  },
  "language_info": {
   "codemirror_mode": {
    "name": "ipython",
    "version": 3
   },
   "file_extension": ".py",
   "mimetype": "text/x-python",
   "name": "python",
   "nbconvert_exporter": "python",
   "pygments_lexer": "ipython3",
   "version": "3.9.19"
  }
 },
 "nbformat": 4,
 "nbformat_minor": 5
}
