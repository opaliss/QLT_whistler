{
 "cells": [
  {
   "cell_type": "markdown",
   "id": "59043ae3-97f7-42f5-b32e-b4d58389b478",
   "metadata": {},
   "source": [
    "June 2nd, 2025 \n",
    "\n",
    "# Oblique QLT \n",
    "\n",
    "#### [V. Roytershteyn and G. L. Delzanno. *Nonlinear coupling of whistler waves to oblique electrostatic turbulence enabled by cold plasma*. Physics of Plasmas, 28(4):042903, 04 2021](https://pubs.aip.org/aip/pop/article-abstract/28/4/042903/263604/Nonlinear-coupling-of-whistler-waves-to-oblique?redirectedFrom=fulltext)\n",
    "\n",
    "Author: Opal Issan (oissan@ucsd.edu)"
   ]
  },
  {
   "cell_type": "code",
   "execution_count": 1,
   "id": "c7f798d6-2fd5-44db-bc0b-6e4e947e596b",
   "metadata": {},
   "outputs": [],
   "source": [
    "import sys, os\n",
    "sys.path.append(os.path.abspath(os.path.join('..')))"
   ]
  },
  {
   "cell_type": "code",
   "execution_count": 2,
   "id": "af91a5fa-c454-477b-91b8-4ee3160d4eed",
   "metadata": {},
   "outputs": [],
   "source": [
    "import numpy as np\n",
    "import matplotlib.pyplot as plt\n",
    "from scipy.special import wofz \n",
    "import scipy\n",
    "from scipy.sparse import diags\n",
    "from QLT_equations.testoblique import dydt "
   ]
  },
  {
   "cell_type": "code",
   "execution_count": 3,
   "id": "da1ac8fa-e856-42c0-a9b2-6414deba9b33",
   "metadata": {},
   "outputs": [],
   "source": [
    "%matplotlib inline\n",
    "import matplotlib\n",
    "font = {'family' : 'serif',\n",
    "        'size'   : 14}\n",
    "\n",
    "matplotlib.rc('font', **font)\n",
    "matplotlib.rc('xtick', labelsize=14) \n",
    "matplotlib.rc('ytick', labelsize=14) "
   ]
  },
  {
   "cell_type": "markdown",
   "id": "ee329d8f-4f83-4452-b26c-cc441b3fc1ba",
   "metadata": {},
   "source": [
    "### Oblique electrostatic waves initialization (around $t=700\\Omega_{ce}$)"
   ]
  },
  {
   "cell_type": "code",
   "execution_count": 5,
   "id": "d15958f8-c5d4-4e4f-95dc-7a2421f5168c",
   "metadata": {},
   "outputs": [],
   "source": [
    "# parameters from 2021 paper \n",
    "# normalization (vadim parameters)\n",
    "# time is normalized to the electron cyclotron frequency 1/Omega_ce\n",
    "# space is normalized to electron inertial length d_e\n",
    "omega_0 = 0.5 # Omega_ce\n",
    "omega_pe = 4 # Omgea_{ce}\n",
    "\n",
    "n_c = 4/5 # n^e_0\n",
    "\n",
    "# thermal velocity \n",
    "alpha_c_par = 0.0079 # d_e x Omega_ce\n",
    "alpha_c_perp = 0.0079 # d_e x Omega_ce\n",
    "alpha_i =  alpha_c_par / np.sqrt(1836) # d_e x Omega_ce\n",
    "\n",
    "v_0 = 0.65 * alpha_c_par # d_e x Omega_ce\n",
    "omega_pi = omega_pe / np.sqrt(1836) # Omega_ce\n",
    "\n",
    "# initial conditions\n",
    "E0 = 5e-9\n",
    "K_perp_0 = (alpha_c_perp**2 / 2) * n_c\n",
    "K_par_0 = (alpha_c_perp**2 / 2) * n_c\n",
    "T_perp_0 = (alpha_c_perp**2 / 2) \n",
    "T_par_0 = (alpha_c_par**2 / 2) \n",
    "k_0 = 1 # d_e\n",
    "dB0 = 4*np.pi * 2.5 * 1e-5 # d_{e}^3 Omega_{ce}^2 m_{e} n_{e}\n",
    "\n",
    "# max time \n",
    "t_max = 600"
   ]
  },
  {
   "cell_type": "code",
   "execution_count": 6,
   "id": "9a319104-2946-4824-afc1-7f49e274314c",
   "metadata": {},
   "outputs": [],
   "source": [
    "k_perp_ = np.linspace(8, 55, 100)\n",
    "k_par_ = np.sqrt((omega_0**2) / (1-omega_0**2))*k_perp_\n",
    "sol_ = np.zeros((len(k_perp_)), dtype=\"complex128\")\n",
    "k_abs = np.zeros((len(k_perp_)))"
   ]
  },
  {
   "cell_type": "code",
   "execution_count": 7,
   "id": "268c4637-0f5d-4105-b422-0b0949ff88b3",
   "metadata": {},
   "outputs": [],
   "source": [
    "dk_perp = np.abs(k_perp_[1] - k_perp_[0])\n",
    "dk_par = np.abs(k_par_[1] - k_par_[0])"
   ]
  },
  {
   "cell_type": "markdown",
   "id": "7f86fdfb-30aa-4232-a6b3-64f7315751b2",
   "metadata": {},
   "source": [
    "# QLT equations\n",
    "\\begin{align*}\n",
    "    \\frac{\\mathrm{d} K_{\\perp c}}{\\mathrm{d} t} &= \\frac{n_{c}}{2\\pi}  \\frac{\\omega_{pe}^2}{\\alpha_{\\| c}^2} \\int \\mathrm{d} \\vec{k} \\frac{\\mathcal{E}_{E}(\\vec{k}, t)}{|\\vec{k}|^2} \\mathrm{Im}\\left\\{\\sum_{n=-\\infty}^{\\infty} n \\exp(-\\lambda_{c})  I_{n}(\\lambda_{c}) \\left[\\xi_{c}^{0} + \\frac{n}{k_{\\|} \\alpha_{\\| c} } \\left[\\frac{\\alpha_{\\| c}^2}{\\alpha_{\\perp c}^2} - 1\\right] \\right] Z(\\xi_{c}^{n})\\right\\}\\\\\n",
    "    \\frac{\\mathrm{d} K_{\\| c}}{\\mathrm{d} t} &=\\frac{n_{c}}{\\pi}  \\frac{\\omega_{pe}^2}{\\alpha_{\\| c}^2} \\int \\mathrm{d} \\vec{k} \\frac{\\mathcal{E}_{E}(\\vec{k}, t)}{|\\vec{k}|^2}\\mathrm{Im} \\left\\{\\omega +  \\sum_{n=-\\infty}^{\\infty} \\exp(-\\lambda_{c}) I_{n}(\\lambda_{c}) \\left\\{\\omega  + n \\left[\\frac{\\alpha_{\\| c}^2}{\\alpha_{\\perp c}^2} - 1\\right]   \\right] \\xi_{c}^{n}Z(\\xi_{c}^{n}) \\right\\}\\\\\n",
    "    \\frac{\\mathrm{d} T_{\\perp c}}{\\mathrm{d} t} &= \\frac{\\omega_{pe}^2}{ 2\\sqrt{\\pi} \\alpha_{\\| c}^2} \\int \\mathrm{d} \\vec{k} \\frac{\\mathcal{E}_{E}(\\vec{k}, t)}{|\\vec{k}|^2}   \\sum_{n=-\\infty}^{\\infty} n \\exp(-\\lambda_{c}) I_{n}(\\lambda_{c})\\left[\\mathrm{Re}\\{\\xi_{c}^{0}\\} + \\frac{n}{k_{\\|} \\alpha_{\\| c}} \\left[\\frac{\\alpha_{\\| c}^2}{\\alpha_{\\perp c}^2} -1 \\right] \\right] \\exp\\left(-\\mathrm{Re}\\{\\xi_{c}^{n}\\}^2 \\right) \\\\\n",
    "    \\frac{\\mathrm{d} T_{\\| c}}{\\mathrm{d} t} &= \\frac{\\omega_{pe}^2}{\\sqrt{\\pi} \\alpha_{\\| c}^2} \\int \\mathrm{d} \\vec{k} \\frac{\\mathcal{E}_{E}(\\vec{k}, t)}{|\\vec{k}|^2} \\sum_{n=-\\infty}^{\\infty} \\exp(-\\lambda_{c}) I_{n}(\\lambda_{c}) \\left[ \\mathrm{Re}\\{\\omega\\} + n \\left[\\frac{\\alpha_{\\| c}^2 }{\\alpha_{\\perp c}^2 } -1\\right] \\right] \\mathrm{Re}\\{\\xi_{c}^{n}\\} \\exp\\left(-\\mathrm{Re}\\{\\xi_{c}^{n}\\}^2 \\right) \\\\\n",
    "    \\partial_{t} \\mathcal{E}_{E}(k_{\\perp}, t)  &= 2 \\mathrm{Im}\\{\\omega\\}  \\mathcal{E}_{E}(\\vec{k}, t) \\\\\n",
    "    \\partial_{t} \\int_{0}^{\\infty} \\mathrm{d} k_{\\|}  \\mathcal{E}_{B}(k_{\\|}, t) &= \\frac{4\\pi}{\\frac{\\omega_{0}^2}{k_{\\|0}^2 \\omega_{pe}^2} + 1} \\left[ -\\frac{\\mathrm{d} K_{\\perp c}}{\\mathrm{d} t} - \\frac{1}{2}\\frac{\\mathrm{d} K_{\\| c}}{\\mathrm{d} t} - \\frac{1}{\\pi} \\int_{0}^{\\infty} \\int_{0}^{\\infty} \\mathrm{d} k_{\\perp} \\mathrm{d} k_{\\|}\\mathrm{Im} \\{ \\omega\\} \\mathcal{E}_{E}(\\vec{k}, t) \\right]\\\\\n",
    "    \\frac{\\mathrm{d} |V_{Dc}(t)|^2}{\\mathrm{d} t} &= \\frac{1}{4\\pi} \\left[\\frac{\\omega_{0}}{k_{\\|0}}\\frac{1}{\\omega_{0} -1} \\right]^2 \\partial_{t} \\int_{0}^{\\infty} \\mathrm{d} k_{\\|}  \\mathcal{E}_{B}(k_{\\|}, t)\\\\\n",
    "    |\\vec{k}|^2 + 2 n_{c} \\frac{\\omega_{pe}^2}{\\alpha_{\\| c}^2} &\\left[ 1 +   \\sum_{n=-\\infty}^{\\infty} \\exp(-\\lambda_{c}) I_{n}(\\lambda_{c}) Z(\\xi_{c}^{n}) \\left[\\xi_{c}^{0} + \\frac{n}{k_{\\|} \\alpha_{\\| c}} \\left[\\frac{\\alpha_{\\| c}^2}{\\alpha_{\\perp c}^2} -1\\right]\\right]\\right] = \\frac{\\omega_{pi}^2}{\\alpha_{i}^2} \\left|J_{1}\\left(\\frac{k_{\\perp} |V_{Dc}|}{\\omega_{0}}\\right)\\right|^2 Z'\\left(\\frac{\\omega -\\omega_{0}}{k \\alpha_{i}}\\right)\\\\\n",
    "    \\lambda_{c} &\\coloneqq \\frac{k_{\\perp}^2 \\alpha_{\\perp c}^2}{2} \\\\\n",
    "    \\xi_{c}^{n} &\\coloneqq \\frac{\\omega - n}{k_{\\|} \\alpha_{\\|c}}\n",
    "\\end{align*}\n"
   ]
  },
  {
   "cell_type": "code",
   "execution_count": null,
   "id": "b2fa3c3c-6708-4baa-a45a-6cbe84463817",
   "metadata": {
    "scrolled": true
   },
   "outputs": [
    {
     "name": "stdout",
     "output_type": "stream",
     "text": [
      "t =  0.0\n",
      "max gamma =  0.009773063263184452\n",
      "t =  61.75897640965321\n",
      "max gamma =  0.00969833323145298\n",
      "t =  0.0\n",
      "max gamma =  0.009773063263184452\n",
      "t =  0.0\n",
      "max gamma =  0.009773063263184452\n",
      "t =  0.0\n",
      "max gamma =  0.009773063263184452\n",
      "t =  0.0\n",
      "max gamma =  0.00977306326351425\n",
      "t =  0.0\n",
      "max gamma =  0.009773063220919408\n",
      "t =  0.0\n",
      "max gamma =  0.009773063263184452\n",
      "t =  0.0\n",
      "max gamma =  0.009773063202489772\n",
      "t =  0.0\n",
      "max gamma =  0.009773063263184452\n",
      "t =  0.0\n",
      "max gamma =  0.009773063263184452\n",
      "t =  0.0\n",
      "max gamma =  0.009773063263184452\n",
      "t =  0.0\n",
      "max gamma =  0.009773063263184452\n",
      "t =  0.0\n",
      "max gamma =  0.009773063263184452\n",
      "t =  0.0\n",
      "max gamma =  0.009773063263184452\n",
      "t =  0.0\n",
      "max gamma =  0.009773063263184452\n",
      "t =  0.0\n",
      "max gamma =  0.009773063263184452\n",
      "t =  0.0\n",
      "max gamma =  0.009773063263184452\n",
      "t =  0.0\n",
      "max gamma =  0.009773063263184452\n",
      "t =  0.0\n",
      "max gamma =  0.009773063263184452\n",
      "t =  0.0\n",
      "max gamma =  0.009773063263184452\n",
      "t =  0.0\n",
      "max gamma =  0.009773063263184452\n",
      "t =  0.0\n",
      "max gamma =  0.009773063263184452\n"
     ]
    }
   ],
   "source": [
    "dE_init = E0 * np.ones(len(k_perp_))\n",
    "\n",
    "m_star = -1\n",
    "ic1 = 0.5 * 0.99 + 1e-3j\n",
    "ic2 = 0.5 * 0.99 + 1e-5j\n",
    "\n",
    "# simulate \n",
    "result = scipy.integrate.solve_ivp(fun=dydt, t_span=[0, t_max], \n",
    "                                   y0=np.concatenate(([K_perp_0], [K_par_0], [T_perp_0], [T_par_0], [dB0], [v_0**2], dE_init)), \n",
    "                                   args=(k_perp_, k_par_, omega_pe, omega_pi, k_0, alpha_i, n_c, dk_perp, dk_par, omega_0, m_star, ic1, ic2),\n",
    "                                   atol=1e-7, rtol=1e-7, method='BDF')"
   ]
  },
  {
   "cell_type": "code",
   "execution_count": null,
   "id": "3230e08e-f42f-4bb3-b2ab-21d26b646a19",
   "metadata": {},
   "outputs": [],
   "source": [
    "len(result.t)"
   ]
  },
  {
   "cell_type": "code",
   "execution_count": null,
   "id": "e252749b-5039-479b-a2c9-e0183b76c908",
   "metadata": {
    "scrolled": true
   },
   "outputs": [],
   "source": [
    "_ = plt.plot(result.y[6:,:])"
   ]
  },
  {
   "cell_type": "code",
   "execution_count": null,
   "id": "957ea670-defc-433f-811c-1cd9e6a64f0f",
   "metadata": {},
   "outputs": [],
   "source": [
    "fig, ax = plt.subplots(figsize=(7, 5))\n",
    "pos = ax.pcolormesh(result.t, np.sqrt(k_perp_**2 + k_par_**2), result.y[6:], cmap=\"viridis\", \n",
    "                    norm=matplotlib.colors.LogNorm(), shading='gouraud')\n",
    "cbar = fig.colorbar(pos)\n",
    "\n",
    "ax.set_xlabel(r'$t|\\Omega_{ce}|$')\n",
    "ax.set_ylabel(r'$|\\vec{k}| d_{e}$')\n",
    "\n",
    "ax.spines['right'].set_visible(False)\n",
    "ax.spines['top'].set_visible(False)\n",
    "\n",
    "ax.set_title(r\"$\\mathcal{E}_{E}(|\\vec{k}|, t)$\")"
   ]
  },
  {
   "cell_type": "code",
   "execution_count": null,
   "id": "b6a03aa3-1477-4a62-a654-fa878f8f7b18",
   "metadata": {},
   "outputs": [],
   "source": [
    "fig, ax = plt.subplots(figsize=(4, 4))\n",
    "ax.plot(result.t, result.y[4, :]/result.y[4, 0], color=\"black\", linewidth=2)\n",
    "\n",
    "ax.set_xlabel(\"$t|\\Omega_{ce}|$\")\n",
    "ax.set_ylabel(r\"$\\frac{\\delta B^2(t)}{\\delta B^2(t=0)} \\propto \\frac{V_{Dc}^2(t)}{V_{Dc}^2(t=0)}$\")\n",
    "\n",
    "ax.spines['right'].set_visible(False)\n",
    "ax.spines['top'].set_visible(False)\n",
    "\n",
    "plt.grid(alpha=0.5)\n",
    "plt.tight_layout()\n",
    "plt.savefig(\"../figs/secondary_QLT/oblique_magnetic_energy.png\", dpi=300, bbox_inches='tight')"
   ]
  },
  {
   "cell_type": "code",
   "execution_count": null,
   "id": "6eb3042c-5e4b-4f67-a809-58644019fb1b",
   "metadata": {},
   "outputs": [],
   "source": [
    "fig, ax = plt.subplots(figsize=(4, 4))\n",
    "ax.plot(result.t, result.y[0, :]/result.y[0, 0], color=\"red\", linewidth=2, label=\"$K_{c\\perp}(t)/K_{c\\perp}(0)$\")\n",
    "ax.plot(result.t, result.y[2, :]/result.y[2, 0], color=\"blue\", linewidth=2, label=\"$T_{c\\perp}(t)/T_{c\\perp}(0)$\")\n",
    "\n",
    "ax.legend()\n",
    "ax.set_xlabel(\"$t|\\Omega_{ce}|$\")\n",
    "ax.spines['right'].set_visible(False)\n",
    "ax.spines['top'].set_visible(False)\n",
    "plt.grid(alpha=0.5)\n",
    "plt.tight_layout()\n",
    "plt.savefig(\"../figs/secondary_QLT/oblique_kinetic_energy_perp.png\", dpi=300, bbox_inches='tight')"
   ]
  },
  {
   "cell_type": "code",
   "execution_count": null,
   "id": "ac90f00f-24e3-4fd0-a8d7-4836f1f46e7c",
   "metadata": {},
   "outputs": [],
   "source": [
    "fig, ax = plt.subplots(figsize=(4, 4))\n",
    "ax.plot(result.t, result.y[1, :]/result.y[1, 0], color=\"red\", linewidth=2, label=\"$K_{c\\|}(t)/K_{c\\|}(0)$\")\n",
    "ax.plot(result.t, result.y[3, :]/result.y[3, 0], color=\"blue\", linewidth=2, label=\"$T_{c\\|}(t)/T_{c\\|}(0)$\")\n",
    "\n",
    "ax.plot(result.t, result.y[0, :]/result.y[0, 0], color=\"red\", linewidth=2, ls=\"--\", label=\"$K_{c\\perp}(t)/K_{c\\perp}(0)$\")\n",
    "ax.plot(result.t, result.y[2, :]/result.y[2, 0], color=\"blue\", linewidth=2, ls=\"--\", label=\"$T_{c\\perp}(t)/T_{c\\perp}(0)$\")\n",
    "\n",
    "ax.legend()\n",
    "ax.set_xlabel(\"$t|\\Omega_{ce}|$\")\n",
    "ax.spines['right'].set_visible(False)\n",
    "ax.spines['top'].set_visible(False)\n",
    "\n",
    "plt.grid(alpha=0.5)\n",
    "plt.tight_layout()\n",
    "plt.savefig(\"../figs/secondary_QLT/oblique_kinetic_energy_par.png\", dpi=300, bbox_inches='tight')"
   ]
  },
  {
   "cell_type": "code",
   "execution_count": null,
   "id": "44d06a5d-5de1-4b1a-a5a7-70ec6da14cbe",
   "metadata": {},
   "outputs": [],
   "source": [
    "fig, ax = plt.subplots(figsize=(6, 4))\n",
    "kinetic_energy = result.y[0, :] + 0.5 * result.y[1, :]\n",
    "potential_energy = np.sum(result.y[6:, :], axis=0)*dk_perp*dk_par/2/np.pi\n",
    "magnetic_energy = (1 + (omega_0/k_0/omega_pe)**2) * result.y[4, :]/4/np.pi \n",
    "total_energy = kinetic_energy + magnetic_energy + potential_energy \n",
    "\n",
    "ax.plot(result.t, kinetic_energy - kinetic_energy[0], color=\"black\", linewidth=2, label=\"$\\Delta K$\")\n",
    "ax.plot(result.t, magnetic_energy - magnetic_energy[0], color=\"red\", linewidth=2, label=\"$\\Delta B_{W} + \\Delta E_{W}$\")\n",
    "ax.plot(result.t, potential_energy - potential_energy[0], color=\"blue\", linewidth=2, label=\"$\\Delta E_{E}$\")\n",
    "ax.plot(result.t, total_energy - total_energy[0], color=\"green\", linewidth=2, label=\"$\\Delta E_{tot}$\")\n",
    "\n",
    "ax.set_yscale(\"symlog\", linthresh=1e-10)\n",
    "ax.set_xlabel(r'$t|\\Omega_{ce}|$')\n",
    "ax.set_ylabel(r'$\\Delta E$')\n",
    "\n",
    "legend = ax.legend(loc='upper left', ncols=2, fancybox=False, shadow=False, fontsize=14, bbox_to_anchor=(0., 1.3))\n",
    "legend.get_frame().set_alpha(0)\n",
    "\n",
    "ax.spines['right'].set_visible(False)\n",
    "ax.spines['top'].set_visible(False)\n",
    "plt.grid(alpha=0.5)\n",
    "plt.tight_layout()\n",
    "plt.savefig(\"../figs/secondary_QLT/energy_conservation_oblique.png\", dpi=300, bbox_inches='tight')\n",
    "   "
   ]
  },
  {
   "cell_type": "code",
   "execution_count": null,
   "id": "4eff5328-26a2-41e9-a4d4-274973f15188",
   "metadata": {},
   "outputs": [],
   "source": []
  },
  {
   "cell_type": "code",
   "execution_count": null,
   "id": "8c2bde85-24a1-4c31-85b3-4e94db4812c6",
   "metadata": {},
   "outputs": [],
   "source": []
  }
 ],
 "metadata": {
  "kernelspec": {
   "display_name": "Python 3 (ipykernel)",
   "language": "python",
   "name": "python3"
  },
  "language_info": {
   "codemirror_mode": {
    "name": "ipython",
    "version": 3
   },
   "file_extension": ".py",
   "mimetype": "text/x-python",
   "name": "python",
   "nbconvert_exporter": "python",
   "pygments_lexer": "ipython3",
   "version": "3.9.19"
  }
 },
 "nbformat": 4,
 "nbformat_minor": 5
}