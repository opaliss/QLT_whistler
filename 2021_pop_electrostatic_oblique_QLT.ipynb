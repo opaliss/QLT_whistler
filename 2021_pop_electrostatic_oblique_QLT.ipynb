{
 "cells": [
  {
   "cell_type": "markdown",
   "id": "59043ae3-97f7-42f5-b32e-b4d58389b478",
   "metadata": {},
   "source": [
    "Last update: May 13th, 2024 \n",
    "\n",
    "# Oblique whistler Linear Theory QLT \n",
    "\n",
    "#### V. Roytershteyn and G. L. Delzanno. *Nonlinear coupling of whistler waves to oblique electrostatic turbulence enabled by cold plasma*. Physics of Plasmas, 28(4):042903, 04 2021\n",
    "\n",
    "Author: Opal Issan (oissan@ucsd.edu)"
   ]
  },
  {
   "cell_type": "code",
   "execution_count": 1,
   "id": "af91a5fa-c454-477b-91b8-4ee3160d4eed",
   "metadata": {},
   "outputs": [],
   "source": [
    "import numpy as np\n",
    "import matplotlib.pyplot as plt\n",
    "from scipy.special import wofz \n",
    "import scipy\n",
    "from scipy.sparse import diags"
   ]
  },
  {
   "cell_type": "code",
   "execution_count": 2,
   "id": "da1ac8fa-e856-42c0-a9b2-6414deba9b33",
   "metadata": {},
   "outputs": [],
   "source": [
    "%matplotlib inline\n",
    "import matplotlib\n",
    "font = {'family' : 'serif',\n",
    "        'size'   : 14}\n",
    "\n",
    "matplotlib.rc('font', **font)\n",
    "matplotlib.rc('xtick', labelsize=14) \n",
    "matplotlib.rc('ytick', labelsize=14) "
   ]
  },
  {
   "cell_type": "code",
   "execution_count": 3,
   "id": "75887d13-8759-4053-8e66-d13fa9e34754",
   "metadata": {},
   "outputs": [],
   "source": [
    "# important basic functions \n",
    "\n",
    "def Z(z):\n",
    "    # plasma dispersion function Z(xi)\n",
    "    return 1j * np.sqrt(np.pi) * wofz(z)\n",
    "    \n",
    "def Z_prime(z):\n",
    "    # derivative of the plasma dispersion function Z'(xi)\n",
    "    return -2*(1+z*Z(z))\n",
    "\n",
    "def I(Lambda_e, m):\n",
    "    # modified Bessel function of the first kind I_{m}(\\lambda) x exp(-lambda)\n",
    "    return scipy.special.ive(m, Lambda_e)\n",
    "\n",
    "def J(Lambda_e, m):\n",
    "    # Bessel function of the first kind J_{m}(\\lambda)\n",
    "    return scipy.special.jv(m, Lambda_e)"
   ]
  },
  {
   "cell_type": "markdown",
   "id": "ee329d8f-4f83-4452-b26c-cc441b3fc1ba",
   "metadata": {},
   "source": [
    "### Oblique electrostatic waves\n",
    "The dispersion relation is \n",
    "\\begin{equation*}\n",
    "    k_{\\perp}^2 + k_{\\|}^2 + \\frac{2\\omega_{pc}^2}{\\alpha_{\\| c}^2} \\left[ 1 +   \\sum_{n=-\\infty}^{\\infty} \\exp(-\\lambda_{c}) I_{n}(\\lambda_{c}) Z(\\xi_{c}^{n}) \\left[\\xi_{c}^{0} +  \\frac{n \\Omega_{ce}}{k_{\\|} \\alpha_{\\| c}} \\left[ 1-\\frac{T_{\\| c}}{T_{\\perp c}} \\right]\\right]\\right] = \\frac{\\omega_{pi}^2}{\\alpha_{i}^2} \\left|J_{1}\\left(\\frac{k_{\\perp} |V_{Dc}|}{\\omega_{0}}\\right)\\right|^2 Z'\\left(\\frac{\\omega -\\omega_{0}}{k \\alpha_{i}}\\right).\n",
    "\\end{equation*}\n",
    "\\begin{align*}\n",
    "    k &\\coloneqq \\|\\vec{k}\\|_{2} = \\sqrt{k_{\\perp}^2 + k_{\\|}^2}\\\\\n",
    "    \\lambda_{c} &\\coloneqq \\frac{k_{\\perp}^2 \\alpha_{\\|c}^2}{2} \\\\\n",
    "    \\xi_{c}^{n} &\\coloneqq \\frac{\\omega + n \\Omega_{ce}}{k_{\\|} \\alpha_{\\|c}}\n",
    "\\end{align*} "
   ]
  },
  {
   "cell_type": "code",
   "execution_count": 14,
   "id": "d15958f8-c5d4-4e4f-95dc-7a2421f5168c",
   "metadata": {},
   "outputs": [],
   "source": [
    "# parameters from 2021 paper \n",
    "# normalization (vadim parameters)\n",
    "# time is normalized to the electron cyclotron frequency 1/Omega_ce\n",
    "# space is normalized to electron inertial length d_e\n",
    "omega_0 = 0.5 # Omega_ce\n",
    "omega_pe = 4 # Omgea_{ce}\n",
    "\n",
    "n_c = 4/5 # n^e_0\n",
    "\n",
    "# thermal velocity \n",
    "alpha_c = 0.0079  # / np.sqrt(2) # d_e x Omega_ce\n",
    "alpha_i =  alpha_c / np.sqrt(1836) # d_e x Omega_ce\n",
    "\n",
    "v_0 = 0.65 * alpha_c #* np.sqrt(2) # d_e x Omega_ce\n",
    "omega_pi = omega_pe / np.sqrt(1836) # Omega_ce"
   ]
  },
  {
   "cell_type": "code",
   "execution_count": 15,
   "id": "d8c54c08-5b7a-4fd9-b1bd-5d21f76643d1",
   "metadata": {},
   "outputs": [],
   "source": [
    "def sum_bessel(lambda_, omega, kz, n_max, alpha_c):\n",
    "    res = 0 \n",
    "    for n in range(-n_max, n_max+1):\n",
    "        xi = (omega + n)/(kz*alpha_c)\n",
    "        res +=  I(m=n, Lambda_e=lambda_)* Z(z=xi) \n",
    "    return res\n",
    "\n",
    "def electron_response(n_c, omega_pe, alpha_c, omega, kz, n_max, ky):\n",
    "    # Bessel argument electron\n",
    "    lambda_ = 0.5 * ((ky*alpha_c)**2)\n",
    "    return 2 * n_c *((omega_pe**2)/(alpha_c**2)) * (1 + (omega / (kz*alpha_c)) * sum_bessel(lambda_=lambda_, omega=omega, kz=kz, \n",
    "                                                                                           n_max=n_max, alpha_c=alpha_c))\n",
    "\n",
    "def ion_response(omega_pi, alpha_i, m_star, ky, v_0, omega_0, omega, kz):\n",
    "    k_abs = np.sqrt(ky**2 + kz**2)\n",
    "    # Bessel argument ion Doppler-shifted\n",
    "    a = ky * np.abs(v_0) / omega_0\n",
    "    return (omega_pi**2)/(alpha_i**2) * (J(m=m_star, Lambda_e=a)**2) * Z_prime(z=(omega - omega_0)/(alpha_i * k_abs))\n",
    "    \n",
    "def disp_k(ky, \n",
    "           kz, \n",
    "           omega_pe=omega_pe, \n",
    "           omega_pi=omega_pi, \n",
    "           omega_0=omega_0,\n",
    "           v_0=v_0, \n",
    "           alpha_i=alpha_i,\n",
    "           alpha_c=alpha_c, \n",
    "           n_c=n_c, \n",
    "           m_star=-1,\n",
    "           n_max=20):\n",
    "    return lambda omega : ky**2 + kz**2\\\n",
    "    + electron_response(n_c=n_c, omega_pe=omega_pe, alpha_c=alpha_c, omega=omega, kz=kz, ky=ky, n_max=n_max)\\\n",
    "    - ion_response(omega_pi=omega_pi, alpha_i=alpha_i, m_star=m_star, ky=ky, v_0=v_0, omega_0=omega_0, omega=omega, kz=kz)"
   ]
  },
  {
   "cell_type": "code",
   "execution_count": 16,
   "id": "cf5c13d1-ff96-46a8-ac80-30908e6fcfc8",
   "metadata": {},
   "outputs": [
    {
     "name": "stdout",
     "output_type": "stream",
     "text": [
      "k =  6.928203230275509\n",
      "omega_k + i gamma =  (0.48718183113828956+1.7749059819848618e-16j)\n",
      "dispersion residual =  3.902324488316232e-11\n"
     ]
    }
   ],
   "source": [
    "ky = 6\n",
    "kz = ky*np.sqrt((omega_0**2)/ (1-omega_0**2))\n",
    "print(\"k = \", np.sqrt(ky**2 + kz**2))\n",
    "\n",
    "sol = scipy.optimize.newton(disp_k(ky=ky, kz=kz), omega_0+1e-3j, tol=1e-15)\n",
    "\n",
    "print(\"omega_k + i gamma = \", sol)\n",
    "print(\"dispersion residual = \", abs(disp_k(ky=ky, kz=kz)(sol)))"
   ]
  },
  {
   "cell_type": "code",
   "execution_count": 17,
   "id": "9a319104-2946-4824-afc1-7f49e274314c",
   "metadata": {},
   "outputs": [],
   "source": [
    "ky_ = np.linspace(5, 60, 80)\n",
    "kz_ = np.sqrt((omega_0**2) / (1-omega_0**2))*ky_\n",
    "sol_ = np.zeros((len(ky_)), dtype=\"complex128\")\n",
    "k_abs = np.zeros((len(ky_)))"
   ]
  },
  {
   "cell_type": "code",
   "execution_count": 18,
   "id": "a70e614f-1245-4099-b0fe-c8e50571b756",
   "metadata": {},
   "outputs": [
    {
     "name": "stdout",
     "output_type": "stream",
     "text": [
      "dispersion residual =  1.3315249283447781e-11\n",
      "dispersion residual =  2.4123921456684935e-11\n",
      "dispersion residual =  3.9971316880069206e-11\n",
      "dispersion residual =  1.411851093077451e-11\n",
      "dispersion residual =  9.160850553067572e-11\n",
      "dispersion residual =  8.548362019312688e-11\n",
      "dispersion residual =  1.2780144707185827e-11\n",
      "dispersion residual =  6.970990077747471e-12\n",
      "dispersion residual =  8.997641071321885e-11\n",
      "dispersion residual =  2.0117030944063264e-11\n",
      "dispersion residual =  8.60084944782749e-11\n",
      "dispersion residual =  3.4937397877911775e-11\n",
      "dispersion residual =  5.50574363057466e-11\n",
      "dispersion residual =  2.9074150510727484e-10\n",
      "dispersion residual =  3.5529752182937874e-09\n",
      "dispersion residual =  3.362110573977834e-10\n",
      "dispersion residual =  3.2951295790311554e-10\n",
      "dispersion residual =  5.887919275503149e-10\n",
      "dispersion residual =  1.070492894717597e-09\n",
      "dispersion residual =  4.404964490265355e-09\n",
      "dispersion residual =  6.189796083297311e-10\n",
      "dispersion residual =  3.3381503295765307e-10\n",
      "dispersion residual =  8.772675481882839e-10\n",
      "dispersion residual =  2.5007633096985243e-10\n",
      "dispersion residual =  7.778573258294754e-11\n",
      "dispersion residual =  8.781181078318268e-10\n",
      "dispersion residual =  8.418802226473681e-10\n",
      "dispersion residual =  1.363790034699678e-09\n",
      "dispersion residual =  1.0791744688268415e-09\n",
      "dispersion residual =  5.732106592435432e-10\n",
      "dispersion residual =  1.714411177070896e-10\n",
      "dispersion residual =  1.4033036483551058e-10\n",
      "dispersion residual =  1.6304972964218395e-09\n",
      "dispersion residual =  9.034703293784202e-10\n",
      "dispersion residual =  9.433791404611249e-10\n",
      "dispersion residual =  1.2387640447476293e-10\n",
      "dispersion residual =  6.980373317368796e-10\n",
      "dispersion residual =  7.667106416978313e-10\n",
      "dispersion residual =  3.2046785006812595e-11\n",
      "dispersion residual =  6.178351962656003e-10\n",
      "dispersion residual =  4.339979209133989e-11\n",
      "dispersion residual =  5.635758242515505e-10\n",
      "dispersion residual =  4.1123268346271353e-10\n",
      "dispersion residual =  4.9738738582529936e-11\n",
      "dispersion residual =  1.0039006112724687e-09\n",
      "dispersion residual =  2.6241719835986275e-11\n",
      "dispersion residual =  3.902680870628487e-10\n",
      "dispersion residual =  4.590678448791339e-10\n",
      "dispersion residual =  3.537995762721496e-10\n",
      "dispersion residual =  3.1776168713090024e-10\n",
      "dispersion residual =  4.958106008179022e-10\n",
      "dispersion residual =  2.5486144785103632e-11\n",
      "dispersion residual =  1.1406546650936781e-10\n",
      "dispersion residual =  1.4502091943633762e-10\n",
      "dispersion residual =  1.8715491721714916e-10\n",
      "dispersion residual =  7.570143514998495e-11\n",
      "dispersion residual =  7.129533550056662e-11\n",
      "dispersion residual =  9.71117200121441e-11\n",
      "dispersion residual =  1.0474599584186194e-10\n",
      "dispersion residual =  1.3275196025084622e-10\n",
      "dispersion residual =  4.195088061105892e-10\n",
      "dispersion residual =  3.877179220522142e-10\n",
      "dispersion residual =  4.095918250106499e-10\n",
      "dispersion residual =  4.767279388290238e-10\n",
      "dispersion residual =  1.5306555350552244e-10\n",
      "dispersion residual =  1.7455665282080579e-10\n",
      "dispersion residual =  6.366462912410498e-11\n",
      "dispersion residual =  6.587253578014263e-10\n",
      "dispersion residual =  4.78501403921324e-11\n",
      "dispersion residual =  1.8189894035458565e-10\n",
      "dispersion residual =  2.0489282673703162e-10\n",
      "dispersion residual =  1.314211976437105e-10\n",
      "dispersion residual =  1.5660220560698424e-10\n",
      "dispersion residual =  2.329443027495599e-11\n",
      "dispersion residual =  7.202830556060992e-11\n",
      "dispersion residual =  1.0113384787989472e-09\n",
      "dispersion residual =  5.339779638425905e-10\n",
      "dispersion residual =  3.4028231054173686e-10\n",
      "dispersion residual =  6.426363678984211e-10\n",
      "dispersion residual =  8.242169972693779e-10\n"
     ]
    }
   ],
   "source": [
    "for ii in range(len(ky_)):\n",
    "    try:\n",
    "        k_abs[ii] = np.sqrt(ky_[ii]**2 + kz_[ii]**2)\n",
    "        sol_[ii] = scipy.optimize.newton(disp_k(ky=ky_[ii], kz=kz_[ii]), omega_0 + 1e-4j, tol=1e-15)\n",
    "        print(\"dispersion residual = \", abs(disp_k(ky=ky_[ii], kz=kz_[ii])(sol_[ii])))\n",
    "        if abs(disp_k(ky=ky_[ii], kz=kz_[ii])(sol_[ii])) > 1e-8:\n",
    "            sol_[ii] =  np.inf + np.inf*1j\n",
    "    except:\n",
    "        sol_[ii] =  np.inf + np.inf*1j\n",
    "        print(\"An exception occurred\")"
   ]
  },
  {
   "cell_type": "code",
   "execution_count": 19,
   "id": "e42bea3d-5dbf-478e-9d26-cd991a845083",
   "metadata": {},
   "outputs": [
    {
     "data": {
      "image/png": "[encoded data removed]",
      "text/plain": [
       "<Figure size 600x300 with 1 Axes>"
      ]
     },
     "metadata": {},
     "output_type": "display_data"
    }
   ],
   "source": [
    "fig, ax = plt.subplots(figsize=(6, 3))\n",
    "ax.plot(k_abs, sol_.real, linewidth=3, color=\"tab:orange\")\n",
    "ax.set_ylabel('$\\omega_r/\\Omega_{ce}$')\n",
    "ax.set_xlabel('$|k|d_{e}$')\n",
    "ax.set_ylim(0, 0.7)\n",
    "ax.spines['right'].set_visible(False)\n",
    "ax.spines['top'].set_visible(False)\n",
    "plt.tight_layout()\n",
    "plt.savefig(\"figs/vadim_2021/vadim_fig5_c.png\", dpi=300, bbox_inches='tight')"
   ]
  },
  {
   "cell_type": "code",
   "execution_count": 20,
   "id": "e373eb99-5247-43fe-9ab0-df28c95765a5",
   "metadata": {},
   "outputs": [
    {
     "data": {
      "image/png": "[encoded data removed]",
      "text/plain": [
       "<Figure size 600x300 with 1 Axes>"
      ]
     },
     "metadata": {},
     "output_type": "display_data"
    }
   ],
   "source": [
    "fig, ax = plt.subplots(figsize=(6, 3))\n",
    "ax.plot(k_abs, sol_.imag, color=\"tab:orange\", linewidth=3)\n",
    "ax.set_ylabel('$\\gamma/\\Omega_{ce}$', rotation=90)\n",
    "ax.set_xlabel('$|k|d_{e}$')\n",
    "ax.set_ylim(-0.0005, 0.012)\n",
    "#ax.set_xticks([180, 200, 220, 240])\n",
    "#ax.set_yticks([0, 0.0025, 0.005, 0.0075])\n",
    "ax.spines['right'].set_visible(False)\n",
    "ax.spines['top'].set_visible(False)\n",
    "plt.tight_layout()\n",
    "plt.savefig(\"figs/vadim_2021/vadim_fig5_d.png\", dpi=300, bbox_inches='tight')"
   ]
  },
  {
   "cell_type": "markdown",
   "id": "7f86fdfb-30aa-4232-a6b3-64f7315751b2",
   "metadata": {},
   "source": [
    "# QLT equations\n",
    "\\begin{align*}\n",
    "    \\frac{\\mathrm{d} K_{\\perp c}}{\\mathrm{d} t} &= \\frac{n_{c}}{2\\pi}  \\frac{\\omega_{pe}^2}{\\alpha_{\\| c}^2} \\int \\mathrm{d} \\vec{k} \\frac{\\mathcal{E}_{E}(k_{\\perp}, t)}{|\\vec{k}|^2} \\mathrm{Im}\\left\\{\\sum_{n=-\\infty}^{\\infty} n \\exp(-\\lambda_{c})  I_{n}(\\lambda_{c}) \\left[\\xi_{c}^{0} + \\frac{n}{k_{\\|} \\alpha_{\\| c} } \\left[\\frac{\\alpha_{\\| c}^2}{\\alpha_{\\perp c}^2} - 1\\right] \\right] Z(\\xi_{c}^{n})\\right\\}\\\\\n",
    "    \\frac{\\mathrm{d} K_{\\| c}}{\\mathrm{d} t} &=\\frac{n_{c}}{\\pi}  \\frac{\\omega_{pe}^2}{\\alpha_{\\| c}^2} \\int \\mathrm{d} \\vec{k} \\frac{\\mathcal{E}_{E}(k_{\\perp}, t)}{|\\vec{k}|^2}\\mathrm{Im} \\left\\{\\omega +  \\sum_{n=-\\infty}^{\\infty} \\exp(-\\lambda_{c}) I_{n}(\\lambda_{c}) \\left\\{\\omega  + n \\left[\\frac{\\alpha_{\\| c}^2}{\\alpha_{\\perp c}^2} - 1\\right]   \\right] \\xi_{c}^{n}Z(\\xi_{c}^{n}) \\right\\}\\\\\n",
    "    \\frac{\\mathrm{d} T_{\\perp c}}{\\mathrm{d} t} &= \\frac{\\omega_{pe}^2}{ 2\\sqrt{\\pi} \\alpha_{\\| c}^2} \\int \\mathrm{d} \\vec{k} \\frac{\\mathcal{E}_{E}(k_{\\perp}, t)}{|\\vec{k}|^2}   \\sum_{n=-\\infty}^{\\infty} n \\exp(-\\lambda_{c}) I_{n}(\\lambda_{c})\\left[\\mathrm{Re}\\{\\xi_{c}^{0}\\} + \\frac{n}{k_{\\|} \\alpha_{\\| c}} \\left[\\frac{\\alpha_{\\| c}^2}{\\alpha_{\\perp c}^2} -1 \\right] \\right] \\exp\\left(-\\mathrm{Re}\\{\\xi_{c}^{n}\\}^2 \\right) \\\\\n",
    "    \\frac{\\mathrm{d} T_{\\| c}}{\\mathrm{d} t} &= \\frac{\\omega_{pe}^2}{\\sqrt{\\pi} \\alpha_{\\| c}^2} \\int \\mathrm{d} \\vec{k} \\frac{\\mathcal{E}_{E}(k_{\\perp}, t)}{|\\vec{k}|^2} \\sum_{n=-\\infty}^{\\infty} \\exp(-\\lambda_{c}) I_{n}(\\lambda_{c}) \\left[ \\mathrm{Re}\\{\\omega\\} + n \\left[\\frac{\\alpha_{\\| c}^2 }{\\alpha_{\\perp c}^2 } -1\\right] \\right] \\mathrm{Re}\\{\\xi_{c}^{n}\\} \\exp\\left(-\\mathrm{Re}\\{\\xi_{c}^{n}\\}^2 \\right) \\\\\n",
    "    \\partial_{t} \\mathcal{E}_{E}(k_{\\perp}, t)  &= 2 \\mathrm{Im}\\{\\omega\\}  \\mathcal{E}_{E}(k_{\\perp}, t) \\\\\n",
    "    \\partial_{t} \\int_{0}^{\\infty} \\mathrm{d} k_{\\|}  \\mathcal{E}_{B}(k_{\\|}, t) &= \\frac{4\\pi}{\\frac{\\omega_{0}^2}{k_{\\|0}^2 \\omega_{pe}^2} + 1} \\left[ -\\frac{\\mathrm{d} K_{\\perp c}}{\\mathrm{d} t} - \\frac{\\mathrm{d} K_{\\| c}}{\\mathrm{d} t} - \\frac{1}{2\\pi} \\int_{0}^{\\infty} \\mathrm{d} k_{\\perp} \\mathrm{Im} \\{ \\omega\\} \\mathcal{E}_{E}(k_{\\perp}, t) \\right]\\\\\n",
    "    \\frac{\\mathrm{d} |V_{Dc}(t)|^2}{\\mathrm{d} t} &= \\frac{1}{4\\pi} \\left[\\frac{\\omega_{0}}{k_{\\|0}}\\frac{1}{\\omega_{0} -1} \\right]^2 \\partial_{t} \\int_{0}^{\\infty} \\mathrm{d} k_{\\|}  \\mathcal{E}_{B}(k_{\\|}, t)\\\\\n",
    "    |\\vec{k}|^2 + 2 n_{c} \\frac{\\omega_{pe}^2}{\\alpha_{\\| c}^2} &\\left[ 1 +   \\sum_{n=-\\infty}^{\\infty} \\exp(-\\lambda_{c}) I_{n}(\\lambda_{c}) Z(\\xi_{c}^{n}) \\left[\\xi_{c}^{0} + \\frac{n}{k_{\\|} \\alpha_{\\| c}} \\left[\\frac{\\alpha_{\\| c}^2}{\\alpha_{\\perp c}^2} -1\\right]\\right]\\right] = \\frac{\\omega_{pi}^2}{\\alpha_{i}^2} \\left|J_{1}\\left(\\frac{k_{\\perp} |V_{Dc}|}{\\omega_{0}}\\right)\\right|^2 Z'\\left(\\frac{\\omega -\\omega_{0}}{k \\alpha_{i}}\\right)\\\\\n",
    "    \\lambda_{c} &\\coloneqq \\frac{k_{\\perp}^2 \\alpha_{\\perp c}^2}{2} \\\\\n",
    "    \\xi_{c}^{n} &\\coloneqq \\frac{\\omega - n}{k_{\\|} \\alpha_{c\\|}}\n",
    "\\end{align*}\n"
   ]
  },
  {
   "cell_type": "code",
   "execution_count": null,
   "id": "3aa16d76-aa68-41e9-b05d-09bc34b4c2b5",
   "metadata": {},
   "outputs": [],
   "source": [
    "def dK_perp_dt():\n",
    "\n",
    "def dK_par_dt():\n",
    "\n",
    "def dT_perp_dt():\n",
    "\n",
    "def dT_par_dt():\n",
    "\n",
    "def dEdt(gamma, E_vec):\n",
    "    return 2 * gamma * E_vec\n",
    "\n",
    "def dBdt():\n",
    "\n",
    "\n",
    "def dVdt()\n"
   ]
  }
 ],
 "metadata": {
  "kernelspec": {
   "display_name": "Python 3 (ipykernel)",
   "language": "python",
   "name": "python3"
  },
  "language_info": {
   "codemirror_mode": {
    "name": "ipython",
    "version": 3
   },
   "file_extension": ".py",
   "mimetype": "text/x-python",
   "name": "python",
   "nbconvert_exporter": "python",
   "pygments_lexer": "ipython3",
   "version": "3.9.19"
  }
 },
 "nbformat": 4,
 "nbformat_minor": 5
}
