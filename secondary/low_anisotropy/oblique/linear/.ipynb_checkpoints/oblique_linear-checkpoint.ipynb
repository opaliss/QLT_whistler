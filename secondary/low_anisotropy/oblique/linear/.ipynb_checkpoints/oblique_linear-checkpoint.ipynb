{
 "cells": [
  {
   "cell_type": "markdown",
   "id": "59043ae3-97f7-42f5-b32e-b4d58389b478",
   "metadata": {},
   "source": [
    "Last modified: Sept 1st, 2025\n",
    "\n",
    "## Oblique electrostatic waves\n",
    "#### [V. Roytershteyn and G. L. Delzanno. *Nonlinear coupling of whistler waves to oblique electrostatic turbulence enabled by cold plasma*. Physics of Plasmas, 28(4):042903, 04 2021](https://pubs.aip.org/aip/pop/article-abstract/28/4/042903/263604/Nonlinear-coupling-of-whistler-waves-to-oblique?redirectedFrom=fulltext)\n",
    "\n",
    "Author: Opal Issan (oissan@ucsd.edu)"
   ]
  },
  {
   "cell_type": "code",
   "execution_count": 3,
   "id": "2f37c435-a72b-472f-b3df-96c13a782f09",
   "metadata": {},
   "outputs": [],
   "source": [
    "import sys, os\n",
    "sys.path.append(os.path.abspath(os.path.join('../../../../')))"
   ]
  },
  {
   "cell_type": "code",
   "execution_count": 4,
   "id": "af91a5fa-c454-477b-91b8-4ee3160d4eed",
   "metadata": {},
   "outputs": [],
   "source": [
    "import numpy as np\n",
    "import matplotlib.pyplot as plt\n",
    "import scipy\n",
    "from QLT_equations.obliqueQLT import dispersion_relation"
   ]
  },
  {
   "cell_type": "code",
   "execution_count": 5,
   "id": "da1ac8fa-e856-42c0-a9b2-6414deba9b33",
   "metadata": {},
   "outputs": [],
   "source": [
    "%matplotlib inline\n",
    "import matplotlib\n",
    "font = {'family' : 'serif',\n",
    "        'size'   : 14}\n",
    "\n",
    "matplotlib.rc('font', **font)\n",
    "matplotlib.rc('xtick', labelsize=14) \n",
    "matplotlib.rc('ytick', labelsize=14) "
   ]
  },
  {
   "cell_type": "markdown",
   "id": "ee329d8f-4f83-4452-b26c-cc441b3fc1ba",
   "metadata": {},
   "source": [
    "### Oblique electrostatic waves: low anisotropy setup "
   ]
  },
  {
   "cell_type": "code",
   "execution_count": 6,
   "id": "d15958f8-c5d4-4e4f-95dc-7a2421f5168c",
   "metadata": {},
   "outputs": [],
   "source": [
    "# parameters from 2021 paper \n",
    "# normalization (Vadim parameters)\n",
    "# time is normalized to the electron cyclotron frequency 1/Omega_ce\n",
    "# space is normalized to electron inertial length d_e\n",
    "omega_0 = 0.5 # Omega_ce\n",
    "omega_pe = 4 # Omgea_{ce}\n",
    "\n",
    "n_c = 0.8 # n^e_0\n",
    "\n",
    "# thermal velocity \n",
    "alpha_c_perp = 0.0079 # d_e x Omega_ce\n",
    "alpha_c_par = 0.0079 # d_e x Omega_ce\n",
    "alpha_i =  alpha_c_perp / np.sqrt(1836) # d_e x Omega_ce\n",
    "\n",
    "v_0 = 0.65 * alpha_c_perp # d_e x Omega_ce\n",
    "omega_pi = omega_pe / np.sqrt(1836) # Omega_ce"
   ]
  },
  {
   "cell_type": "code",
   "execution_count": 7,
   "id": "cf5c13d1-ff96-46a8-ac80-30908e6fcfc8",
   "metadata": {},
   "outputs": [
    {
     "name": "stdout",
     "output_type": "stream",
     "text": [
      "k =  12.701705922171765\n",
      "omega_k + i gamma =  (0.49133499455331203+0.003528395311648414j)\n",
      "dispersion residual =  4.8328242560506193e-11\n"
     ]
    }
   ],
   "source": [
    "ky = 11\n",
    "kz = ky*np.sqrt((omega_0**2)/ (1-omega_0**2))\n",
    "print(\"k = \", np.sqrt(ky**2 + kz**2))\n",
    "\n",
    "sol = scipy.optimize.newton(dispersion_relation(k_perp=ky, k_par=kz, omega_pe=omega_pe, omega_pi=omega_pi, omega_0=omega_0,\n",
    "                                                v_0=v_0, alpha_i=alpha_i, alpha_c_par=alpha_c_par,\n",
    "                                                alpha_c_perp=alpha_c_perp, n_c=n_c), omega_0+1e-3j, tol=1e-15)\n",
    "\n",
    "print(\"omega_k + i gamma = \", sol)\n",
    "print(\"dispersion residual = \", abs(dispersion_relation(k_perp=ky, k_par=kz, omega_pe=omega_pe, omega_pi=omega_pi, omega_0=omega_0,\n",
    "                                                v_0=v_0, alpha_i=alpha_i, alpha_c_par=alpha_c_par,\n",
    "                                                alpha_c_perp=alpha_c_perp, n_c=n_c)(sol)))"
   ]
  },
  {
   "cell_type": "code",
   "execution_count": 8,
   "id": "9a319104-2946-4824-afc1-7f49e274314c",
   "metadata": {},
   "outputs": [],
   "source": [
    "ky_ = np.linspace(5, 62, 50)\n",
    "kz_ = np.sqrt((omega_0**2) / (1-omega_0**2))*ky_\n",
    "sol_ = np.zeros((len(ky_)), dtype=\"complex128\")\n",
    "k_abs = np.zeros((len(ky_)))"
   ]
  },
  {
   "cell_type": "code",
   "execution_count": 9,
   "id": "a70e614f-1245-4099-b0fe-c8e50571b756",
   "metadata": {},
   "outputs": [],
   "source": [
    "for ii in range(len(ky_)):\n",
    "    try:\n",
    "        k_abs[ii] = np.sqrt(ky_[ii]**2 + kz_[ii]**2)\n",
    "        sol_[ii] = scipy.optimize.newton(dispersion_relation(k_perp=ky_[ii], k_par=kz_[ii], omega_pe=omega_pe, omega_pi=omega_pi, omega_0=omega_0,\n",
    "                                                v_0=v_0, alpha_i=alpha_i, alpha_c_par=alpha_c_par,\n",
    "                                                alpha_c_perp=alpha_c_perp, n_c=n_c), omega_0 + 1e-4j, tol=1e-15)\n",
    "        error = abs(dispersion_relation(k_perp=ky_[ii], k_par=kz_[ii], omega_pe=omega_pe, omega_pi=omega_pi, omega_0=omega_0,\n",
    "                                                v_0=v_0, alpha_i=alpha_i, alpha_c_par=alpha_c_par,\n",
    "                                                alpha_c_perp=alpha_c_perp, n_c=n_c)(sol_[ii]))\n",
    "        #print(\"dispersion residual = \", error)\n",
    "        if error > 1e-8:\n",
    "            sol_[ii] =  np.inf + np.inf*1j\n",
    "    except:\n",
    "        sol_[ii] =  np.inf + np.inf*1j\n",
    "        print(\"An exception occurred\")"
   ]
  },
  {
   "cell_type": "code",
   "execution_count": 17,
   "id": "cd3e2080-3dbd-46ae-953c-a34a22b04b12",
   "metadata": {},
   "outputs": [
    {
     "data": {
      "image/png": "[encoded data removed]",
      "text/plain": [
       "<Figure size 600x400 with 2 Axes>"
      ]
     },
     "metadata": {},
     "output_type": "display_data"
    }
   ],
   "source": [
    "fig, ax1 = plt.subplots(figsize=(6, 4))\n",
    "\n",
    "# plot on the left y-axis (ax1)\n",
    "ax1.plot(k_abs, sol_.imag, color=\"black\", linewidth=3)\n",
    "ax1.set_xlabel(r\"$|\\vec{k}|d_{e}$ \", fontsize=15)\n",
    "ax1.set_ylabel(r\"$\\gamma$\", fontsize=17, color=\"black\")\n",
    "ax1.set_ylabel(r'$\\frac{\\gamma}{|\\Omega_{ce}|}$', fontsize=22, labelpad=25, rotation=0, color=\"black\")\n",
    "ax1.tick_params(axis='y', labelcolor=\"black\")\n",
    "ax1.spines['top'].set_visible(False)\n",
    "ax1.spines['right'].set_visible(False)\n",
    "ax1.set_yticks([0, 0.005, 0.01])\n",
    "ax1.set_yticklabels([\"0\", \"0.005\", \"0.01\"])\n",
    "ax1.set_ylim(0)\n",
    "\n",
    "# create a second y-axis sharing the same x-axis\n",
    "ax2 = ax1.twinx()\n",
    "ax2.plot(k_abs, sol_.real, color=\"blue\", ls=\"--\", linewidth=3)\n",
    "ax2.set_ylabel(r'$\\frac{\\omega_r}{|\\Omega_{ce}|}$', fontsize=22, labelpad=20, rotation=0, color=\"blue\")\n",
    "ax2.tick_params(axis='y', labelcolor=\"blue\")\n",
    "ax2.spines['top'].set_visible(False)\n",
    "ax2.set_yticks([0.4, 0.5, 0.6])\n",
    "ax1.set_xlim(10, 70)\n",
    "#ax1.set_xticks([0.2, 0.3, 0.4, 0.5, 0.6, 0.7, 0.8, 0.9])\n",
    "\n",
    "\n",
    "# add grid and layout adjustments\n",
    "ax1.grid(alpha=0.5)\n",
    "fig.tight_layout()\n",
    "\n",
    "# save the combined figure\n",
    "plt.savefig(\"../../../../figs/manuscript/w_r_gamma_oblique_dual_axis_low_anisotropy.png\", dpi=300, bbox_inches='tight')"
   ]
  },
  {
   "cell_type": "code",
   "execution_count": null,
   "id": "f712e73e-3803-44c4-afcb-2cf63459d314",
   "metadata": {},
   "outputs": [],
   "source": []
  },
  {
   "cell_type": "code",
   "execution_count": null,
   "id": "3aa16d76-aa68-41e9-b05d-09bc34b4c2b5",
   "metadata": {},
   "outputs": [],
   "source": []
  }
 ],
 "metadata": {
  "kernelspec": {
   "display_name": "Python 3 (ipykernel)",
   "language": "python",
   "name": "python3"
  },
  "language_info": {
   "codemirror_mode": {
    "name": "ipython",
    "version": 3
   },
   "file_extension": ".py",
   "mimetype": "text/x-python",
   "name": "python",
   "nbconvert_exporter": "python",
   "pygments_lexer": "ipython3",
   "version": "3.9.19"
  }
 },
 "nbformat": 4,
 "nbformat_minor": 5
}
